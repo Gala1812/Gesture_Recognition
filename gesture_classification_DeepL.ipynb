{
 "cells": [
  {
   "cell_type": "markdown",
   "source": [
    "# Import and Install Dependencies"
   ],
   "metadata": {
    "collapsed": false
   },
   "id": "e55f135b85ac441"
  },
  {
   "cell_type": "markdown",
   "source": [
    "### To optimize the training process I will pick up only 5 classes(gestures) from the dataset - money, ok, silence, welcome, rock\n",
    "### I will use the GPU version of TensorFlow 2.0 "
   ],
   "metadata": {
    "collapsed": false
   },
   "id": "7322db58a66e789e"
  },
  {
   "cell_type": "code",
   "execution_count": 2,
   "id": "initial_id",
   "metadata": {
    "collapsed": true,
    "ExecuteTime": {
     "end_time": "2024-01-18T10:48:34.294980Z",
     "start_time": "2024-01-18T10:48:28.083618Z"
    }
   },
   "outputs": [],
   "source": [
    "# Importing statistical Libraries \n",
    "import numpy as np\n",
    "import pandas as pd\n",
    "import matplotlib.pyplot as plt\n",
    "import os\n",
    "\n",
    "# Importing sklearn Libraries\n",
    "from sklearn.preprocessing import LabelEncoder\n",
    "from sklearn.metrics import multilabel_confusion_matrix, accuracy_score\n",
    "\n",
    "\n",
    "# Importing Tensorflow  Libraries\n",
    "import tensorflow as tf\n",
    "from tensorflow.keras.models import Sequential\n",
    "from tensorflow.keras.layers import Dense, LSTM\n",
    "from tensorflow.keras.callbacks import  EarlyStopping, TensorBoard\n",
    "from tensorflow.keras.utils import to_categorical\n",
    "from tensorflow.keras.optimizers.legacy import Adam"
   ]
  },
  {
   "cell_type": "code",
   "outputs": [],
   "source": [
    "# GPU Configuration \n",
    "gpu_devices = tf.config.experimental.list_physical_devices('GPU')\n",
    "for device in gpu_devices:\n",
    "    tf.config.experimental.set_memory_growth(device, True)"
   ],
   "metadata": {
    "collapsed": false,
    "ExecuteTime": {
     "end_time": "2024-01-18T10:48:34.298810Z",
     "start_time": "2024-01-18T10:48:34.295140Z"
    }
   },
   "id": "ee897b8925b198f6",
   "execution_count": 3
  },
  {
   "cell_type": "markdown",
   "source": [
    "# Load the dataset from the CSV files"
   ],
   "metadata": {
    "collapsed": false
   },
   "id": "320dc1483b719692"
  },
  {
   "cell_type": "code",
   "outputs": [],
   "source": [
    "# Load the dataset from the CSV files function and concat the data\n",
    "def concat_data(dir):\n",
    "    all_data = []\n",
    "    \n",
    "    for dirname, _, filenames in os.walk(dir):\n",
    "        \n",
    "        rel_dir = os.path.relpath(dirname, dir)\n",
    "        for filename in sorted(filenames):\n",
    "            if filename.endswith(\".csv\"):\n",
    "                print(os.path.join(dirname, filename))\n",
    "                df = pd.read_csv(os.path.join(dirname, filename))\n",
    "               \n",
    "                # Extracting the subfolder name\n",
    "                # Assuming 'dir' is the parent directory and the immediate subfolder is the label\n",
    "                subfolder_label = rel_dir.split(os.sep)[0]\n",
    "                \n",
    "                # Adding the subfolder label as a new column\n",
    "                df['Label'] = subfolder_label\n",
    "                \n",
    "                # Append the DataFrame to the list\n",
    "                all_data.append(df)\n",
    "                \n",
    "    combined_df = pd.concat(all_data, axis=0, ignore_index=True)         \n",
    "    combined_df.to_csv(output_file, index=False)\n",
    "    \n",
    "    print(f\"Combined CSV saved as {output_file}\")\n",
    "    \n",
    "    return combined_df"
   ],
   "metadata": {
    "collapsed": false,
    "ExecuteTime": {
     "end_time": "2024-01-18T10:48:34.310226Z",
     "start_time": "2024-01-18T10:48:34.297417Z"
    }
   },
   "id": "28833d95dbb07afc",
   "execution_count": 4
  },
  {
   "cell_type": "code",
   "outputs": [],
   "source": [
    "dir = \"/Users/gala/Downloads/dataset_gestures\"\n",
    "output_file = \"combined_nn.csv\""
   ],
   "metadata": {
    "collapsed": false,
    "ExecuteTime": {
     "end_time": "2024-01-18T10:48:34.312560Z",
     "start_time": "2024-01-18T10:48:34.299442Z"
    }
   },
   "id": "4ebd700c7b251c1c",
   "execution_count": 5
  },
  {
   "cell_type": "code",
   "outputs": [
    {
     "name": "stdout",
     "output_type": "stream",
     "text": [
      "/Users/gala/Downloads/dataset_gestures/silence/csv/sample_0001_20220802_112026.csv\n",
      "/Users/gala/Downloads/dataset_gestures/silence/csv/sample_0002_20220802_115520.csv\n",
      "/Users/gala/Downloads/dataset_gestures/silence/csv/sample_0003_20220802_104239.csv\n",
      "/Users/gala/Downloads/dataset_gestures/silence/csv/sample_0004_20220802_123024.csv\n",
      "/Users/gala/Downloads/dataset_gestures/silence/csv/sample_0005_20220826_114357.csv\n",
      "/Users/gala/Downloads/dataset_gestures/silence/csv/sample_0006_20220826_182502.csv\n",
      "/Users/gala/Downloads/dataset_gestures/silence/csv/sample_0007_20220826_185040.csv\n",
      "/Users/gala/Downloads/dataset_gestures/silence/csv/sample_0008_20220909_115919.csv\n",
      "/Users/gala/Downloads/dataset_gestures/ok/csv/sample_0001_20220802_102111.csv\n",
      "/Users/gala/Downloads/dataset_gestures/ok/csv/sample_0002_20220802_121206.csv\n",
      "/Users/gala/Downloads/dataset_gestures/ok/csv/sample_0003_20220802_113550.csv\n",
      "/Users/gala/Downloads/dataset_gestures/ok/csv/sample_0004_20220802_110231.csv\n",
      "/Users/gala/Downloads/dataset_gestures/ok/csv/sample_0005_20220826_115035.csv\n",
      "/Users/gala/Downloads/dataset_gestures/ok/csv/sample_0006_20220826_182948.csv\n",
      "/Users/gala/Downloads/dataset_gestures/ok/csv/sample_0007_20220826_185420.csv\n",
      "/Users/gala/Downloads/dataset_gestures/ok/csv/sample_0008_20220909_120319.csv\n",
      "/Users/gala/Downloads/dataset_gestures/welcome/csv/sample_0001_20220802_115924.csv\n",
      "/Users/gala/Downloads/dataset_gestures/welcome/csv/sample_0002_20220802_123447.csv\n",
      "/Users/gala/Downloads/dataset_gestures/welcome/csv/sample_0003_20220802_105706.csv\n",
      "/Users/gala/Downloads/dataset_gestures/welcome/csv/sample_0004_20220802_112627.csv\n",
      "/Users/gala/Downloads/dataset_gestures/welcome/csv/sample_0005_20220826_113543.csv\n",
      "/Users/gala/Downloads/dataset_gestures/welcome/csv/sample_0006_20220826_175534.csv\n",
      "/Users/gala/Downloads/dataset_gestures/welcome/csv/sample_0007_20220826_184403.csv\n",
      "/Users/gala/Downloads/dataset_gestures/welcome/csv/sample_0008_20220909_114904.csv\n",
      "/Users/gala/Downloads/dataset_gestures/money/csv/sample_0001_20220802_113520.csv\n",
      "/Users/gala/Downloads/dataset_gestures/money/csv/sample_0002_20220802_121123.csv\n",
      "/Users/gala/Downloads/dataset_gestures/money/csv/sample_0003_20220802_102029.csv\n",
      "/Users/gala/Downloads/dataset_gestures/money/csv/sample_0004_20220802_110201.csv\n",
      "/Users/gala/Downloads/dataset_gestures/money/csv/sample_0005_20220826_114933.csv\n",
      "/Users/gala/Downloads/dataset_gestures/money/csv/sample_0006_20220826_182925.csv\n",
      "/Users/gala/Downloads/dataset_gestures/money/csv/sample_0007_20220826_185401.csv\n",
      "/Users/gala/Downloads/dataset_gestures/money/csv/sample_0008_20220909_120257.csv\n",
      "/Users/gala/Downloads/dataset_gestures/rock/csv/sample_0001_20220802_121534.csv\n",
      "/Users/gala/Downloads/dataset_gestures/rock/csv/sample_0002_20220802_110448.csv\n",
      "/Users/gala/Downloads/dataset_gestures/rock/csv/sample_0003_20220802_113933.csv\n",
      "/Users/gala/Downloads/dataset_gestures/rock/csv/sample_0004_20220802_102607.csv\n",
      "/Users/gala/Downloads/dataset_gestures/rock/csv/sample_0005_20220826_115334.csv\n",
      "/Users/gala/Downloads/dataset_gestures/rock/csv/sample_0006_20220826_183303.csv\n",
      "/Users/gala/Downloads/dataset_gestures/rock/csv/sample_0007_20220826_185757.csv\n",
      "/Users/gala/Downloads/dataset_gestures/rock/csv/sample_0008_20220909_120631.csv\n",
      "Combined CSV saved as combined_nn.csv\n"
     ]
    },
    {
     "data": {
      "text/plain": "      frame  pose_NOSE_x  pose_NOSE_y  pose_NOSE_z  pose_NOSE_visibility  \\\n0         1     0.550595     0.184134    -0.225740              0.999390   \n1         2     0.552678     0.185467    -0.175587              0.999365   \n2         3     0.553467     0.185644    -0.159335              0.999257   \n3         4     0.554047     0.185370    -0.176834              0.999187   \n4         5     0.554201     0.185123    -0.183257              0.999120   \n...     ...          ...          ...          ...                   ...   \n5127    139     0.479853     0.246606    -0.408205              0.999992   \n5128    140     0.480103     0.246757    -0.396501              0.999992   \n5129    141     0.480413     0.246897    -0.416447              0.999992   \n5130    142     0.480522     0.246889    -0.436111              0.999992   \n5131    143     0.480787     0.246817    -0.457829              0.999990   \n\n      pose_LEFT_EYE_x  pose_LEFT_EYE_y  pose_LEFT_EYE_z  \\\n0            0.560279         0.161174        -0.189114   \n1            0.561845         0.163136        -0.137902   \n2            0.563104         0.163612        -0.123313   \n3            0.564008         0.163597        -0.140386   \n4            0.564500         0.163647        -0.146963   \n...               ...              ...              ...   \n5127         0.495623         0.226426        -0.362606   \n5128         0.496037         0.226476        -0.351187   \n5129         0.496569         0.226482        -0.368757   \n5130         0.496886         0.226423        -0.392233   \n5131         0.497537         0.226240        -0.413384   \n\n      pose_LEFT_EYE_visibility  pose_RIGHT_EYE_x  ...  \\\n0                     0.999031          0.529116  ...   \n1                     0.999004          0.531556  ...   \n2                     0.998867          0.532347  ...   \n3                     0.998783          0.533256  ...   \n4                     0.998725          0.533496  ...   \n...                        ...               ...  ...   \n5127                  0.999989          0.461418  ...   \n5128                  0.999989          0.461729  ...   \n5129                  0.999989          0.462018  ...   \n5130                  0.999988          0.462077  ...   \n5131                  0.999986          0.462172  ...   \n\n      hand_right_RING_FINGER_TIP_y  hand_right_PINKY_MCP_x  \\\n0                         0.000000                0.000000   \n1                         0.000000                0.000000   \n2                         0.000000                0.000000   \n3                         0.000000                0.000000   \n4                         0.000000                0.000000   \n...                            ...                     ...   \n5127                      0.260396                0.761412   \n5128                      0.252422                0.754017   \n5129                      0.246568                0.745575   \n5130                      0.239519                0.735503   \n5131                      0.230994                0.726378   \n\n      hand_right_PINKY_MCP_y  hand_right_PINKY_PIP_x  hand_right_PINKY_PIP_y  \\\n0                   0.000000                0.000000                0.000000   \n1                   0.000000                0.000000                0.000000   \n2                   0.000000                0.000000                0.000000   \n3                   0.000000                0.000000                0.000000   \n4                   0.000000                0.000000                0.000000   \n...                      ...                     ...                     ...   \n5127                0.246998                0.776820                0.233954   \n5128                0.239912                0.768155                0.225987   \n5129                0.231999                0.758606                0.217575   \n5130                0.225146                0.748129                0.209983   \n5131                0.218901                0.737715                0.202925   \n\n      hand_right_PINKY_DIP_x  hand_right_PINKY_DIP_y  hand_right_PINKY_TIP_x  \\\n0                   0.000000                0.000000                0.000000   \n1                   0.000000                0.000000                0.000000   \n2                   0.000000                0.000000                0.000000   \n3                   0.000000                0.000000                0.000000   \n4                   0.000000                0.000000                0.000000   \n...                      ...                     ...                     ...   \n5127                0.786720                0.228214                0.794455   \n5128                0.777167                0.219707                0.784920   \n5129                0.766986                0.210068                0.774339   \n5130                0.756102                0.201894                0.763053   \n5131                0.745415                0.193847                0.752199   \n\n      hand_right_PINKY_TIP_y    Label  \n0                   0.000000  silence  \n1                   0.000000  silence  \n2                   0.000000  silence  \n3                   0.000000  silence  \n4                   0.000000  silence  \n...                      ...      ...  \n5127                0.221505     rock  \n5128                0.212458     rock  \n5129                0.201902     rock  \n5130                0.193088     rock  \n5131                0.184027     rock  \n\n[5132 rows x 146 columns]",
      "text/html": "<div>\n<style scoped>\n    .dataframe tbody tr th:only-of-type {\n        vertical-align: middle;\n    }\n\n    .dataframe tbody tr th {\n        vertical-align: top;\n    }\n\n    .dataframe thead th {\n        text-align: right;\n    }\n</style>\n<table border=\"1\" class=\"dataframe\">\n  <thead>\n    <tr style=\"text-align: right;\">\n      <th></th>\n      <th>frame</th>\n      <th>pose_NOSE_x</th>\n      <th>pose_NOSE_y</th>\n      <th>pose_NOSE_z</th>\n      <th>pose_NOSE_visibility</th>\n      <th>pose_LEFT_EYE_x</th>\n      <th>pose_LEFT_EYE_y</th>\n      <th>pose_LEFT_EYE_z</th>\n      <th>pose_LEFT_EYE_visibility</th>\n      <th>pose_RIGHT_EYE_x</th>\n      <th>...</th>\n      <th>hand_right_RING_FINGER_TIP_y</th>\n      <th>hand_right_PINKY_MCP_x</th>\n      <th>hand_right_PINKY_MCP_y</th>\n      <th>hand_right_PINKY_PIP_x</th>\n      <th>hand_right_PINKY_PIP_y</th>\n      <th>hand_right_PINKY_DIP_x</th>\n      <th>hand_right_PINKY_DIP_y</th>\n      <th>hand_right_PINKY_TIP_x</th>\n      <th>hand_right_PINKY_TIP_y</th>\n      <th>Label</th>\n    </tr>\n  </thead>\n  <tbody>\n    <tr>\n      <th>0</th>\n      <td>1</td>\n      <td>0.550595</td>\n      <td>0.184134</td>\n      <td>-0.225740</td>\n      <td>0.999390</td>\n      <td>0.560279</td>\n      <td>0.161174</td>\n      <td>-0.189114</td>\n      <td>0.999031</td>\n      <td>0.529116</td>\n      <td>...</td>\n      <td>0.000000</td>\n      <td>0.000000</td>\n      <td>0.000000</td>\n      <td>0.000000</td>\n      <td>0.000000</td>\n      <td>0.000000</td>\n      <td>0.000000</td>\n      <td>0.000000</td>\n      <td>0.000000</td>\n      <td>silence</td>\n    </tr>\n    <tr>\n      <th>1</th>\n      <td>2</td>\n      <td>0.552678</td>\n      <td>0.185467</td>\n      <td>-0.175587</td>\n      <td>0.999365</td>\n      <td>0.561845</td>\n      <td>0.163136</td>\n      <td>-0.137902</td>\n      <td>0.999004</td>\n      <td>0.531556</td>\n      <td>...</td>\n      <td>0.000000</td>\n      <td>0.000000</td>\n      <td>0.000000</td>\n      <td>0.000000</td>\n      <td>0.000000</td>\n      <td>0.000000</td>\n      <td>0.000000</td>\n      <td>0.000000</td>\n      <td>0.000000</td>\n      <td>silence</td>\n    </tr>\n    <tr>\n      <th>2</th>\n      <td>3</td>\n      <td>0.553467</td>\n      <td>0.185644</td>\n      <td>-0.159335</td>\n      <td>0.999257</td>\n      <td>0.563104</td>\n      <td>0.163612</td>\n      <td>-0.123313</td>\n      <td>0.998867</td>\n      <td>0.532347</td>\n      <td>...</td>\n      <td>0.000000</td>\n      <td>0.000000</td>\n      <td>0.000000</td>\n      <td>0.000000</td>\n      <td>0.000000</td>\n      <td>0.000000</td>\n      <td>0.000000</td>\n      <td>0.000000</td>\n      <td>0.000000</td>\n      <td>silence</td>\n    </tr>\n    <tr>\n      <th>3</th>\n      <td>4</td>\n      <td>0.554047</td>\n      <td>0.185370</td>\n      <td>-0.176834</td>\n      <td>0.999187</td>\n      <td>0.564008</td>\n      <td>0.163597</td>\n      <td>-0.140386</td>\n      <td>0.998783</td>\n      <td>0.533256</td>\n      <td>...</td>\n      <td>0.000000</td>\n      <td>0.000000</td>\n      <td>0.000000</td>\n      <td>0.000000</td>\n      <td>0.000000</td>\n      <td>0.000000</td>\n      <td>0.000000</td>\n      <td>0.000000</td>\n      <td>0.000000</td>\n      <td>silence</td>\n    </tr>\n    <tr>\n      <th>4</th>\n      <td>5</td>\n      <td>0.554201</td>\n      <td>0.185123</td>\n      <td>-0.183257</td>\n      <td>0.999120</td>\n      <td>0.564500</td>\n      <td>0.163647</td>\n      <td>-0.146963</td>\n      <td>0.998725</td>\n      <td>0.533496</td>\n      <td>...</td>\n      <td>0.000000</td>\n      <td>0.000000</td>\n      <td>0.000000</td>\n      <td>0.000000</td>\n      <td>0.000000</td>\n      <td>0.000000</td>\n      <td>0.000000</td>\n      <td>0.000000</td>\n      <td>0.000000</td>\n      <td>silence</td>\n    </tr>\n    <tr>\n      <th>...</th>\n      <td>...</td>\n      <td>...</td>\n      <td>...</td>\n      <td>...</td>\n      <td>...</td>\n      <td>...</td>\n      <td>...</td>\n      <td>...</td>\n      <td>...</td>\n      <td>...</td>\n      <td>...</td>\n      <td>...</td>\n      <td>...</td>\n      <td>...</td>\n      <td>...</td>\n      <td>...</td>\n      <td>...</td>\n      <td>...</td>\n      <td>...</td>\n      <td>...</td>\n      <td>...</td>\n    </tr>\n    <tr>\n      <th>5127</th>\n      <td>139</td>\n      <td>0.479853</td>\n      <td>0.246606</td>\n      <td>-0.408205</td>\n      <td>0.999992</td>\n      <td>0.495623</td>\n      <td>0.226426</td>\n      <td>-0.362606</td>\n      <td>0.999989</td>\n      <td>0.461418</td>\n      <td>...</td>\n      <td>0.260396</td>\n      <td>0.761412</td>\n      <td>0.246998</td>\n      <td>0.776820</td>\n      <td>0.233954</td>\n      <td>0.786720</td>\n      <td>0.228214</td>\n      <td>0.794455</td>\n      <td>0.221505</td>\n      <td>rock</td>\n    </tr>\n    <tr>\n      <th>5128</th>\n      <td>140</td>\n      <td>0.480103</td>\n      <td>0.246757</td>\n      <td>-0.396501</td>\n      <td>0.999992</td>\n      <td>0.496037</td>\n      <td>0.226476</td>\n      <td>-0.351187</td>\n      <td>0.999989</td>\n      <td>0.461729</td>\n      <td>...</td>\n      <td>0.252422</td>\n      <td>0.754017</td>\n      <td>0.239912</td>\n      <td>0.768155</td>\n      <td>0.225987</td>\n      <td>0.777167</td>\n      <td>0.219707</td>\n      <td>0.784920</td>\n      <td>0.212458</td>\n      <td>rock</td>\n    </tr>\n    <tr>\n      <th>5129</th>\n      <td>141</td>\n      <td>0.480413</td>\n      <td>0.246897</td>\n      <td>-0.416447</td>\n      <td>0.999992</td>\n      <td>0.496569</td>\n      <td>0.226482</td>\n      <td>-0.368757</td>\n      <td>0.999989</td>\n      <td>0.462018</td>\n      <td>...</td>\n      <td>0.246568</td>\n      <td>0.745575</td>\n      <td>0.231999</td>\n      <td>0.758606</td>\n      <td>0.217575</td>\n      <td>0.766986</td>\n      <td>0.210068</td>\n      <td>0.774339</td>\n      <td>0.201902</td>\n      <td>rock</td>\n    </tr>\n    <tr>\n      <th>5130</th>\n      <td>142</td>\n      <td>0.480522</td>\n      <td>0.246889</td>\n      <td>-0.436111</td>\n      <td>0.999992</td>\n      <td>0.496886</td>\n      <td>0.226423</td>\n      <td>-0.392233</td>\n      <td>0.999988</td>\n      <td>0.462077</td>\n      <td>...</td>\n      <td>0.239519</td>\n      <td>0.735503</td>\n      <td>0.225146</td>\n      <td>0.748129</td>\n      <td>0.209983</td>\n      <td>0.756102</td>\n      <td>0.201894</td>\n      <td>0.763053</td>\n      <td>0.193088</td>\n      <td>rock</td>\n    </tr>\n    <tr>\n      <th>5131</th>\n      <td>143</td>\n      <td>0.480787</td>\n      <td>0.246817</td>\n      <td>-0.457829</td>\n      <td>0.999990</td>\n      <td>0.497537</td>\n      <td>0.226240</td>\n      <td>-0.413384</td>\n      <td>0.999986</td>\n      <td>0.462172</td>\n      <td>...</td>\n      <td>0.230994</td>\n      <td>0.726378</td>\n      <td>0.218901</td>\n      <td>0.737715</td>\n      <td>0.202925</td>\n      <td>0.745415</td>\n      <td>0.193847</td>\n      <td>0.752199</td>\n      <td>0.184027</td>\n      <td>rock</td>\n    </tr>\n  </tbody>\n</table>\n<p>5132 rows × 146 columns</p>\n</div>"
     },
     "execution_count": 6,
     "metadata": {},
     "output_type": "execute_result"
    }
   ],
   "source": [
    "# apply the function\n",
    "concat_data(\"/Users/gala/Downloads/dataset_gestures\")"
   ],
   "metadata": {
    "collapsed": false,
    "ExecuteTime": {
     "end_time": "2024-01-18T10:48:34.700639Z",
     "start_time": "2024-01-18T10:48:34.302926Z"
    }
   },
   "id": "58d577a6c72a6bd3",
   "execution_count": 6
  },
  {
   "cell_type": "code",
   "outputs": [],
   "source": [
    "# read the csv file\n",
    "df = pd.read_csv(\"combined_nn.csv\")"
   ],
   "metadata": {
    "collapsed": false,
    "ExecuteTime": {
     "end_time": "2024-01-18T10:48:34.765105Z",
     "start_time": "2024-01-18T10:48:34.700008Z"
    }
   },
   "id": "27a5a1ec3c312c6f",
   "execution_count": 7
  },
  {
   "cell_type": "markdown",
   "source": [
    "# Investigate the Data"
   ],
   "metadata": {
    "collapsed": false
   },
   "id": "7441f8052413ac9b"
  },
  {
   "cell_type": "code",
   "outputs": [
    {
     "data": {
      "text/plain": "   frame  pose_NOSE_x  pose_NOSE_y  pose_NOSE_z  pose_NOSE_visibility  \\\n0      1     0.550595     0.184134    -0.225740              0.999390   \n1      2     0.552678     0.185467    -0.175587              0.999365   \n2      3     0.553467     0.185644    -0.159335              0.999257   \n3      4     0.554047     0.185370    -0.176834              0.999187   \n4      5     0.554201     0.185123    -0.183257              0.999120   \n\n   pose_LEFT_EYE_x  pose_LEFT_EYE_y  pose_LEFT_EYE_z  \\\n0         0.560279         0.161174        -0.189114   \n1         0.561845         0.163136        -0.137902   \n2         0.563104         0.163612        -0.123313   \n3         0.564008         0.163597        -0.140386   \n4         0.564500         0.163647        -0.146963   \n\n   pose_LEFT_EYE_visibility  pose_RIGHT_EYE_x  ...  \\\n0                  0.999031          0.529116  ...   \n1                  0.999004          0.531556  ...   \n2                  0.998867          0.532347  ...   \n3                  0.998783          0.533256  ...   \n4                  0.998725          0.533496  ...   \n\n   hand_right_RING_FINGER_TIP_y  hand_right_PINKY_MCP_x  \\\n0                           0.0                     0.0   \n1                           0.0                     0.0   \n2                           0.0                     0.0   \n3                           0.0                     0.0   \n4                           0.0                     0.0   \n\n   hand_right_PINKY_MCP_y  hand_right_PINKY_PIP_x  hand_right_PINKY_PIP_y  \\\n0                     0.0                     0.0                     0.0   \n1                     0.0                     0.0                     0.0   \n2                     0.0                     0.0                     0.0   \n3                     0.0                     0.0                     0.0   \n4                     0.0                     0.0                     0.0   \n\n   hand_right_PINKY_DIP_x  hand_right_PINKY_DIP_y  hand_right_PINKY_TIP_x  \\\n0                     0.0                     0.0                     0.0   \n1                     0.0                     0.0                     0.0   \n2                     0.0                     0.0                     0.0   \n3                     0.0                     0.0                     0.0   \n4                     0.0                     0.0                     0.0   \n\n   hand_right_PINKY_TIP_y    Label  \n0                     0.0  silence  \n1                     0.0  silence  \n2                     0.0  silence  \n3                     0.0  silence  \n4                     0.0  silence  \n\n[5 rows x 146 columns]",
      "text/html": "<div>\n<style scoped>\n    .dataframe tbody tr th:only-of-type {\n        vertical-align: middle;\n    }\n\n    .dataframe tbody tr th {\n        vertical-align: top;\n    }\n\n    .dataframe thead th {\n        text-align: right;\n    }\n</style>\n<table border=\"1\" class=\"dataframe\">\n  <thead>\n    <tr style=\"text-align: right;\">\n      <th></th>\n      <th>frame</th>\n      <th>pose_NOSE_x</th>\n      <th>pose_NOSE_y</th>\n      <th>pose_NOSE_z</th>\n      <th>pose_NOSE_visibility</th>\n      <th>pose_LEFT_EYE_x</th>\n      <th>pose_LEFT_EYE_y</th>\n      <th>pose_LEFT_EYE_z</th>\n      <th>pose_LEFT_EYE_visibility</th>\n      <th>pose_RIGHT_EYE_x</th>\n      <th>...</th>\n      <th>hand_right_RING_FINGER_TIP_y</th>\n      <th>hand_right_PINKY_MCP_x</th>\n      <th>hand_right_PINKY_MCP_y</th>\n      <th>hand_right_PINKY_PIP_x</th>\n      <th>hand_right_PINKY_PIP_y</th>\n      <th>hand_right_PINKY_DIP_x</th>\n      <th>hand_right_PINKY_DIP_y</th>\n      <th>hand_right_PINKY_TIP_x</th>\n      <th>hand_right_PINKY_TIP_y</th>\n      <th>Label</th>\n    </tr>\n  </thead>\n  <tbody>\n    <tr>\n      <th>0</th>\n      <td>1</td>\n      <td>0.550595</td>\n      <td>0.184134</td>\n      <td>-0.225740</td>\n      <td>0.999390</td>\n      <td>0.560279</td>\n      <td>0.161174</td>\n      <td>-0.189114</td>\n      <td>0.999031</td>\n      <td>0.529116</td>\n      <td>...</td>\n      <td>0.0</td>\n      <td>0.0</td>\n      <td>0.0</td>\n      <td>0.0</td>\n      <td>0.0</td>\n      <td>0.0</td>\n      <td>0.0</td>\n      <td>0.0</td>\n      <td>0.0</td>\n      <td>silence</td>\n    </tr>\n    <tr>\n      <th>1</th>\n      <td>2</td>\n      <td>0.552678</td>\n      <td>0.185467</td>\n      <td>-0.175587</td>\n      <td>0.999365</td>\n      <td>0.561845</td>\n      <td>0.163136</td>\n      <td>-0.137902</td>\n      <td>0.999004</td>\n      <td>0.531556</td>\n      <td>...</td>\n      <td>0.0</td>\n      <td>0.0</td>\n      <td>0.0</td>\n      <td>0.0</td>\n      <td>0.0</td>\n      <td>0.0</td>\n      <td>0.0</td>\n      <td>0.0</td>\n      <td>0.0</td>\n      <td>silence</td>\n    </tr>\n    <tr>\n      <th>2</th>\n      <td>3</td>\n      <td>0.553467</td>\n      <td>0.185644</td>\n      <td>-0.159335</td>\n      <td>0.999257</td>\n      <td>0.563104</td>\n      <td>0.163612</td>\n      <td>-0.123313</td>\n      <td>0.998867</td>\n      <td>0.532347</td>\n      <td>...</td>\n      <td>0.0</td>\n      <td>0.0</td>\n      <td>0.0</td>\n      <td>0.0</td>\n      <td>0.0</td>\n      <td>0.0</td>\n      <td>0.0</td>\n      <td>0.0</td>\n      <td>0.0</td>\n      <td>silence</td>\n    </tr>\n    <tr>\n      <th>3</th>\n      <td>4</td>\n      <td>0.554047</td>\n      <td>0.185370</td>\n      <td>-0.176834</td>\n      <td>0.999187</td>\n      <td>0.564008</td>\n      <td>0.163597</td>\n      <td>-0.140386</td>\n      <td>0.998783</td>\n      <td>0.533256</td>\n      <td>...</td>\n      <td>0.0</td>\n      <td>0.0</td>\n      <td>0.0</td>\n      <td>0.0</td>\n      <td>0.0</td>\n      <td>0.0</td>\n      <td>0.0</td>\n      <td>0.0</td>\n      <td>0.0</td>\n      <td>silence</td>\n    </tr>\n    <tr>\n      <th>4</th>\n      <td>5</td>\n      <td>0.554201</td>\n      <td>0.185123</td>\n      <td>-0.183257</td>\n      <td>0.999120</td>\n      <td>0.564500</td>\n      <td>0.163647</td>\n      <td>-0.146963</td>\n      <td>0.998725</td>\n      <td>0.533496</td>\n      <td>...</td>\n      <td>0.0</td>\n      <td>0.0</td>\n      <td>0.0</td>\n      <td>0.0</td>\n      <td>0.0</td>\n      <td>0.0</td>\n      <td>0.0</td>\n      <td>0.0</td>\n      <td>0.0</td>\n      <td>silence</td>\n    </tr>\n  </tbody>\n</table>\n<p>5 rows × 146 columns</p>\n</div>"
     },
     "execution_count": 8,
     "metadata": {},
     "output_type": "execute_result"
    }
   ],
   "source": [
    "# print the first 5 rows\n",
    "df.head()"
   ],
   "metadata": {
    "collapsed": false,
    "ExecuteTime": {
     "end_time": "2024-01-18T10:48:34.767084Z",
     "start_time": "2024-01-18T10:48:34.740345Z"
    }
   },
   "id": "b9e2cd6fac25b2a",
   "execution_count": 8
  },
  {
   "cell_type": "code",
   "outputs": [
    {
     "name": "stdout",
     "output_type": "stream",
     "text": [
      "<class 'pandas.core.frame.DataFrame'>\n",
      "RangeIndex: 5132 entries, 0 to 5131\n",
      "Columns: 146 entries, frame to Label\n",
      "dtypes: float64(144), int64(1), object(1)\n",
      "memory usage: 5.7+ MB\n"
     ]
    }
   ],
   "source": [
    "# get the shape of the data\n",
    "df.info()"
   ],
   "metadata": {
    "collapsed": false,
    "ExecuteTime": {
     "end_time": "2024-01-18T10:48:34.846233Z",
     "start_time": "2024-01-18T10:48:34.751470Z"
    }
   },
   "id": "abe9d663ebdfa796",
   "execution_count": 9
  },
  {
   "cell_type": "code",
   "outputs": [
    {
     "data": {
      "text/plain": "             frame  pose_NOSE_x  pose_NOSE_y  pose_NOSE_z  \\\ncount  5132.000000  5132.000000  5132.000000  5132.000000   \nmean     68.543648     0.493018     0.195115    -0.285693   \nstd      41.989621     0.079328     0.049965     0.097808   \nmin       1.000000     0.201593     0.108912    -0.581637   \n25%      33.000000     0.463542     0.153466    -0.351126   \n50%      65.000000     0.491457     0.187565    -0.280786   \n75%     104.000000     0.519844     0.238018    -0.217106   \nmax     149.000000     0.761661     0.316511     0.038356   \n\n       pose_NOSE_visibility  pose_LEFT_EYE_x  pose_LEFT_EYE_y  \\\ncount           5132.000000      5132.000000      5132.000000   \nmean               0.999890         0.511267         0.170927   \nstd                0.000259         0.079323         0.049966   \nmin                0.997050         0.215255         0.086373   \n25%                0.999908         0.482493         0.126857   \n50%                0.999974         0.512888         0.163647   \n75%                0.999993         0.540181         0.212125   \nmax                1.000000         0.759793         0.288097   \n\n       pose_LEFT_EYE_z  pose_LEFT_EYE_visibility  pose_RIGHT_EYE_x  ...  \\\ncount      5132.000000               5132.000000       5132.000000  ...   \nmean         -0.261171                  0.999854          0.474821  ...   \nstd           0.097077                  0.000326          0.077282  ...   \nmin          -0.554180                  0.996736          0.197089  ...   \n25%          -0.327038                  0.999885          0.446358  ...   \n50%          -0.258288                  0.999965          0.470768  ...   \n75%          -0.190967                  0.999992          0.498631  ...   \nmax           0.067401                  1.000000          0.741684  ...   \n\n       hand_right_RING_FINGER_TIP_x  hand_right_RING_FINGER_TIP_y  \\\ncount                   5132.000000                   5132.000000   \nmean                       0.600572                      0.390793   \nstd                        0.179162                      0.203830   \nmin                        0.000000                      0.000000   \n25%                        0.522359                      0.247980   \n50%                        0.616186                      0.350245   \n75%                        0.703791                      0.476743   \nmax                        1.004769                      0.867124   \n\n       hand_right_PINKY_MCP_x  hand_right_PINKY_MCP_y  hand_right_PINKY_PIP_x  \\\ncount             5132.000000             5132.000000             5132.000000   \nmean                 0.601963                0.408220                0.603281   \nstd                  0.170230                0.191497                0.174392   \nmin                  0.000000                0.000000                0.000000   \n25%                  0.541853                0.259090                0.536148   \n50%                  0.624058                0.373303                0.626900   \n75%                  0.701194                0.519892                0.708943   \nmax                  0.962095                0.873313                0.977439   \n\n       hand_right_PINKY_PIP_y  hand_right_PINKY_DIP_x  hand_right_PINKY_DIP_y  \\\ncount             5132.000000             5132.000000             5132.000000   \nmean                 0.397020                0.604792                0.390924   \nstd                  0.201030                0.176504                0.205926   \nmin                  0.000000                0.000000                0.000000   \n25%                  0.235188                0.534578                0.219663   \n50%                  0.356425                0.627888                0.350982   \n75%                  0.498565                0.712602                0.490551   \nmax                  0.874460                0.987162                0.865075   \n\n       hand_right_PINKY_TIP_x  hand_right_PINKY_TIP_y  \ncount             5132.000000             5132.000000  \nmean                 0.606469                0.385566  \nstd                  0.178182                0.210257  \nmin                  0.000000                0.000000  \n25%                  0.533753                0.207413  \n50%                  0.627696                0.352791  \n75%                  0.716843                0.488238  \nmax                  0.995278                0.864347  \n\n[8 rows x 145 columns]",
      "text/html": "<div>\n<style scoped>\n    .dataframe tbody tr th:only-of-type {\n        vertical-align: middle;\n    }\n\n    .dataframe tbody tr th {\n        vertical-align: top;\n    }\n\n    .dataframe thead th {\n        text-align: right;\n    }\n</style>\n<table border=\"1\" class=\"dataframe\">\n  <thead>\n    <tr style=\"text-align: right;\">\n      <th></th>\n      <th>frame</th>\n      <th>pose_NOSE_x</th>\n      <th>pose_NOSE_y</th>\n      <th>pose_NOSE_z</th>\n      <th>pose_NOSE_visibility</th>\n      <th>pose_LEFT_EYE_x</th>\n      <th>pose_LEFT_EYE_y</th>\n      <th>pose_LEFT_EYE_z</th>\n      <th>pose_LEFT_EYE_visibility</th>\n      <th>pose_RIGHT_EYE_x</th>\n      <th>...</th>\n      <th>hand_right_RING_FINGER_TIP_x</th>\n      <th>hand_right_RING_FINGER_TIP_y</th>\n      <th>hand_right_PINKY_MCP_x</th>\n      <th>hand_right_PINKY_MCP_y</th>\n      <th>hand_right_PINKY_PIP_x</th>\n      <th>hand_right_PINKY_PIP_y</th>\n      <th>hand_right_PINKY_DIP_x</th>\n      <th>hand_right_PINKY_DIP_y</th>\n      <th>hand_right_PINKY_TIP_x</th>\n      <th>hand_right_PINKY_TIP_y</th>\n    </tr>\n  </thead>\n  <tbody>\n    <tr>\n      <th>count</th>\n      <td>5132.000000</td>\n      <td>5132.000000</td>\n      <td>5132.000000</td>\n      <td>5132.000000</td>\n      <td>5132.000000</td>\n      <td>5132.000000</td>\n      <td>5132.000000</td>\n      <td>5132.000000</td>\n      <td>5132.000000</td>\n      <td>5132.000000</td>\n      <td>...</td>\n      <td>5132.000000</td>\n      <td>5132.000000</td>\n      <td>5132.000000</td>\n      <td>5132.000000</td>\n      <td>5132.000000</td>\n      <td>5132.000000</td>\n      <td>5132.000000</td>\n      <td>5132.000000</td>\n      <td>5132.000000</td>\n      <td>5132.000000</td>\n    </tr>\n    <tr>\n      <th>mean</th>\n      <td>68.543648</td>\n      <td>0.493018</td>\n      <td>0.195115</td>\n      <td>-0.285693</td>\n      <td>0.999890</td>\n      <td>0.511267</td>\n      <td>0.170927</td>\n      <td>-0.261171</td>\n      <td>0.999854</td>\n      <td>0.474821</td>\n      <td>...</td>\n      <td>0.600572</td>\n      <td>0.390793</td>\n      <td>0.601963</td>\n      <td>0.408220</td>\n      <td>0.603281</td>\n      <td>0.397020</td>\n      <td>0.604792</td>\n      <td>0.390924</td>\n      <td>0.606469</td>\n      <td>0.385566</td>\n    </tr>\n    <tr>\n      <th>std</th>\n      <td>41.989621</td>\n      <td>0.079328</td>\n      <td>0.049965</td>\n      <td>0.097808</td>\n      <td>0.000259</td>\n      <td>0.079323</td>\n      <td>0.049966</td>\n      <td>0.097077</td>\n      <td>0.000326</td>\n      <td>0.077282</td>\n      <td>...</td>\n      <td>0.179162</td>\n      <td>0.203830</td>\n      <td>0.170230</td>\n      <td>0.191497</td>\n      <td>0.174392</td>\n      <td>0.201030</td>\n      <td>0.176504</td>\n      <td>0.205926</td>\n      <td>0.178182</td>\n      <td>0.210257</td>\n    </tr>\n    <tr>\n      <th>min</th>\n      <td>1.000000</td>\n      <td>0.201593</td>\n      <td>0.108912</td>\n      <td>-0.581637</td>\n      <td>0.997050</td>\n      <td>0.215255</td>\n      <td>0.086373</td>\n      <td>-0.554180</td>\n      <td>0.996736</td>\n      <td>0.197089</td>\n      <td>...</td>\n      <td>0.000000</td>\n      <td>0.000000</td>\n      <td>0.000000</td>\n      <td>0.000000</td>\n      <td>0.000000</td>\n      <td>0.000000</td>\n      <td>0.000000</td>\n      <td>0.000000</td>\n      <td>0.000000</td>\n      <td>0.000000</td>\n    </tr>\n    <tr>\n      <th>25%</th>\n      <td>33.000000</td>\n      <td>0.463542</td>\n      <td>0.153466</td>\n      <td>-0.351126</td>\n      <td>0.999908</td>\n      <td>0.482493</td>\n      <td>0.126857</td>\n      <td>-0.327038</td>\n      <td>0.999885</td>\n      <td>0.446358</td>\n      <td>...</td>\n      <td>0.522359</td>\n      <td>0.247980</td>\n      <td>0.541853</td>\n      <td>0.259090</td>\n      <td>0.536148</td>\n      <td>0.235188</td>\n      <td>0.534578</td>\n      <td>0.219663</td>\n      <td>0.533753</td>\n      <td>0.207413</td>\n    </tr>\n    <tr>\n      <th>50%</th>\n      <td>65.000000</td>\n      <td>0.491457</td>\n      <td>0.187565</td>\n      <td>-0.280786</td>\n      <td>0.999974</td>\n      <td>0.512888</td>\n      <td>0.163647</td>\n      <td>-0.258288</td>\n      <td>0.999965</td>\n      <td>0.470768</td>\n      <td>...</td>\n      <td>0.616186</td>\n      <td>0.350245</td>\n      <td>0.624058</td>\n      <td>0.373303</td>\n      <td>0.626900</td>\n      <td>0.356425</td>\n      <td>0.627888</td>\n      <td>0.350982</td>\n      <td>0.627696</td>\n      <td>0.352791</td>\n    </tr>\n    <tr>\n      <th>75%</th>\n      <td>104.000000</td>\n      <td>0.519844</td>\n      <td>0.238018</td>\n      <td>-0.217106</td>\n      <td>0.999993</td>\n      <td>0.540181</td>\n      <td>0.212125</td>\n      <td>-0.190967</td>\n      <td>0.999992</td>\n      <td>0.498631</td>\n      <td>...</td>\n      <td>0.703791</td>\n      <td>0.476743</td>\n      <td>0.701194</td>\n      <td>0.519892</td>\n      <td>0.708943</td>\n      <td>0.498565</td>\n      <td>0.712602</td>\n      <td>0.490551</td>\n      <td>0.716843</td>\n      <td>0.488238</td>\n    </tr>\n    <tr>\n      <th>max</th>\n      <td>149.000000</td>\n      <td>0.761661</td>\n      <td>0.316511</td>\n      <td>0.038356</td>\n      <td>1.000000</td>\n      <td>0.759793</td>\n      <td>0.288097</td>\n      <td>0.067401</td>\n      <td>1.000000</td>\n      <td>0.741684</td>\n      <td>...</td>\n      <td>1.004769</td>\n      <td>0.867124</td>\n      <td>0.962095</td>\n      <td>0.873313</td>\n      <td>0.977439</td>\n      <td>0.874460</td>\n      <td>0.987162</td>\n      <td>0.865075</td>\n      <td>0.995278</td>\n      <td>0.864347</td>\n    </tr>\n  </tbody>\n</table>\n<p>8 rows × 145 columns</p>\n</div>"
     },
     "execution_count": 10,
     "metadata": {},
     "output_type": "execute_result"
    }
   ],
   "source": [
    "# get the statistical measures\n",
    "df.describe()"
   ],
   "metadata": {
    "collapsed": false,
    "ExecuteTime": {
     "end_time": "2024-01-18T10:48:35.206029Z",
     "start_time": "2024-01-18T10:48:35.117871Z"
    }
   },
   "id": "9d06b0e9c54c37b7",
   "execution_count": 10
  },
  {
   "cell_type": "code",
   "outputs": [
    {
     "data": {
      "text/plain": "Label\nmoney      1028\nok         1027\nsilence    1026\nwelcome    1026\nrock       1025\nName: count, dtype: int64"
     },
     "execution_count": 11,
     "metadata": {},
     "output_type": "execute_result"
    }
   ],
   "source": [
    "# check the target values\n",
    "df['Label'].value_counts()"
   ],
   "metadata": {
    "collapsed": false,
    "ExecuteTime": {
     "end_time": "2024-01-18T10:48:35.726617Z",
     "start_time": "2024-01-18T10:48:35.685261Z"
    }
   },
   "id": "392f8fbf177c0f7f",
   "execution_count": 11
  },
  {
   "cell_type": "code",
   "outputs": [
    {
     "data": {
      "text/plain": "<Axes: xlabel='Label'>"
     },
     "execution_count": 12,
     "metadata": {},
     "output_type": "execute_result"
    },
    {
     "data": {
      "text/plain": "<Figure size 640x480 with 1 Axes>",
      "image/png": "[encoded data removed]"
     },
     "metadata": {},
     "output_type": "display_data"
    }
   ],
   "source": [
    "# visualize the count of target values\n",
    "df['Label'].value_counts().plot(kind='bar')"
   ],
   "metadata": {
    "collapsed": false,
    "ExecuteTime": {
     "end_time": "2024-01-18T10:48:37.053337Z",
     "start_time": "2024-01-18T10:48:36.823532Z"
    }
   },
   "id": "ea7a55458e1c1137",
   "execution_count": 12
  },
  {
   "cell_type": "code",
   "outputs": [
    {
     "data": {
      "text/plain": "<Axes: ylabel='count'>"
     },
     "execution_count": 13,
     "metadata": {},
     "output_type": "execute_result"
    },
    {
     "data": {
      "text/plain": "<Figure size 640x480 with 1 Axes>",
      "image/png": "[encoded data removed]"
     },
     "metadata": {},
     "output_type": "display_data"
    }
   ],
   "source": [
    "df['Label'].value_counts().plot(kind='pie')"
   ],
   "metadata": {
    "collapsed": false,
    "ExecuteTime": {
     "end_time": "2024-01-18T10:48:37.489455Z",
     "start_time": "2024-01-18T10:48:37.418825Z"
    }
   },
   "id": "64addc6c19519bcc",
   "execution_count": 13
  },
  {
   "cell_type": "markdown",
   "source": [
    "Based on the above info, we can see that the data is balanced"
   ],
   "metadata": {
    "collapsed": false
   },
   "id": "cb03880d1cb006b9"
  },
  {
   "cell_type": "code",
   "outputs": [
    {
     "data": {
      "text/plain": "frame                     0\npose_NOSE_x               0\npose_NOSE_y               0\npose_NOSE_z               0\npose_NOSE_visibility      0\n                         ..\nhand_right_PINKY_DIP_x    0\nhand_right_PINKY_DIP_y    0\nhand_right_PINKY_TIP_x    0\nhand_right_PINKY_TIP_y    0\nLabel                     0\nLength: 146, dtype: int64"
     },
     "execution_count": 14,
     "metadata": {},
     "output_type": "execute_result"
    }
   ],
   "source": [
    "# check for missing values\n",
    "df.isnull().sum()"
   ],
   "metadata": {
    "collapsed": false,
    "ExecuteTime": {
     "end_time": "2024-01-18T10:48:38.426360Z",
     "start_time": "2024-01-18T10:48:38.390015Z"
    }
   },
   "id": "ade2dbd6ad440019",
   "execution_count": 14
  },
  {
   "cell_type": "markdown",
   "source": [
    "Based on the above information, we can see that there are no missing values in the dataset"
   ],
   "metadata": {
    "collapsed": false
   },
   "id": "d4931ba3e9502394"
  },
  {
   "cell_type": "code",
   "outputs": [
    {
     "data": {
      "text/plain": "frame                      149\npose_NOSE_x               5041\npose_NOSE_y               4986\npose_NOSE_z               5092\npose_NOSE_visibility       634\n                          ... \nhand_right_PINKY_DIP_x    4594\nhand_right_PINKY_DIP_y    4585\nhand_right_PINKY_TIP_x    4590\nhand_right_PINKY_TIP_y    4588\nLabel                        5\nLength: 146, dtype: int64"
     },
     "execution_count": 15,
     "metadata": {},
     "output_type": "execute_result"
    }
   ],
   "source": [
    "# get unique values for each column\n",
    "df.nunique()"
   ],
   "metadata": {
    "collapsed": false,
    "ExecuteTime": {
     "end_time": "2024-01-18T10:48:39.473317Z",
     "start_time": "2024-01-18T10:48:39.406166Z"
    }
   },
   "id": "d80974efa7854390",
   "execution_count": 15
  },
  {
   "cell_type": "markdown",
   "source": [
    "According to the above information, we can see that there are 5 unique labels in the dataset"
   ],
   "metadata": {
    "collapsed": false
   },
   "id": "f54b080ea9b399e7"
  },
  {
   "cell_type": "markdown",
   "source": [
    "# Data Preprocessing"
   ],
   "metadata": {
    "collapsed": false
   },
   "id": "e1ea0f7deba692ee"
  },
  {
   "cell_type": "code",
   "outputs": [],
   "source": [
    "# label encoding the labels\n",
    "le = LabelEncoder()\n",
    "df['Label'] = le.fit_transform(df['Label'])"
   ],
   "metadata": {
    "collapsed": false,
    "ExecuteTime": {
     "end_time": "2024-01-18T10:48:40.960236Z",
     "start_time": "2024-01-18T10:48:40.958416Z"
    }
   },
   "id": "5cd0649149596c98",
   "execution_count": 16
  },
  {
   "cell_type": "code",
   "outputs": [
    {
     "data": {
      "text/plain": "Label\n0    1028\n1    1027\n3    1026\n4    1026\n2    1025\nName: count, dtype: int64"
     },
     "execution_count": 17,
     "metadata": {},
     "output_type": "execute_result"
    }
   ],
   "source": [
    "# check the encoded labels\n",
    "df['Label'].value_counts()"
   ],
   "metadata": {
    "collapsed": false,
    "ExecuteTime": {
     "end_time": "2024-01-18T10:48:41.452730Z",
     "start_time": "2024-01-18T10:48:41.445310Z"
    }
   },
   "id": "33158f293e3ffc05",
   "execution_count": 17
  },
  {
   "cell_type": "code",
   "outputs": [],
   "source": [
    "# make a copy of the dataframe\n",
    "df_new = df.copy()"
   ],
   "metadata": {
    "collapsed": false,
    "ExecuteTime": {
     "end_time": "2024-01-18T10:48:41.965131Z",
     "start_time": "2024-01-18T10:48:41.956399Z"
    }
   },
   "id": "55d949d40b018124",
   "execution_count": 18
  },
  {
   "cell_type": "code",
   "outputs": [],
   "source": [
    "# map the labels to the encoded labels\n",
    "label_map = {label:num for num, label in enumerate(le.classes_)}"
   ],
   "metadata": {
    "collapsed": false,
    "ExecuteTime": {
     "end_time": "2024-01-18T10:48:42.526986Z",
     "start_time": "2024-01-18T10:48:42.509597Z"
    }
   },
   "id": "885b553c0b491171",
   "execution_count": 19
  },
  {
   "cell_type": "code",
   "outputs": [
    {
     "data": {
      "text/plain": "{'money': 0, 'ok': 1, 'rock': 2, 'silence': 3, 'welcome': 4}"
     },
     "execution_count": 22,
     "metadata": {},
     "output_type": "execute_result"
    }
   ],
   "source": [
    "label_map"
   ],
   "metadata": {
    "collapsed": false,
    "ExecuteTime": {
     "end_time": "2024-01-18T10:48:47.931904Z",
     "start_time": "2024-01-18T10:48:47.888151Z"
    }
   },
   "id": "c94d4e70959ec496",
   "execution_count": 22
  },
  {
   "cell_type": "markdown",
   "source": [
    "# Data Reshaping"
   ],
   "metadata": {
    "collapsed": false
   },
   "id": "593da5c8a41764f9"
  },
  {
   "cell_type": "code",
   "outputs": [],
   "source": [
    "# Identify the indices where a new sequence/file starts\n",
    "# This assumes 'frame' resets to 1 at the start of a new sequence/file\n",
    "sequence_starts = df.index[df['frame'] == 1].tolist()\n",
    "# Add the end of the DataFrame as the last index\n",
    "sequence_starts.append(len(df))\n",
    "\n",
    "# Calculate the length of each sequence\n",
    "sequence_lengths = [sequence_starts[i + 1] - sequence_starts[i] for i in range(len(sequence_starts) - 1)]\n",
    "\n",
    "# Determine the minimum and maximum sequence length\n",
    "min_sequence_length = min(sequence_lengths)\n",
    "max_sequence_length = max(sequence_lengths)\n",
    "\n"
   ],
   "metadata": {
    "collapsed": false,
    "ExecuteTime": {
     "end_time": "2024-01-18T10:48:49.139150Z",
     "start_time": "2024-01-18T10:48:49.118021Z"
    }
   },
   "id": "c67875bf13b6e193",
   "execution_count": 23
  },
  {
   "cell_type": "code",
   "outputs": [],
   "source": [
    "# Initialize lists for reshaped data\n",
    "sequences = []\n",
    "labels = []\n",
    "\n",
    "for i in range(len(sequence_starts) - 1):\n",
    "    start = sequence_starts[i]\n",
    "    end = sequence_starts[i + 1]\n",
    "    \n",
    "    # Extract features (X) and labels (y)\n",
    "    sequence= df.iloc[start:end].drop(['frame'], axis=1).values\n",
    "    \n",
    "   \n",
    "    # Pad the sequence if it's shorter than your desired sequence length\n",
    "    if len(sequence) < max_sequence_length:\n",
    "        padding = np.zeros((max_sequence_length - len(sequence), sequence.shape[1]))\n",
    "        sequence = np.vstack((sequence, padding)) \n",
    "\n",
    "    sequences.append(sequence)\n",
    "     # Extract label (assuming the label for the start of the sequence applies to the whole sequence)\n",
    "    sequence_label = df.iloc[start]['Label']\n",
    "    labels.append(sequence_label)\n",
    "    "
   ],
   "metadata": {
    "collapsed": false,
    "ExecuteTime": {
     "end_time": "2024-01-18T10:48:49.711051Z",
     "start_time": "2024-01-18T10:48:49.684475Z"
    }
   },
   "id": "cfe17a9d8c7997f1",
   "execution_count": 24
  },
  {
   "cell_type": "code",
   "outputs": [],
   "source": [
    "# Convert the list of sequences into a NumPy array and split into X and y\n",
    "X = np.array(sequences)\n",
    "y = np.array(labels)"
   ],
   "metadata": {
    "collapsed": false,
    "ExecuteTime": {
     "end_time": "2024-01-18T10:49:13.440721Z",
     "start_time": "2024-01-18T10:49:13.426030Z"
    }
   },
   "id": "5c082babc6d43691",
   "execution_count": 25
  },
  {
   "cell_type": "code",
   "outputs": [],
   "source": [
    "# convert the labels to categorical values\n",
    "y = to_categorical(labels).astype(int)"
   ],
   "metadata": {
    "collapsed": false,
    "ExecuteTime": {
     "end_time": "2024-01-18T10:49:13.955779Z",
     "start_time": "2024-01-18T10:49:13.946035Z"
    }
   },
   "id": "e1bacf0bd03359ec",
   "execution_count": 26
  },
  {
   "cell_type": "code",
   "outputs": [
    {
     "data": {
      "text/plain": "(40, 5)"
     },
     "execution_count": 27,
     "metadata": {},
     "output_type": "execute_result"
    }
   ],
   "source": [
    "y.shape"
   ],
   "metadata": {
    "collapsed": false,
    "ExecuteTime": {
     "end_time": "2024-01-18T10:49:14.497497Z",
     "start_time": "2024-01-18T10:49:14.477589Z"
    }
   },
   "id": "a175b86556e83e59",
   "execution_count": 27
  },
  {
   "cell_type": "markdown",
   "source": [
    "# Create TensorFlow Dataset"
   ],
   "metadata": {
    "collapsed": false
   },
   "id": "792f05c76424a9da"
  },
  {
   "cell_type": "code",
   "outputs": [
    {
     "name": "stderr",
     "output_type": "stream",
     "text": [
      "2024-01-18 11:49:15.517268: I metal_plugin/src/device/metal_device.cc:1154] Metal device set to: Apple M3\n",
      "2024-01-18 11:49:15.517334: I metal_plugin/src/device/metal_device.cc:296] systemMemory: 8.00 GB\n",
      "2024-01-18 11:49:15.517348: I metal_plugin/src/device/metal_device.cc:313] maxCacheSize: 2.67 GB\n",
      "2024-01-18 11:49:15.517618: I tensorflow/core/common_runtime/pluggable_device/pluggable_device_factory.cc:306] Could not identify NUMA node of platform GPU ID 0, defaulting to 0. Your kernel may not have been built with NUMA support.\n",
      "2024-01-18 11:49:15.518087: I tensorflow/core/common_runtime/pluggable_device/pluggable_device_factory.cc:272] Created TensorFlow device (/job:localhost/replica:0/task:0/device:GPU:0 with 0 MB memory) -> physical PluggableDevice (device: 0, name: METAL, pci bus id: <undefined>)\n"
     ]
    }
   ],
   "source": [
    "#MCSHBAP - map, chache, shuffle, batch, prefetch  from_tensor_slices, list_file\n",
    "#creating dataset\n",
    "dataset = tf.data.Dataset.from_tensor_slices((X, y)) #X, y are assumed to be NumPy arrays or tensors. Each element of the dataset will be a tuple\n",
    "dataset = dataset.cache() #adds caching to the dataset. Caching keeps the elements of the dataset in memory\n",
    "dataset = dataset.shuffle(10000) #Shuffling is important during training to ensure that the model sees a different order of examples in each epoch.\n",
    "dataset = dataset.batch(8) # number of lines(samples) in the set 8 \n",
    "dataset = dataset.prefetch(8) # helps bottlenecks"
   ],
   "metadata": {
    "collapsed": false,
    "ExecuteTime": {
     "end_time": "2024-01-18T10:49:15.647763Z",
     "start_time": "2024-01-18T10:49:15.512285Z"
    }
   },
   "id": "c258bf90e73bdde4",
   "execution_count": 28
  },
  {
   "cell_type": "code",
   "outputs": [
    {
     "data": {
      "text/plain": "(array([[[ 0.537504,  0.316511, -0.344406, ...,  0.581466,  0.752732,\n           1.      ],\n         [ 0.537545,  0.313224, -0.368796, ...,  0.578795,  0.755261,\n           1.      ],\n         [ 0.536219,  0.31175 , -0.364408, ...,  0.576634,  0.755957,\n           1.      ],\n         ...,\n         [ 0.478899,  0.277139, -0.406998, ...,  0.674131,  0.490482,\n           1.      ],\n         [ 0.480128,  0.277626, -0.45379 , ...,  0.674141,  0.496376,\n           1.      ],\n         [ 0.      ,  0.      ,  0.      , ...,  0.      ,  0.      ,\n           0.      ]],\n \n        [[ 0.527482,  0.246934, -0.481461, ...,  0.585189,  0.840778,\n           4.      ],\n         [ 0.527485,  0.248129, -0.387324, ...,  0.582495,  0.841602,\n           4.      ],\n         [ 0.526106,  0.248233, -0.385116, ...,  0.585423,  0.840638,\n           4.      ],\n         ...,\n         [ 0.      ,  0.      ,  0.      , ...,  0.      ,  0.      ,\n           0.      ],\n         [ 0.      ,  0.      ,  0.      , ...,  0.      ,  0.      ,\n           0.      ],\n         [ 0.      ,  0.      ,  0.      , ...,  0.      ,  0.      ,\n           0.      ]],\n \n        [[ 0.550595,  0.184134, -0.22574 , ...,  0.      ,  0.      ,\n           3.      ],\n         [ 0.552678,  0.185467, -0.175587, ...,  0.      ,  0.      ,\n           3.      ],\n         [ 0.553467,  0.185644, -0.159335, ...,  0.      ,  0.      ,\n           3.      ],\n         ...,\n         [ 0.36513 ,  0.164023, -0.214788, ...,  0.506507,  0.794864,\n           3.      ],\n         [ 0.367539,  0.164162, -0.221524, ...,  0.506507,  0.794864,\n           3.      ],\n         [ 0.370879,  0.163317, -0.258821, ...,  0.506507,  0.794864,\n           3.      ]],\n \n        ...,\n \n        [[ 0.497779,  0.238956, -0.43439 , ...,  0.655519,  0.293947,\n           1.      ],\n         [ 0.49789 ,  0.239217, -0.386429, ...,  0.653818,  0.29136 ,\n           1.      ],\n         [ 0.497913,  0.239202, -0.361324, ...,  0.650542,  0.290251,\n           1.      ],\n         ...,\n         [ 0.      ,  0.      ,  0.      , ...,  0.      ,  0.      ,\n           0.      ],\n         [ 0.      ,  0.      ,  0.      , ...,  0.      ,  0.      ,\n           0.      ],\n         [ 0.      ,  0.      ,  0.      , ...,  0.      ,  0.      ,\n           0.      ]],\n \n        [[ 0.505148,  0.246038, -0.370255, ...,  0.753019,  0.207022,\n           2.      ],\n         [ 0.504748,  0.246162, -0.370682, ...,  0.756206,  0.208405,\n           2.      ],\n         [ 0.50454 ,  0.246197, -0.430299, ...,  0.757787,  0.209093,\n           2.      ],\n         ...,\n         [ 0.      ,  0.      ,  0.      , ...,  0.      ,  0.      ,\n           0.      ],\n         [ 0.      ,  0.      ,  0.      , ...,  0.      ,  0.      ,\n           0.      ],\n         [ 0.      ,  0.      ,  0.      , ...,  0.      ,  0.      ,\n           0.      ]],\n \n        [[ 0.542203,  0.140984, -0.133673, ...,  0.      ,  0.      ,\n           3.      ],\n         [ 0.5304  ,  0.144432, -0.161579, ...,  0.      ,  0.      ,\n           3.      ],\n         [ 0.521091,  0.146555, -0.168284, ...,  0.      ,  0.      ,\n           3.      ],\n         ...,\n         [ 0.      ,  0.      ,  0.      , ...,  0.      ,  0.      ,\n           0.      ],\n         [ 0.      ,  0.      ,  0.      , ...,  0.      ,  0.      ,\n           0.      ],\n         [ 0.      ,  0.      ,  0.      , ...,  0.      ,  0.      ,\n           0.      ]]]),\n array([[0, 1, 0, 0, 0],\n        [0, 0, 0, 0, 1],\n        [0, 0, 0, 1, 0],\n        [0, 1, 0, 0, 0],\n        [0, 0, 0, 1, 0],\n        [0, 1, 0, 0, 0],\n        [0, 0, 1, 0, 0],\n        [0, 0, 0, 1, 0]]))"
     },
     "execution_count": 29,
     "metadata": {},
     "output_type": "execute_result"
    }
   ],
   "source": [
    "\n",
    "# Integer or None. Number of samples grouped in the set. If unspecified, batch_size will default to 32. \n",
    "batch_X, batch_y=dataset.as_numpy_iterator().next()\n",
    "batch_X, batch_y"
   ],
   "metadata": {
    "collapsed": false,
    "ExecuteTime": {
     "end_time": "2024-01-18T10:49:16.081356Z",
     "start_time": "2024-01-18T10:49:16.022345Z"
    }
   },
   "id": "1a3d12882fcbed01",
   "execution_count": 29
  },
  {
   "cell_type": "code",
   "outputs": [
    {
     "data": {
      "text/plain": "5"
     },
     "execution_count": 30,
     "metadata": {},
     "output_type": "execute_result"
    }
   ],
   "source": [
    "len(dataset)"
   ],
   "metadata": {
    "collapsed": false,
    "ExecuteTime": {
     "end_time": "2024-01-18T10:49:21.474224Z",
     "start_time": "2024-01-18T10:49:21.443827Z"
    }
   },
   "id": "aa0e81579ee7bd",
   "execution_count": 30
  },
  {
   "cell_type": "markdown",
   "source": [
    "# Splitting the Data into Training and Testing Sets"
   ],
   "metadata": {
    "collapsed": false
   },
   "id": "cfe1c6895c7cb500"
  },
  {
   "cell_type": "code",
   "outputs": [
    {
     "name": "stdout",
     "output_type": "stream",
     "text": [
      "3\n",
      "1\n"
     ]
    },
    {
     "data": {
      "text/plain": "1"
     },
     "execution_count": 31,
     "metadata": {},
     "output_type": "execute_result"
    }
   ],
   "source": [
    "# Split the dataset into training and testing sets\n",
    "train = dataset.take(int(len(dataset)*.7))\n",
    "val = dataset.skip(int(len(dataset)*.7)).take(int(len(dataset)*.2))\n",
    "test = dataset.skip(int(len(dataset)*.9)).take(int(len(dataset)*.1)+1)\n",
    "print(len(train))\n",
    "print(len(test))\n",
    "len(val)"
   ],
   "metadata": {
    "collapsed": false,
    "ExecuteTime": {
     "end_time": "2024-01-18T10:49:22.513415Z",
     "start_time": "2024-01-18T10:49:22.474794Z"
    }
   },
   "id": "1dcd1351c2c49fdd",
   "execution_count": 31
  },
  {
   "cell_type": "markdown",
   "source": [
    "# Build the Model"
   ],
   "metadata": {
    "collapsed": false
   },
   "id": "da1a43d862f5af3b"
  },
  {
   "cell_type": "code",
   "outputs": [],
   "source": [
    "# set the log directory for saving model training logs\n",
    "log_dir = os.path.join('logs')\n",
    "tb_callback = TensorBoard(log_dir=log_dir)"
   ],
   "metadata": {
    "collapsed": false,
    "ExecuteTime": {
     "end_time": "2024-01-18T10:49:23.781232Z",
     "start_time": "2024-01-18T10:49:23.721484Z"
    }
   },
   "id": "6681218b70d89d4a",
   "execution_count": 32
  },
  {
   "cell_type": "code",
   "outputs": [],
   "source": [
    "# set early stopping\n",
    "early_stopping = EarlyStopping(monitor='val_accuracy', patience=10, verbose=1) "
   ],
   "metadata": {
    "collapsed": false,
    "ExecuteTime": {
     "end_time": "2024-01-18T10:49:24.426643Z",
     "start_time": "2024-01-18T10:49:24.397555Z"
    }
   },
   "id": "72b33aa29e74e44f",
   "execution_count": 33
  },
  {
   "cell_type": "code",
   "outputs": [
    {
     "name": "stdout",
     "output_type": "stream",
     "text": [
      "WARNING:tensorflow:Layer lstm_1 will not use cuDNN kernels since it doesn't meet the criteria. It will use a generic GPU kernel as fallback when running on GPU.\n",
      "WARNING:tensorflow:Layer lstm_2 will not use cuDNN kernels since it doesn't meet the criteria. It will use a generic GPU kernel as fallback when running on GPU.\n"
     ]
    }
   ],
   "source": [
    "# define the model architecture\n",
    "model = Sequential()\n",
    "model.add(LSTM(64, return_sequences=True, input_shape=(149,145)))\n",
    "model.add(LSTM(128, return_sequences=True, activation='relu'))\n",
    "model.add(LSTM(64, return_sequences=False, activation='relu'))\n",
    "model.add(Dense(64, activation='relu'))\n",
    "#model.add(Dropout(0.2))\n",
    "model.add(Dense(32, activation='relu'))\n",
    "model.add(Dense(5, activation='softmax'))"
   ],
   "metadata": {
    "collapsed": false,
    "ExecuteTime": {
     "end_time": "2024-01-18T10:49:26.903242Z",
     "start_time": "2024-01-18T10:49:25.558611Z"
    }
   },
   "id": "d58015e77ed1faf2",
   "execution_count": 34
  },
  {
   "cell_type": "code",
   "outputs": [],
   "source": [
    "# compile the model and define the loss and optimizer\n",
    "model.compile(loss='categorical_crossentropy', optimizer=Adam(learning_rate=0.001), metrics=['categorical_accuracy'])"
   ],
   "metadata": {
    "collapsed": false,
    "ExecuteTime": {
     "end_time": "2024-01-18T10:49:27.504883Z",
     "start_time": "2024-01-18T10:49:27.476859Z"
    }
   },
   "id": "5a649b419962f361",
   "execution_count": 35
  },
  {
   "cell_type": "code",
   "outputs": [
    {
     "name": "stdout",
     "output_type": "stream",
     "text": [
      "Model: \"sequential\"\n",
      "_________________________________________________________________\n",
      " Layer (type)                Output Shape              Param #   \n",
      "=================================================================\n",
      " lstm (LSTM)                 (None, 149, 64)           53760     \n",
      "                                                                 \n",
      " lstm_1 (LSTM)               (None, 149, 128)          98816     \n",
      "                                                                 \n",
      " lstm_2 (LSTM)               (None, 64)                49408     \n",
      "                                                                 \n",
      " dense (Dense)               (None, 64)                4160      \n",
      "                                                                 \n",
      " dense_1 (Dense)             (None, 32)                2080      \n",
      "                                                                 \n",
      " dense_2 (Dense)             (None, 5)                 165       \n",
      "                                                                 \n",
      "=================================================================\n",
      "Total params: 208389 (814.02 KB)\n",
      "Trainable params: 208389 (814.02 KB)\n",
      "Non-trainable params: 0 (0.00 Byte)\n",
      "_________________________________________________________________\n"
     ]
    }
   ],
   "source": [
    "# print the model summary\n",
    "model.summary()"
   ],
   "metadata": {
    "collapsed": false,
    "ExecuteTime": {
     "end_time": "2024-01-18T10:49:28.418763Z",
     "start_time": "2024-01-18T10:49:28.343228Z"
    }
   },
   "id": "d6589341c8f0029e",
   "execution_count": 36
  },
  {
   "cell_type": "code",
   "outputs": [
    {
     "name": "stdout",
     "output_type": "stream",
     "text": [
      "Epoch 1/200\n",
      "3/3 [==============================] - ETA: 0s - loss: 1.6251 - categorical_accuracy: 0.1667 WARNING:tensorflow:Early stopping conditioned on metric `val_accuracy` which is not available. Available metrics are: loss,categorical_accuracy,val_loss,val_categorical_accuracy\n"
     ]
    },
    {
     "name": "stderr",
     "output_type": "stream",
     "text": [
      "WARNING:tensorflow:Early stopping conditioned on metric `val_accuracy` which is not available. Available metrics are: loss,categorical_accuracy,val_loss,val_categorical_accuracy\n"
     ]
    },
    {
     "name": "stdout",
     "output_type": "stream",
     "text": [
      "3/3 [==============================] - 70s 23s/step - loss: 1.6251 - categorical_accuracy: 0.1667 - val_loss: 1.5769 - val_categorical_accuracy: 0.3750\n",
      "Epoch 2/200\n",
      "3/3 [==============================] - ETA: 0s - loss: 1.6167 - categorical_accuracy: 0.1667 WARNING:tensorflow:Early stopping conditioned on metric `val_accuracy` which is not available. Available metrics are: loss,categorical_accuracy,val_loss,val_categorical_accuracy\n"
     ]
    },
    {
     "name": "stderr",
     "output_type": "stream",
     "text": [
      "WARNING:tensorflow:Early stopping conditioned on metric `val_accuracy` which is not available. Available metrics are: loss,categorical_accuracy,val_loss,val_categorical_accuracy\n"
     ]
    },
    {
     "name": "stdout",
     "output_type": "stream",
     "text": [
      "3/3 [==============================] - 68s 23s/step - loss: 1.6167 - categorical_accuracy: 0.1667 - val_loss: 1.6579 - val_categorical_accuracy: 0.0000e+00\n",
      "Epoch 3/200\n",
      "3/3 [==============================] - ETA: 0s - loss: 1.6038 - categorical_accuracy: 0.1667 WARNING:tensorflow:Early stopping conditioned on metric `val_accuracy` which is not available. Available metrics are: loss,categorical_accuracy,val_loss,val_categorical_accuracy\n"
     ]
    },
    {
     "name": "stderr",
     "output_type": "stream",
     "text": [
      "WARNING:tensorflow:Early stopping conditioned on metric `val_accuracy` which is not available. Available metrics are: loss,categorical_accuracy,val_loss,val_categorical_accuracy\n"
     ]
    },
    {
     "name": "stdout",
     "output_type": "stream",
     "text": [
      "3/3 [==============================] - 67s 23s/step - loss: 1.6038 - categorical_accuracy: 0.1667 - val_loss: 1.6087 - val_categorical_accuracy: 0.1250\n",
      "Epoch 4/200\n",
      "3/3 [==============================] - ETA: 0s - loss: 1.5865 - categorical_accuracy: 0.2500 WARNING:tensorflow:Early stopping conditioned on metric `val_accuracy` which is not available. Available metrics are: loss,categorical_accuracy,val_loss,val_categorical_accuracy\n"
     ]
    },
    {
     "name": "stderr",
     "output_type": "stream",
     "text": [
      "WARNING:tensorflow:Early stopping conditioned on metric `val_accuracy` which is not available. Available metrics are: loss,categorical_accuracy,val_loss,val_categorical_accuracy\n"
     ]
    },
    {
     "name": "stdout",
     "output_type": "stream",
     "text": [
      "3/3 [==============================] - 66s 22s/step - loss: 1.5865 - categorical_accuracy: 0.2500 - val_loss: 1.5915 - val_categorical_accuracy: 0.2500\n",
      "Epoch 5/200\n",
      "3/3 [==============================] - ETA: 0s - loss: 1.5713 - categorical_accuracy: 0.3333 WARNING:tensorflow:Early stopping conditioned on metric `val_accuracy` which is not available. Available metrics are: loss,categorical_accuracy,val_loss,val_categorical_accuracy\n"
     ]
    },
    {
     "name": "stderr",
     "output_type": "stream",
     "text": [
      "WARNING:tensorflow:Early stopping conditioned on metric `val_accuracy` which is not available. Available metrics are: loss,categorical_accuracy,val_loss,val_categorical_accuracy\n"
     ]
    },
    {
     "name": "stdout",
     "output_type": "stream",
     "text": [
      "3/3 [==============================] - 65s 22s/step - loss: 1.5713 - categorical_accuracy: 0.3333 - val_loss: 1.5586 - val_categorical_accuracy: 0.3750\n",
      "Epoch 6/200\n",
      "3/3 [==============================] - ETA: 0s - loss: 1.5476 - categorical_accuracy: 0.4167 WARNING:tensorflow:Early stopping conditioned on metric `val_accuracy` which is not available. Available metrics are: loss,categorical_accuracy,val_loss,val_categorical_accuracy\n"
     ]
    },
    {
     "name": "stderr",
     "output_type": "stream",
     "text": [
      "WARNING:tensorflow:Early stopping conditioned on metric `val_accuracy` which is not available. Available metrics are: loss,categorical_accuracy,val_loss,val_categorical_accuracy\n"
     ]
    },
    {
     "name": "stdout",
     "output_type": "stream",
     "text": [
      "3/3 [==============================] - 62s 21s/step - loss: 1.5476 - categorical_accuracy: 0.4167 - val_loss: 1.5712 - val_categorical_accuracy: 0.2500\n",
      "Epoch 7/200\n",
      "3/3 [==============================] - ETA: 0s - loss: 1.5243 - categorical_accuracy: 0.4583 WARNING:tensorflow:Early stopping conditioned on metric `val_accuracy` which is not available. Available metrics are: loss,categorical_accuracy,val_loss,val_categorical_accuracy\n"
     ]
    },
    {
     "name": "stderr",
     "output_type": "stream",
     "text": [
      "WARNING:tensorflow:Early stopping conditioned on metric `val_accuracy` which is not available. Available metrics are: loss,categorical_accuracy,val_loss,val_categorical_accuracy\n"
     ]
    },
    {
     "name": "stdout",
     "output_type": "stream",
     "text": [
      "3/3 [==============================] - 63s 21s/step - loss: 1.5243 - categorical_accuracy: 0.4583 - val_loss: 1.4662 - val_categorical_accuracy: 0.7500\n",
      "Epoch 8/200\n",
      "3/3 [==============================] - ETA: 0s - loss: 1.5310 - categorical_accuracy: 0.4167 WARNING:tensorflow:Early stopping conditioned on metric `val_accuracy` which is not available. Available metrics are: loss,categorical_accuracy,val_loss,val_categorical_accuracy\n"
     ]
    },
    {
     "name": "stderr",
     "output_type": "stream",
     "text": [
      "WARNING:tensorflow:Early stopping conditioned on metric `val_accuracy` which is not available. Available metrics are: loss,categorical_accuracy,val_loss,val_categorical_accuracy\n"
     ]
    },
    {
     "name": "stdout",
     "output_type": "stream",
     "text": [
      "3/3 [==============================] - 62s 21s/step - loss: 1.5310 - categorical_accuracy: 0.4167 - val_loss: 1.4605 - val_categorical_accuracy: 0.7500\n",
      "Epoch 9/200\n",
      "3/3 [==============================] - ETA: 0s - loss: 1.4761 - categorical_accuracy: 0.4167 WARNING:tensorflow:Early stopping conditioned on metric `val_accuracy` which is not available. Available metrics are: loss,categorical_accuracy,val_loss,val_categorical_accuracy\n"
     ]
    },
    {
     "name": "stderr",
     "output_type": "stream",
     "text": [
      "WARNING:tensorflow:Early stopping conditioned on metric `val_accuracy` which is not available. Available metrics are: loss,categorical_accuracy,val_loss,val_categorical_accuracy\n"
     ]
    },
    {
     "name": "stdout",
     "output_type": "stream",
     "text": [
      "3/3 [==============================] - 61s 20s/step - loss: 1.4761 - categorical_accuracy: 0.4167 - val_loss: 1.5837 - val_categorical_accuracy: 0.1250\n",
      "Epoch 10/200\n",
      "3/3 [==============================] - ETA: 0s - loss: 1.4680 - categorical_accuracy: 0.3750 WARNING:tensorflow:Early stopping conditioned on metric `val_accuracy` which is not available. Available metrics are: loss,categorical_accuracy,val_loss,val_categorical_accuracy\n"
     ]
    },
    {
     "name": "stderr",
     "output_type": "stream",
     "text": [
      "WARNING:tensorflow:Early stopping conditioned on metric `val_accuracy` which is not available. Available metrics are: loss,categorical_accuracy,val_loss,val_categorical_accuracy\n"
     ]
    },
    {
     "name": "stdout",
     "output_type": "stream",
     "text": [
      "3/3 [==============================] - 61s 20s/step - loss: 1.4680 - categorical_accuracy: 0.3750 - val_loss: 1.4099 - val_categorical_accuracy: 0.5000\n",
      "Epoch 11/200\n",
      "3/3 [==============================] - ETA: 0s - loss: 1.4744 - categorical_accuracy: 0.3333 WARNING:tensorflow:Early stopping conditioned on metric `val_accuracy` which is not available. Available metrics are: loss,categorical_accuracy,val_loss,val_categorical_accuracy\n"
     ]
    },
    {
     "name": "stderr",
     "output_type": "stream",
     "text": [
      "WARNING:tensorflow:Early stopping conditioned on metric `val_accuracy` which is not available. Available metrics are: loss,categorical_accuracy,val_loss,val_categorical_accuracy\n"
     ]
    },
    {
     "name": "stdout",
     "output_type": "stream",
     "text": [
      "3/3 [==============================] - 62s 21s/step - loss: 1.4744 - categorical_accuracy: 0.3333 - val_loss: 1.5017 - val_categorical_accuracy: 0.3750\n",
      "Epoch 12/200\n",
      "3/3 [==============================] - ETA: 0s - loss: 1.4330 - categorical_accuracy: 0.4167 WARNING:tensorflow:Early stopping conditioned on metric `val_accuracy` which is not available. Available metrics are: loss,categorical_accuracy,val_loss,val_categorical_accuracy\n"
     ]
    },
    {
     "name": "stderr",
     "output_type": "stream",
     "text": [
      "WARNING:tensorflow:Early stopping conditioned on metric `val_accuracy` which is not available. Available metrics are: loss,categorical_accuracy,val_loss,val_categorical_accuracy\n"
     ]
    },
    {
     "name": "stdout",
     "output_type": "stream",
     "text": [
      "3/3 [==============================] - 61s 20s/step - loss: 1.4330 - categorical_accuracy: 0.4167 - val_loss: 1.3933 - val_categorical_accuracy: 0.3750\n",
      "Epoch 13/200\n",
      "3/3 [==============================] - ETA: 0s - loss: 1.4476 - categorical_accuracy: 0.2500 WARNING:tensorflow:Early stopping conditioned on metric `val_accuracy` which is not available. Available metrics are: loss,categorical_accuracy,val_loss,val_categorical_accuracy\n"
     ]
    },
    {
     "name": "stderr",
     "output_type": "stream",
     "text": [
      "WARNING:tensorflow:Early stopping conditioned on metric `val_accuracy` which is not available. Available metrics are: loss,categorical_accuracy,val_loss,val_categorical_accuracy\n"
     ]
    },
    {
     "name": "stdout",
     "output_type": "stream",
     "text": [
      "3/3 [==============================] - 61s 21s/step - loss: 1.4476 - categorical_accuracy: 0.2500 - val_loss: 1.5343 - val_categorical_accuracy: 0.2500\n",
      "Epoch 14/200\n",
      "3/3 [==============================] - ETA: 0s - loss: 1.3677 - categorical_accuracy: 0.4167 WARNING:tensorflow:Early stopping conditioned on metric `val_accuracy` which is not available. Available metrics are: loss,categorical_accuracy,val_loss,val_categorical_accuracy\n"
     ]
    },
    {
     "name": "stderr",
     "output_type": "stream",
     "text": [
      "WARNING:tensorflow:Early stopping conditioned on metric `val_accuracy` which is not available. Available metrics are: loss,categorical_accuracy,val_loss,val_categorical_accuracy\n"
     ]
    },
    {
     "name": "stdout",
     "output_type": "stream",
     "text": [
      "3/3 [==============================] - 60s 20s/step - loss: 1.3677 - categorical_accuracy: 0.4167 - val_loss: 1.4629 - val_categorical_accuracy: 0.1250\n",
      "Epoch 15/200\n",
      "3/3 [==============================] - ETA: 0s - loss: 1.3965 - categorical_accuracy: 0.3333 WARNING:tensorflow:Early stopping conditioned on metric `val_accuracy` which is not available. Available metrics are: loss,categorical_accuracy,val_loss,val_categorical_accuracy\n"
     ]
    },
    {
     "name": "stderr",
     "output_type": "stream",
     "text": [
      "WARNING:tensorflow:Early stopping conditioned on metric `val_accuracy` which is not available. Available metrics are: loss,categorical_accuracy,val_loss,val_categorical_accuracy\n"
     ]
    },
    {
     "name": "stdout",
     "output_type": "stream",
     "text": [
      "3/3 [==============================] - 63s 22s/step - loss: 1.3965 - categorical_accuracy: 0.3333 - val_loss: 1.4350 - val_categorical_accuracy: 0.2500\n",
      "Epoch 16/200\n",
      "3/3 [==============================] - ETA: 0s - loss: 1.4490 - categorical_accuracy: 0.3750 WARNING:tensorflow:Early stopping conditioned on metric `val_accuracy` which is not available. Available metrics are: loss,categorical_accuracy,val_loss,val_categorical_accuracy\n"
     ]
    },
    {
     "name": "stderr",
     "output_type": "stream",
     "text": [
      "WARNING:tensorflow:Early stopping conditioned on metric `val_accuracy` which is not available. Available metrics are: loss,categorical_accuracy,val_loss,val_categorical_accuracy\n"
     ]
    },
    {
     "name": "stdout",
     "output_type": "stream",
     "text": [
      "3/3 [==============================] - 61s 21s/step - loss: 1.4490 - categorical_accuracy: 0.3750 - val_loss: 1.6153 - val_categorical_accuracy: 0.1250\n",
      "Epoch 17/200\n",
      "3/3 [==============================] - ETA: 0s - loss: 1.4655 - categorical_accuracy: 0.4167 WARNING:tensorflow:Early stopping conditioned on metric `val_accuracy` which is not available. Available metrics are: loss,categorical_accuracy,val_loss,val_categorical_accuracy\n"
     ]
    },
    {
     "name": "stderr",
     "output_type": "stream",
     "text": [
      "WARNING:tensorflow:Early stopping conditioned on metric `val_accuracy` which is not available. Available metrics are: loss,categorical_accuracy,val_loss,val_categorical_accuracy\n"
     ]
    },
    {
     "name": "stdout",
     "output_type": "stream",
     "text": [
      "3/3 [==============================] - 62s 20s/step - loss: 1.4655 - categorical_accuracy: 0.4167 - val_loss: 1.3794 - val_categorical_accuracy: 0.8750\n",
      "Epoch 18/200\n",
      "3/3 [==============================] - ETA: 0s - loss: 1.4148 - categorical_accuracy: 0.5000 WARNING:tensorflow:Early stopping conditioned on metric `val_accuracy` which is not available. Available metrics are: loss,categorical_accuracy,val_loss,val_categorical_accuracy\n"
     ]
    },
    {
     "name": "stderr",
     "output_type": "stream",
     "text": [
      "WARNING:tensorflow:Early stopping conditioned on metric `val_accuracy` which is not available. Available metrics are: loss,categorical_accuracy,val_loss,val_categorical_accuracy\n"
     ]
    },
    {
     "name": "stdout",
     "output_type": "stream",
     "text": [
      "3/3 [==============================] - 60s 20s/step - loss: 1.4148 - categorical_accuracy: 0.5000 - val_loss: 1.3274 - val_categorical_accuracy: 0.7500\n",
      "Epoch 19/200\n",
      "3/3 [==============================] - ETA: 0s - loss: 1.3890 - categorical_accuracy: 0.6250 WARNING:tensorflow:Early stopping conditioned on metric `val_accuracy` which is not available. Available metrics are: loss,categorical_accuracy,val_loss,val_categorical_accuracy\n"
     ]
    },
    {
     "name": "stderr",
     "output_type": "stream",
     "text": [
      "WARNING:tensorflow:Early stopping conditioned on metric `val_accuracy` which is not available. Available metrics are: loss,categorical_accuracy,val_loss,val_categorical_accuracy\n"
     ]
    },
    {
     "name": "stdout",
     "output_type": "stream",
     "text": [
      "3/3 [==============================] - 61s 20s/step - loss: 1.3890 - categorical_accuracy: 0.6250 - val_loss: 1.2932 - val_categorical_accuracy: 0.6250\n",
      "Epoch 20/200\n",
      "3/3 [==============================] - ETA: 0s - loss: 1.3697 - categorical_accuracy: 0.5417 WARNING:tensorflow:Early stopping conditioned on metric `val_accuracy` which is not available. Available metrics are: loss,categorical_accuracy,val_loss,val_categorical_accuracy\n"
     ]
    },
    {
     "name": "stderr",
     "output_type": "stream",
     "text": [
      "WARNING:tensorflow:Early stopping conditioned on metric `val_accuracy` which is not available. Available metrics are: loss,categorical_accuracy,val_loss,val_categorical_accuracy\n"
     ]
    },
    {
     "name": "stdout",
     "output_type": "stream",
     "text": [
      "3/3 [==============================] - 60s 20s/step - loss: 1.3697 - categorical_accuracy: 0.5417 - val_loss: 1.3282 - val_categorical_accuracy: 0.5000\n",
      "Epoch 21/200\n",
      "3/3 [==============================] - ETA: 0s - loss: 1.3820 - categorical_accuracy: 0.5833 WARNING:tensorflow:Early stopping conditioned on metric `val_accuracy` which is not available. Available metrics are: loss,categorical_accuracy,val_loss,val_categorical_accuracy\n"
     ]
    },
    {
     "name": "stderr",
     "output_type": "stream",
     "text": [
      "WARNING:tensorflow:Early stopping conditioned on metric `val_accuracy` which is not available. Available metrics are: loss,categorical_accuracy,val_loss,val_categorical_accuracy\n"
     ]
    },
    {
     "name": "stdout",
     "output_type": "stream",
     "text": [
      "3/3 [==============================] - 63s 21s/step - loss: 1.3820 - categorical_accuracy: 0.5833 - val_loss: 1.3592 - val_categorical_accuracy: 0.6250\n",
      "Epoch 22/200\n",
      "3/3 [==============================] - ETA: 0s - loss: 1.3043 - categorical_accuracy: 0.5833 WARNING:tensorflow:Early stopping conditioned on metric `val_accuracy` which is not available. Available metrics are: loss,categorical_accuracy,val_loss,val_categorical_accuracy\n"
     ]
    },
    {
     "name": "stderr",
     "output_type": "stream",
     "text": [
      "WARNING:tensorflow:Early stopping conditioned on metric `val_accuracy` which is not available. Available metrics are: loss,categorical_accuracy,val_loss,val_categorical_accuracy\n"
     ]
    },
    {
     "name": "stdout",
     "output_type": "stream",
     "text": [
      "3/3 [==============================] - 61s 20s/step - loss: 1.3043 - categorical_accuracy: 0.5833 - val_loss: 1.2704 - val_categorical_accuracy: 0.6250\n",
      "Epoch 23/200\n",
      "3/3 [==============================] - ETA: 0s - loss: 1.2912 - categorical_accuracy: 0.6667 WARNING:tensorflow:Early stopping conditioned on metric `val_accuracy` which is not available. Available metrics are: loss,categorical_accuracy,val_loss,val_categorical_accuracy\n"
     ]
    },
    {
     "name": "stderr",
     "output_type": "stream",
     "text": [
      "WARNING:tensorflow:Early stopping conditioned on metric `val_accuracy` which is not available. Available metrics are: loss,categorical_accuracy,val_loss,val_categorical_accuracy\n"
     ]
    },
    {
     "name": "stdout",
     "output_type": "stream",
     "text": [
      "3/3 [==============================] - 60s 20s/step - loss: 1.2912 - categorical_accuracy: 0.6667 - val_loss: 1.2404 - val_categorical_accuracy: 0.6250\n",
      "Epoch 24/200\n",
      "3/3 [==============================] - ETA: 0s - loss: 1.4295 - categorical_accuracy: 0.2917 WARNING:tensorflow:Early stopping conditioned on metric `val_accuracy` which is not available. Available metrics are: loss,categorical_accuracy,val_loss,val_categorical_accuracy\n"
     ]
    },
    {
     "name": "stderr",
     "output_type": "stream",
     "text": [
      "WARNING:tensorflow:Early stopping conditioned on metric `val_accuracy` which is not available. Available metrics are: loss,categorical_accuracy,val_loss,val_categorical_accuracy\n"
     ]
    },
    {
     "name": "stdout",
     "output_type": "stream",
     "text": [
      "3/3 [==============================] - 60s 20s/step - loss: 1.4295 - categorical_accuracy: 0.2917 - val_loss: 1.3129 - val_categorical_accuracy: 0.6250\n",
      "Epoch 25/200\n",
      "3/3 [==============================] - ETA: 0s - loss: 1.3555 - categorical_accuracy: 0.5417 WARNING:tensorflow:Early stopping conditioned on metric `val_accuracy` which is not available. Available metrics are: loss,categorical_accuracy,val_loss,val_categorical_accuracy\n"
     ]
    },
    {
     "name": "stderr",
     "output_type": "stream",
     "text": [
      "WARNING:tensorflow:Early stopping conditioned on metric `val_accuracy` which is not available. Available metrics are: loss,categorical_accuracy,val_loss,val_categorical_accuracy\n"
     ]
    },
    {
     "name": "stdout",
     "output_type": "stream",
     "text": [
      "3/3 [==============================] - 60s 20s/step - loss: 1.3555 - categorical_accuracy: 0.5417 - val_loss: 1.1722 - val_categorical_accuracy: 0.7500\n",
      "Epoch 26/200\n",
      "3/3 [==============================] - ETA: 0s - loss: 1.3260 - categorical_accuracy: 0.5417 WARNING:tensorflow:Early stopping conditioned on metric `val_accuracy` which is not available. Available metrics are: loss,categorical_accuracy,val_loss,val_categorical_accuracy\n"
     ]
    },
    {
     "name": "stderr",
     "output_type": "stream",
     "text": [
      "WARNING:tensorflow:Early stopping conditioned on metric `val_accuracy` which is not available. Available metrics are: loss,categorical_accuracy,val_loss,val_categorical_accuracy\n"
     ]
    },
    {
     "name": "stdout",
     "output_type": "stream",
     "text": [
      "3/3 [==============================] - 61s 21s/step - loss: 1.3260 - categorical_accuracy: 0.5417 - val_loss: 1.1697 - val_categorical_accuracy: 0.8750\n",
      "Epoch 27/200\n",
      "3/3 [==============================] - ETA: 0s - loss: 1.2906 - categorical_accuracy: 0.5000 WARNING:tensorflow:Early stopping conditioned on metric `val_accuracy` which is not available. Available metrics are: loss,categorical_accuracy,val_loss,val_categorical_accuracy\n"
     ]
    },
    {
     "name": "stderr",
     "output_type": "stream",
     "text": [
      "WARNING:tensorflow:Early stopping conditioned on metric `val_accuracy` which is not available. Available metrics are: loss,categorical_accuracy,val_loss,val_categorical_accuracy\n"
     ]
    },
    {
     "name": "stdout",
     "output_type": "stream",
     "text": [
      "3/3 [==============================] - 63s 21s/step - loss: 1.2906 - categorical_accuracy: 0.5000 - val_loss: 1.3992 - val_categorical_accuracy: 0.5000\n",
      "Epoch 28/200\n",
      "3/3 [==============================] - ETA: 0s - loss: 1.3811 - categorical_accuracy: 0.4167 WARNING:tensorflow:Early stopping conditioned on metric `val_accuracy` which is not available. Available metrics are: loss,categorical_accuracy,val_loss,val_categorical_accuracy\n"
     ]
    },
    {
     "name": "stderr",
     "output_type": "stream",
     "text": [
      "WARNING:tensorflow:Early stopping conditioned on metric `val_accuracy` which is not available. Available metrics are: loss,categorical_accuracy,val_loss,val_categorical_accuracy\n"
     ]
    },
    {
     "name": "stdout",
     "output_type": "stream",
     "text": [
      "3/3 [==============================] - 67s 23s/step - loss: 1.3811 - categorical_accuracy: 0.4167 - val_loss: 1.4575 - val_categorical_accuracy: 0.3750\n",
      "Epoch 29/200\n",
      "3/3 [==============================] - ETA: 0s - loss: 1.2819 - categorical_accuracy: 0.4583 WARNING:tensorflow:Early stopping conditioned on metric `val_accuracy` which is not available. Available metrics are: loss,categorical_accuracy,val_loss,val_categorical_accuracy\n"
     ]
    },
    {
     "name": "stderr",
     "output_type": "stream",
     "text": [
      "WARNING:tensorflow:Early stopping conditioned on metric `val_accuracy` which is not available. Available metrics are: loss,categorical_accuracy,val_loss,val_categorical_accuracy\n"
     ]
    },
    {
     "name": "stdout",
     "output_type": "stream",
     "text": [
      "3/3 [==============================] - 61s 20s/step - loss: 1.2819 - categorical_accuracy: 0.4583 - val_loss: 1.2668 - val_categorical_accuracy: 0.5000\n",
      "Epoch 30/200\n",
      "3/3 [==============================] - ETA: 0s - loss: 1.2515 - categorical_accuracy: 0.4583 WARNING:tensorflow:Early stopping conditioned on metric `val_accuracy` which is not available. Available metrics are: loss,categorical_accuracy,val_loss,val_categorical_accuracy\n"
     ]
    },
    {
     "name": "stderr",
     "output_type": "stream",
     "text": [
      "WARNING:tensorflow:Early stopping conditioned on metric `val_accuracy` which is not available. Available metrics are: loss,categorical_accuracy,val_loss,val_categorical_accuracy\n"
     ]
    },
    {
     "name": "stdout",
     "output_type": "stream",
     "text": [
      "3/3 [==============================] - 61s 20s/step - loss: 1.2515 - categorical_accuracy: 0.4583 - val_loss: 1.2173 - val_categorical_accuracy: 0.6250\n",
      "Epoch 31/200\n",
      "3/3 [==============================] - ETA: 0s - loss: 1.2777 - categorical_accuracy: 0.4583 WARNING:tensorflow:Early stopping conditioned on metric `val_accuracy` which is not available. Available metrics are: loss,categorical_accuracy,val_loss,val_categorical_accuracy\n"
     ]
    },
    {
     "name": "stderr",
     "output_type": "stream",
     "text": [
      "WARNING:tensorflow:Early stopping conditioned on metric `val_accuracy` which is not available. Available metrics are: loss,categorical_accuracy,val_loss,val_categorical_accuracy\n"
     ]
    },
    {
     "name": "stdout",
     "output_type": "stream",
     "text": [
      "3/3 [==============================] - 60s 20s/step - loss: 1.2777 - categorical_accuracy: 0.4583 - val_loss: 1.4175 - val_categorical_accuracy: 0.5000\n",
      "Epoch 32/200\n",
      "3/3 [==============================] - ETA: 0s - loss: 1.3025 - categorical_accuracy: 0.5417 WARNING:tensorflow:Early stopping conditioned on metric `val_accuracy` which is not available. Available metrics are: loss,categorical_accuracy,val_loss,val_categorical_accuracy\n"
     ]
    },
    {
     "name": "stderr",
     "output_type": "stream",
     "text": [
      "WARNING:tensorflow:Early stopping conditioned on metric `val_accuracy` which is not available. Available metrics are: loss,categorical_accuracy,val_loss,val_categorical_accuracy\n"
     ]
    },
    {
     "name": "stdout",
     "output_type": "stream",
     "text": [
      "3/3 [==============================] - 64s 21s/step - loss: 1.3025 - categorical_accuracy: 0.5417 - val_loss: 1.4911 - val_categorical_accuracy: 0.2500\n",
      "Epoch 33/200\n",
      "3/3 [==============================] - ETA: 0s - loss: 1.2324 - categorical_accuracy: 0.4583 WARNING:tensorflow:Early stopping conditioned on metric `val_accuracy` which is not available. Available metrics are: loss,categorical_accuracy,val_loss,val_categorical_accuracy\n"
     ]
    },
    {
     "name": "stderr",
     "output_type": "stream",
     "text": [
      "WARNING:tensorflow:Early stopping conditioned on metric `val_accuracy` which is not available. Available metrics are: loss,categorical_accuracy,val_loss,val_categorical_accuracy\n"
     ]
    },
    {
     "name": "stdout",
     "output_type": "stream",
     "text": [
      "3/3 [==============================] - 61s 20s/step - loss: 1.2324 - categorical_accuracy: 0.4583 - val_loss: 1.2006 - val_categorical_accuracy: 0.5000\n",
      "Epoch 34/200\n",
      "3/3 [==============================] - ETA: 0s - loss: 1.1399 - categorical_accuracy: 0.6250 WARNING:tensorflow:Early stopping conditioned on metric `val_accuracy` which is not available. Available metrics are: loss,categorical_accuracy,val_loss,val_categorical_accuracy\n"
     ]
    },
    {
     "name": "stderr",
     "output_type": "stream",
     "text": [
      "WARNING:tensorflow:Early stopping conditioned on metric `val_accuracy` which is not available. Available metrics are: loss,categorical_accuracy,val_loss,val_categorical_accuracy\n"
     ]
    },
    {
     "name": "stdout",
     "output_type": "stream",
     "text": [
      "3/3 [==============================] - 60s 20s/step - loss: 1.1399 - categorical_accuracy: 0.6250 - val_loss: 1.1675 - val_categorical_accuracy: 0.6250\n",
      "Epoch 35/200\n",
      "3/3 [==============================] - ETA: 0s - loss: 1.1985 - categorical_accuracy: 0.5417 WARNING:tensorflow:Early stopping conditioned on metric `val_accuracy` which is not available. Available metrics are: loss,categorical_accuracy,val_loss,val_categorical_accuracy\n"
     ]
    },
    {
     "name": "stderr",
     "output_type": "stream",
     "text": [
      "WARNING:tensorflow:Early stopping conditioned on metric `val_accuracy` which is not available. Available metrics are: loss,categorical_accuracy,val_loss,val_categorical_accuracy\n"
     ]
    },
    {
     "name": "stdout",
     "output_type": "stream",
     "text": [
      "3/3 [==============================] - 60s 20s/step - loss: 1.1985 - categorical_accuracy: 0.5417 - val_loss: 1.1440 - val_categorical_accuracy: 0.6250\n",
      "Epoch 36/200\n",
      "3/3 [==============================] - ETA: 0s - loss: 1.2149 - categorical_accuracy: 0.5833 WARNING:tensorflow:Early stopping conditioned on metric `val_accuracy` which is not available. Available metrics are: loss,categorical_accuracy,val_loss,val_categorical_accuracy\n"
     ]
    },
    {
     "name": "stderr",
     "output_type": "stream",
     "text": [
      "WARNING:tensorflow:Early stopping conditioned on metric `val_accuracy` which is not available. Available metrics are: loss,categorical_accuracy,val_loss,val_categorical_accuracy\n"
     ]
    },
    {
     "name": "stdout",
     "output_type": "stream",
     "text": [
      "3/3 [==============================] - 60s 20s/step - loss: 1.2149 - categorical_accuracy: 0.5833 - val_loss: 1.2306 - val_categorical_accuracy: 0.3750\n",
      "Epoch 37/200\n",
      "3/3 [==============================] - ETA: 0s - loss: 1.2556 - categorical_accuracy: 0.4583 WARNING:tensorflow:Early stopping conditioned on metric `val_accuracy` which is not available. Available metrics are: loss,categorical_accuracy,val_loss,val_categorical_accuracy\n"
     ]
    },
    {
     "name": "stderr",
     "output_type": "stream",
     "text": [
      "WARNING:tensorflow:Early stopping conditioned on metric `val_accuracy` which is not available. Available metrics are: loss,categorical_accuracy,val_loss,val_categorical_accuracy\n"
     ]
    },
    {
     "name": "stdout",
     "output_type": "stream",
     "text": [
      "3/3 [==============================] - 61s 21s/step - loss: 1.2556 - categorical_accuracy: 0.4583 - val_loss: 1.2006 - val_categorical_accuracy: 0.5000\n",
      "Epoch 38/200\n",
      "3/3 [==============================] - ETA: 0s - loss: 1.2364 - categorical_accuracy: 0.6250 WARNING:tensorflow:Early stopping conditioned on metric `val_accuracy` which is not available. Available metrics are: loss,categorical_accuracy,val_loss,val_categorical_accuracy\n"
     ]
    },
    {
     "name": "stderr",
     "output_type": "stream",
     "text": [
      "WARNING:tensorflow:Early stopping conditioned on metric `val_accuracy` which is not available. Available metrics are: loss,categorical_accuracy,val_loss,val_categorical_accuracy\n"
     ]
    },
    {
     "name": "stdout",
     "output_type": "stream",
     "text": [
      "3/3 [==============================] - 63s 21s/step - loss: 1.2364 - categorical_accuracy: 0.6250 - val_loss: 1.3059 - val_categorical_accuracy: 0.5000\n",
      "Epoch 39/200\n",
      "3/3 [==============================] - ETA: 0s - loss: 1.3049 - categorical_accuracy: 0.5417 WARNING:tensorflow:Early stopping conditioned on metric `val_accuracy` which is not available. Available metrics are: loss,categorical_accuracy,val_loss,val_categorical_accuracy\n"
     ]
    },
    {
     "name": "stderr",
     "output_type": "stream",
     "text": [
      "WARNING:tensorflow:Early stopping conditioned on metric `val_accuracy` which is not available. Available metrics are: loss,categorical_accuracy,val_loss,val_categorical_accuracy\n"
     ]
    },
    {
     "name": "stdout",
     "output_type": "stream",
     "text": [
      "3/3 [==============================] - 63s 21s/step - loss: 1.3049 - categorical_accuracy: 0.5417 - val_loss: 1.2523 - val_categorical_accuracy: 0.6250\n",
      "Epoch 40/200\n",
      "3/3 [==============================] - ETA: 0s - loss: 1.2486 - categorical_accuracy: 0.5000 WARNING:tensorflow:Early stopping conditioned on metric `val_accuracy` which is not available. Available metrics are: loss,categorical_accuracy,val_loss,val_categorical_accuracy\n"
     ]
    },
    {
     "name": "stderr",
     "output_type": "stream",
     "text": [
      "WARNING:tensorflow:Early stopping conditioned on metric `val_accuracy` which is not available. Available metrics are: loss,categorical_accuracy,val_loss,val_categorical_accuracy\n"
     ]
    },
    {
     "name": "stdout",
     "output_type": "stream",
     "text": [
      "3/3 [==============================] - 63s 21s/step - loss: 1.2486 - categorical_accuracy: 0.5000 - val_loss: 1.2990 - val_categorical_accuracy: 0.3750\n",
      "Epoch 41/200\n",
      "3/3 [==============================] - ETA: 0s - loss: 1.2354 - categorical_accuracy: 0.5833 WARNING:tensorflow:Early stopping conditioned on metric `val_accuracy` which is not available. Available metrics are: loss,categorical_accuracy,val_loss,val_categorical_accuracy\n"
     ]
    },
    {
     "name": "stderr",
     "output_type": "stream",
     "text": [
      "WARNING:tensorflow:Early stopping conditioned on metric `val_accuracy` which is not available. Available metrics are: loss,categorical_accuracy,val_loss,val_categorical_accuracy\n"
     ]
    },
    {
     "name": "stdout",
     "output_type": "stream",
     "text": [
      "3/3 [==============================] - 63s 21s/step - loss: 1.2354 - categorical_accuracy: 0.5833 - val_loss: 1.0711 - val_categorical_accuracy: 0.7500\n",
      "Epoch 42/200\n",
      "3/3 [==============================] - ETA: 0s - loss: 1.2550 - categorical_accuracy: 0.6250 WARNING:tensorflow:Early stopping conditioned on metric `val_accuracy` which is not available. Available metrics are: loss,categorical_accuracy,val_loss,val_categorical_accuracy\n"
     ]
    },
    {
     "name": "stderr",
     "output_type": "stream",
     "text": [
      "WARNING:tensorflow:Early stopping conditioned on metric `val_accuracy` which is not available. Available metrics are: loss,categorical_accuracy,val_loss,val_categorical_accuracy\n"
     ]
    },
    {
     "name": "stdout",
     "output_type": "stream",
     "text": [
      "3/3 [==============================] - 63s 21s/step - loss: 1.2550 - categorical_accuracy: 0.6250 - val_loss: 1.2895 - val_categorical_accuracy: 0.3750\n",
      "Epoch 43/200\n",
      "3/3 [==============================] - ETA: 0s - loss: 1.2223 - categorical_accuracy: 0.5417  WARNING:tensorflow:Early stopping conditioned on metric `val_accuracy` which is not available. Available metrics are: loss,categorical_accuracy,val_loss,val_categorical_accuracy\n"
     ]
    },
    {
     "name": "stderr",
     "output_type": "stream",
     "text": [
      "WARNING:tensorflow:Early stopping conditioned on metric `val_accuracy` which is not available. Available metrics are: loss,categorical_accuracy,val_loss,val_categorical_accuracy\n"
     ]
    },
    {
     "name": "stdout",
     "output_type": "stream",
     "text": [
      "3/3 [==============================] - 110s 45s/step - loss: 1.2223 - categorical_accuracy: 0.5417 - val_loss: 1.4001 - val_categorical_accuracy: 0.2500\n",
      "Epoch 44/200\n",
      "3/3 [==============================] - ETA: 0s - loss: 1.3362 - categorical_accuracy: 0.4167 WARNING:tensorflow:Early stopping conditioned on metric `val_accuracy` which is not available. Available metrics are: loss,categorical_accuracy,val_loss,val_categorical_accuracy\n"
     ]
    },
    {
     "name": "stderr",
     "output_type": "stream",
     "text": [
      "WARNING:tensorflow:Early stopping conditioned on metric `val_accuracy` which is not available. Available metrics are: loss,categorical_accuracy,val_loss,val_categorical_accuracy\n"
     ]
    },
    {
     "name": "stdout",
     "output_type": "stream",
     "text": [
      "3/3 [==============================] - 64s 21s/step - loss: 1.3362 - categorical_accuracy: 0.4167 - val_loss: 1.2507 - val_categorical_accuracy: 0.5000\n",
      "Epoch 45/200\n",
      "3/3 [==============================] - ETA: 0s - loss: 1.1695 - categorical_accuracy: 0.7083 WARNING:tensorflow:Early stopping conditioned on metric `val_accuracy` which is not available. Available metrics are: loss,categorical_accuracy,val_loss,val_categorical_accuracy\n"
     ]
    },
    {
     "name": "stderr",
     "output_type": "stream",
     "text": [
      "WARNING:tensorflow:Early stopping conditioned on metric `val_accuracy` which is not available. Available metrics are: loss,categorical_accuracy,val_loss,val_categorical_accuracy\n"
     ]
    },
    {
     "name": "stdout",
     "output_type": "stream",
     "text": [
      "3/3 [==============================] - 60s 20s/step - loss: 1.1695 - categorical_accuracy: 0.7083 - val_loss: 1.3153 - val_categorical_accuracy: 0.6250\n",
      "Epoch 46/200\n",
      "3/3 [==============================] - ETA: 0s - loss: 1.1744 - categorical_accuracy: 0.6250 WARNING:tensorflow:Early stopping conditioned on metric `val_accuracy` which is not available. Available metrics are: loss,categorical_accuracy,val_loss,val_categorical_accuracy\n"
     ]
    },
    {
     "name": "stderr",
     "output_type": "stream",
     "text": [
      "WARNING:tensorflow:Early stopping conditioned on metric `val_accuracy` which is not available. Available metrics are: loss,categorical_accuracy,val_loss,val_categorical_accuracy\n"
     ]
    },
    {
     "name": "stdout",
     "output_type": "stream",
     "text": [
      "3/3 [==============================] - 60s 20s/step - loss: 1.1744 - categorical_accuracy: 0.6250 - val_loss: 1.2318 - val_categorical_accuracy: 0.6250\n",
      "Epoch 47/200\n",
      "3/3 [==============================] - ETA: 0s - loss: 1.3923 - categorical_accuracy: 0.3333 WARNING:tensorflow:Early stopping conditioned on metric `val_accuracy` which is not available. Available metrics are: loss,categorical_accuracy,val_loss,val_categorical_accuracy\n"
     ]
    },
    {
     "name": "stderr",
     "output_type": "stream",
     "text": [
      "WARNING:tensorflow:Early stopping conditioned on metric `val_accuracy` which is not available. Available metrics are: loss,categorical_accuracy,val_loss,val_categorical_accuracy\n"
     ]
    },
    {
     "name": "stdout",
     "output_type": "stream",
     "text": [
      "3/3 [==============================] - 62s 21s/step - loss: 1.3923 - categorical_accuracy: 0.3333 - val_loss: 1.3695 - val_categorical_accuracy: 0.2500\n",
      "Epoch 48/200\n",
      "3/3 [==============================] - ETA: 0s - loss: 1.3361 - categorical_accuracy: 0.2500 WARNING:tensorflow:Early stopping conditioned on metric `val_accuracy` which is not available. Available metrics are: loss,categorical_accuracy,val_loss,val_categorical_accuracy\n"
     ]
    },
    {
     "name": "stderr",
     "output_type": "stream",
     "text": [
      "WARNING:tensorflow:Early stopping conditioned on metric `val_accuracy` which is not available. Available metrics are: loss,categorical_accuracy,val_loss,val_categorical_accuracy\n"
     ]
    },
    {
     "name": "stdout",
     "output_type": "stream",
     "text": [
      "3/3 [==============================] - 63s 21s/step - loss: 1.3361 - categorical_accuracy: 0.2500 - val_loss: 1.3150 - val_categorical_accuracy: 0.3750\n",
      "Epoch 49/200\n",
      "3/3 [==============================] - ETA: 0s - loss: 1.2171 - categorical_accuracy: 0.4583 WARNING:tensorflow:Early stopping conditioned on metric `val_accuracy` which is not available. Available metrics are: loss,categorical_accuracy,val_loss,val_categorical_accuracy\n"
     ]
    },
    {
     "name": "stderr",
     "output_type": "stream",
     "text": [
      "WARNING:tensorflow:Early stopping conditioned on metric `val_accuracy` which is not available. Available metrics are: loss,categorical_accuracy,val_loss,val_categorical_accuracy\n"
     ]
    },
    {
     "name": "stdout",
     "output_type": "stream",
     "text": [
      "3/3 [==============================] - 67s 23s/step - loss: 1.2171 - categorical_accuracy: 0.4583 - val_loss: 1.4300 - val_categorical_accuracy: 0.3750\n",
      "Epoch 50/200\n",
      "3/3 [==============================] - ETA: 0s - loss: 1.3482 - categorical_accuracy: 0.4167 WARNING:tensorflow:Early stopping conditioned on metric `val_accuracy` which is not available. Available metrics are: loss,categorical_accuracy,val_loss,val_categorical_accuracy\n"
     ]
    },
    {
     "name": "stderr",
     "output_type": "stream",
     "text": [
      "WARNING:tensorflow:Early stopping conditioned on metric `val_accuracy` which is not available. Available metrics are: loss,categorical_accuracy,val_loss,val_categorical_accuracy\n"
     ]
    },
    {
     "name": "stdout",
     "output_type": "stream",
     "text": [
      "3/3 [==============================] - 68s 22s/step - loss: 1.3482 - categorical_accuracy: 0.4167 - val_loss: 1.0928 - val_categorical_accuracy: 0.5000\n",
      "Epoch 51/200\n",
      "3/3 [==============================] - ETA: 0s - loss: 1.2705 - categorical_accuracy: 0.4583 WARNING:tensorflow:Early stopping conditioned on metric `val_accuracy` which is not available. Available metrics are: loss,categorical_accuracy,val_loss,val_categorical_accuracy\n"
     ]
    },
    {
     "name": "stderr",
     "output_type": "stream",
     "text": [
      "WARNING:tensorflow:Early stopping conditioned on metric `val_accuracy` which is not available. Available metrics are: loss,categorical_accuracy,val_loss,val_categorical_accuracy\n"
     ]
    },
    {
     "name": "stdout",
     "output_type": "stream",
     "text": [
      "3/3 [==============================] - 69s 23s/step - loss: 1.2705 - categorical_accuracy: 0.4583 - val_loss: 1.3459 - val_categorical_accuracy: 0.5000\n",
      "Epoch 52/200\n",
      "3/3 [==============================] - ETA: 0s - loss: 1.2263 - categorical_accuracy: 0.6250 WARNING:tensorflow:Early stopping conditioned on metric `val_accuracy` which is not available. Available metrics are: loss,categorical_accuracy,val_loss,val_categorical_accuracy\n"
     ]
    },
    {
     "name": "stderr",
     "output_type": "stream",
     "text": [
      "WARNING:tensorflow:Early stopping conditioned on metric `val_accuracy` which is not available. Available metrics are: loss,categorical_accuracy,val_loss,val_categorical_accuracy\n"
     ]
    },
    {
     "name": "stdout",
     "output_type": "stream",
     "text": [
      "3/3 [==============================] - 63s 21s/step - loss: 1.2263 - categorical_accuracy: 0.6250 - val_loss: 1.3057 - val_categorical_accuracy: 0.3750\n",
      "Epoch 53/200\n",
      "3/3 [==============================] - ETA: 0s - loss: 1.2717 - categorical_accuracy: 0.3750 WARNING:tensorflow:Early stopping conditioned on metric `val_accuracy` which is not available. Available metrics are: loss,categorical_accuracy,val_loss,val_categorical_accuracy\n"
     ]
    },
    {
     "name": "stderr",
     "output_type": "stream",
     "text": [
      "WARNING:tensorflow:Early stopping conditioned on metric `val_accuracy` which is not available. Available metrics are: loss,categorical_accuracy,val_loss,val_categorical_accuracy\n"
     ]
    },
    {
     "name": "stdout",
     "output_type": "stream",
     "text": [
      "3/3 [==============================] - 63s 21s/step - loss: 1.2717 - categorical_accuracy: 0.3750 - val_loss: 1.2122 - val_categorical_accuracy: 0.5000\n",
      "Epoch 54/200\n",
      "3/3 [==============================] - ETA: 0s - loss: 1.2468 - categorical_accuracy: 0.5417 WARNING:tensorflow:Early stopping conditioned on metric `val_accuracy` which is not available. Available metrics are: loss,categorical_accuracy,val_loss,val_categorical_accuracy\n"
     ]
    },
    {
     "name": "stderr",
     "output_type": "stream",
     "text": [
      "WARNING:tensorflow:Early stopping conditioned on metric `val_accuracy` which is not available. Available metrics are: loss,categorical_accuracy,val_loss,val_categorical_accuracy\n"
     ]
    },
    {
     "name": "stdout",
     "output_type": "stream",
     "text": [
      "3/3 [==============================] - 65s 21s/step - loss: 1.2468 - categorical_accuracy: 0.5417 - val_loss: 1.3944 - val_categorical_accuracy: 0.3750\n",
      "Epoch 55/200\n",
      "3/3 [==============================] - ETA: 0s - loss: 1.4077 - categorical_accuracy: 0.3750 WARNING:tensorflow:Early stopping conditioned on metric `val_accuracy` which is not available. Available metrics are: loss,categorical_accuracy,val_loss,val_categorical_accuracy\n"
     ]
    },
    {
     "name": "stderr",
     "output_type": "stream",
     "text": [
      "WARNING:tensorflow:Early stopping conditioned on metric `val_accuracy` which is not available. Available metrics are: loss,categorical_accuracy,val_loss,val_categorical_accuracy\n"
     ]
    },
    {
     "name": "stdout",
     "output_type": "stream",
     "text": [
      "3/3 [==============================] - 60s 20s/step - loss: 1.4077 - categorical_accuracy: 0.3750 - val_loss: 1.3732 - val_categorical_accuracy: 0.3750\n",
      "Epoch 56/200\n",
      "3/3 [==============================] - ETA: 0s - loss: 1.3217 - categorical_accuracy: 0.5000 WARNING:tensorflow:Early stopping conditioned on metric `val_accuracy` which is not available. Available metrics are: loss,categorical_accuracy,val_loss,val_categorical_accuracy\n"
     ]
    },
    {
     "name": "stderr",
     "output_type": "stream",
     "text": [
      "WARNING:tensorflow:Early stopping conditioned on metric `val_accuracy` which is not available. Available metrics are: loss,categorical_accuracy,val_loss,val_categorical_accuracy\n"
     ]
    },
    {
     "name": "stdout",
     "output_type": "stream",
     "text": [
      "3/3 [==============================] - 60s 20s/step - loss: 1.3217 - categorical_accuracy: 0.5000 - val_loss: 1.5255 - val_categorical_accuracy: 0.3750\n",
      "Epoch 57/200\n",
      "3/3 [==============================] - ETA: 0s - loss: 1.3387 - categorical_accuracy: 0.3333 WARNING:tensorflow:Early stopping conditioned on metric `val_accuracy` which is not available. Available metrics are: loss,categorical_accuracy,val_loss,val_categorical_accuracy\n"
     ]
    },
    {
     "name": "stderr",
     "output_type": "stream",
     "text": [
      "WARNING:tensorflow:Early stopping conditioned on metric `val_accuracy` which is not available. Available metrics are: loss,categorical_accuracy,val_loss,val_categorical_accuracy\n"
     ]
    },
    {
     "name": "stdout",
     "output_type": "stream",
     "text": [
      "3/3 [==============================] - 60s 20s/step - loss: 1.3387 - categorical_accuracy: 0.3333 - val_loss: 1.2600 - val_categorical_accuracy: 0.3750\n",
      "Epoch 58/200\n",
      "3/3 [==============================] - ETA: 0s - loss: 1.2477 - categorical_accuracy: 0.4583 WARNING:tensorflow:Early stopping conditioned on metric `val_accuracy` which is not available. Available metrics are: loss,categorical_accuracy,val_loss,val_categorical_accuracy\n"
     ]
    },
    {
     "name": "stderr",
     "output_type": "stream",
     "text": [
      "WARNING:tensorflow:Early stopping conditioned on metric `val_accuracy` which is not available. Available metrics are: loss,categorical_accuracy,val_loss,val_categorical_accuracy\n"
     ]
    },
    {
     "name": "stdout",
     "output_type": "stream",
     "text": [
      "3/3 [==============================] - 60s 20s/step - loss: 1.2477 - categorical_accuracy: 0.4583 - val_loss: 1.5530 - val_categorical_accuracy: 0.2500\n",
      "Epoch 59/200\n",
      "3/3 [==============================] - ETA: 0s - loss: 1.2732 - categorical_accuracy: 0.3333 WARNING:tensorflow:Early stopping conditioned on metric `val_accuracy` which is not available. Available metrics are: loss,categorical_accuracy,val_loss,val_categorical_accuracy\n"
     ]
    },
    {
     "name": "stderr",
     "output_type": "stream",
     "text": [
      "WARNING:tensorflow:Early stopping conditioned on metric `val_accuracy` which is not available. Available metrics are: loss,categorical_accuracy,val_loss,val_categorical_accuracy\n"
     ]
    },
    {
     "name": "stdout",
     "output_type": "stream",
     "text": [
      "3/3 [==============================] - 62s 21s/step - loss: 1.2732 - categorical_accuracy: 0.3333 - val_loss: 1.3725 - val_categorical_accuracy: 0.1250\n",
      "Epoch 60/200\n",
      "3/3 [==============================] - ETA: 0s - loss: 1.2199 - categorical_accuracy: 0.4167 WARNING:tensorflow:Early stopping conditioned on metric `val_accuracy` which is not available. Available metrics are: loss,categorical_accuracy,val_loss,val_categorical_accuracy\n"
     ]
    },
    {
     "name": "stderr",
     "output_type": "stream",
     "text": [
      "WARNING:tensorflow:Early stopping conditioned on metric `val_accuracy` which is not available. Available metrics are: loss,categorical_accuracy,val_loss,val_categorical_accuracy\n"
     ]
    },
    {
     "name": "stdout",
     "output_type": "stream",
     "text": [
      "3/3 [==============================] - 63s 21s/step - loss: 1.2199 - categorical_accuracy: 0.4167 - val_loss: 1.3324 - val_categorical_accuracy: 0.3750\n",
      "Epoch 61/200\n",
      "3/3 [==============================] - ETA: 0s - loss: 1.2400 - categorical_accuracy: 0.4167 WARNING:tensorflow:Early stopping conditioned on metric `val_accuracy` which is not available. Available metrics are: loss,categorical_accuracy,val_loss,val_categorical_accuracy\n"
     ]
    },
    {
     "name": "stderr",
     "output_type": "stream",
     "text": [
      "WARNING:tensorflow:Early stopping conditioned on metric `val_accuracy` which is not available. Available metrics are: loss,categorical_accuracy,val_loss,val_categorical_accuracy\n"
     ]
    },
    {
     "name": "stdout",
     "output_type": "stream",
     "text": [
      "3/3 [==============================] - 63s 21s/step - loss: 1.2400 - categorical_accuracy: 0.4167 - val_loss: 1.0819 - val_categorical_accuracy: 0.6250\n",
      "Epoch 62/200\n",
      "3/3 [==============================] - ETA: 0s - loss: 1.2987 - categorical_accuracy: 0.3333 WARNING:tensorflow:Early stopping conditioned on metric `val_accuracy` which is not available. Available metrics are: loss,categorical_accuracy,val_loss,val_categorical_accuracy\n"
     ]
    },
    {
     "name": "stderr",
     "output_type": "stream",
     "text": [
      "WARNING:tensorflow:Early stopping conditioned on metric `val_accuracy` which is not available. Available metrics are: loss,categorical_accuracy,val_loss,val_categorical_accuracy\n"
     ]
    },
    {
     "name": "stdout",
     "output_type": "stream",
     "text": [
      "3/3 [==============================] - 63s 21s/step - loss: 1.2987 - categorical_accuracy: 0.3333 - val_loss: 1.1316 - val_categorical_accuracy: 0.6250\n",
      "Epoch 63/200\n",
      "3/3 [==============================] - ETA: 0s - loss: 1.3669 - categorical_accuracy: 0.2917 WARNING:tensorflow:Early stopping conditioned on metric `val_accuracy` which is not available. Available metrics are: loss,categorical_accuracy,val_loss,val_categorical_accuracy\n"
     ]
    },
    {
     "name": "stderr",
     "output_type": "stream",
     "text": [
      "WARNING:tensorflow:Early stopping conditioned on metric `val_accuracy` which is not available. Available metrics are: loss,categorical_accuracy,val_loss,val_categorical_accuracy\n"
     ]
    },
    {
     "name": "stdout",
     "output_type": "stream",
     "text": [
      "3/3 [==============================] - 63s 21s/step - loss: 1.3669 - categorical_accuracy: 0.2917 - val_loss: 1.2894 - val_categorical_accuracy: 0.2500\n",
      "Epoch 64/200\n",
      "3/3 [==============================] - ETA: 0s - loss: 1.3130 - categorical_accuracy: 0.3750 WARNING:tensorflow:Early stopping conditioned on metric `val_accuracy` which is not available. Available metrics are: loss,categorical_accuracy,val_loss,val_categorical_accuracy\n"
     ]
    },
    {
     "name": "stderr",
     "output_type": "stream",
     "text": [
      "WARNING:tensorflow:Early stopping conditioned on metric `val_accuracy` which is not available. Available metrics are: loss,categorical_accuracy,val_loss,val_categorical_accuracy\n"
     ]
    },
    {
     "name": "stdout",
     "output_type": "stream",
     "text": [
      "3/3 [==============================] - 475s 227s/step - loss: 1.3130 - categorical_accuracy: 0.3750 - val_loss: 1.3193 - val_categorical_accuracy: 0.3750\n",
      "Epoch 65/200\n",
      "3/3 [==============================] - ETA: 0s - loss: 1.3495 - categorical_accuracy: 0.4583   WARNING:tensorflow:Early stopping conditioned on metric `val_accuracy` which is not available. Available metrics are: loss,categorical_accuracy,val_loss,val_categorical_accuracy\n"
     ]
    },
    {
     "name": "stderr",
     "output_type": "stream",
     "text": [
      "WARNING:tensorflow:Early stopping conditioned on metric `val_accuracy` which is not available. Available metrics are: loss,categorical_accuracy,val_loss,val_categorical_accuracy\n"
     ]
    },
    {
     "name": "stdout",
     "output_type": "stream",
     "text": [
      "3/3 [==============================] - 1050s 515s/step - loss: 1.3495 - categorical_accuracy: 0.4583 - val_loss: 1.2659 - val_categorical_accuracy: 0.5000\n",
      "Epoch 66/200\n",
      "3/3 [==============================] - ETA: 0s - loss: 1.2654 - categorical_accuracy: 0.4583 WARNING:tensorflow:Early stopping conditioned on metric `val_accuracy` which is not available. Available metrics are: loss,categorical_accuracy,val_loss,val_categorical_accuracy\n"
     ]
    },
    {
     "name": "stderr",
     "output_type": "stream",
     "text": [
      "WARNING:tensorflow:Early stopping conditioned on metric `val_accuracy` which is not available. Available metrics are: loss,categorical_accuracy,val_loss,val_categorical_accuracy\n"
     ]
    },
    {
     "name": "stdout",
     "output_type": "stream",
     "text": [
      "3/3 [==============================] - 60s 20s/step - loss: 1.2654 - categorical_accuracy: 0.4583 - val_loss: 1.3538 - val_categorical_accuracy: 0.5000\n",
      "Epoch 67/200\n",
      "3/3 [==============================] - ETA: 0s - loss: 1.2064 - categorical_accuracy: 0.5833   WARNING:tensorflow:Early stopping conditioned on metric `val_accuracy` which is not available. Available metrics are: loss,categorical_accuracy,val_loss,val_categorical_accuracy\n"
     ]
    },
    {
     "name": "stderr",
     "output_type": "stream",
     "text": [
      "WARNING:tensorflow:Early stopping conditioned on metric `val_accuracy` which is not available. Available metrics are: loss,categorical_accuracy,val_loss,val_categorical_accuracy\n"
     ]
    },
    {
     "name": "stdout",
     "output_type": "stream",
     "text": [
      "3/3 [==============================] - 963s 472s/step - loss: 1.2064 - categorical_accuracy: 0.5833 - val_loss: 0.9846 - val_categorical_accuracy: 0.7500\n",
      "Epoch 68/200\n",
      "3/3 [==============================] - ETA: 0s - loss: 1.1918 - categorical_accuracy: 0.5000 WARNING:tensorflow:Early stopping conditioned on metric `val_accuracy` which is not available. Available metrics are: loss,categorical_accuracy,val_loss,val_categorical_accuracy\n"
     ]
    },
    {
     "name": "stderr",
     "output_type": "stream",
     "text": [
      "WARNING:tensorflow:Early stopping conditioned on metric `val_accuracy` which is not available. Available metrics are: loss,categorical_accuracy,val_loss,val_categorical_accuracy\n"
     ]
    },
    {
     "name": "stdout",
     "output_type": "stream",
     "text": [
      "3/3 [==============================] - 60s 20s/step - loss: 1.1918 - categorical_accuracy: 0.5000 - val_loss: 1.2634 - val_categorical_accuracy: 0.1250\n",
      "Epoch 69/200\n",
      "3/3 [==============================] - ETA: 0s - loss: 1.0297 - categorical_accuracy: 0.5417 WARNING:tensorflow:Early stopping conditioned on metric `val_accuracy` which is not available. Available metrics are: loss,categorical_accuracy,val_loss,val_categorical_accuracy\n"
     ]
    },
    {
     "name": "stderr",
     "output_type": "stream",
     "text": [
      "WARNING:tensorflow:Early stopping conditioned on metric `val_accuracy` which is not available. Available metrics are: loss,categorical_accuracy,val_loss,val_categorical_accuracy\n"
     ]
    },
    {
     "name": "stdout",
     "output_type": "stream",
     "text": [
      "3/3 [==============================] - 60s 20s/step - loss: 1.0297 - categorical_accuracy: 0.5417 - val_loss: 1.0442 - val_categorical_accuracy: 0.6250\n",
      "Epoch 70/200\n",
      "3/3 [==============================] - ETA: 0s - loss: 1.1626 - categorical_accuracy: 0.4167 WARNING:tensorflow:Early stopping conditioned on metric `val_accuracy` which is not available. Available metrics are: loss,categorical_accuracy,val_loss,val_categorical_accuracy\n"
     ]
    },
    {
     "name": "stderr",
     "output_type": "stream",
     "text": [
      "WARNING:tensorflow:Early stopping conditioned on metric `val_accuracy` which is not available. Available metrics are: loss,categorical_accuracy,val_loss,val_categorical_accuracy\n"
     ]
    },
    {
     "name": "stdout",
     "output_type": "stream",
     "text": [
      "3/3 [==============================] - 62s 21s/step - loss: 1.1626 - categorical_accuracy: 0.4167 - val_loss: 1.1872 - val_categorical_accuracy: 0.2500\n",
      "Epoch 71/200\n",
      "3/3 [==============================] - ETA: 0s - loss: 1.1381 - categorical_accuracy: 0.4167 WARNING:tensorflow:Early stopping conditioned on metric `val_accuracy` which is not available. Available metrics are: loss,categorical_accuracy,val_loss,val_categorical_accuracy\n"
     ]
    },
    {
     "name": "stderr",
     "output_type": "stream",
     "text": [
      "WARNING:tensorflow:Early stopping conditioned on metric `val_accuracy` which is not available. Available metrics are: loss,categorical_accuracy,val_loss,val_categorical_accuracy\n"
     ]
    },
    {
     "name": "stdout",
     "output_type": "stream",
     "text": [
      "3/3 [==============================] - 64s 22s/step - loss: 1.1381 - categorical_accuracy: 0.4167 - val_loss: 1.2394 - val_categorical_accuracy: 0.1250\n",
      "Epoch 72/200\n",
      "3/3 [==============================] - ETA: 0s - loss: 1.2534 - categorical_accuracy: 0.3333 WARNING:tensorflow:Early stopping conditioned on metric `val_accuracy` which is not available. Available metrics are: loss,categorical_accuracy,val_loss,val_categorical_accuracy\n"
     ]
    },
    {
     "name": "stderr",
     "output_type": "stream",
     "text": [
      "WARNING:tensorflow:Early stopping conditioned on metric `val_accuracy` which is not available. Available metrics are: loss,categorical_accuracy,val_loss,val_categorical_accuracy\n"
     ]
    },
    {
     "name": "stdout",
     "output_type": "stream",
     "text": [
      "3/3 [==============================] - 65s 22s/step - loss: 1.2534 - categorical_accuracy: 0.3333 - val_loss: 1.7169 - val_categorical_accuracy: 0.1250\n",
      "Epoch 73/200\n",
      "3/3 [==============================] - ETA: 0s - loss: 1.4310 - categorical_accuracy: 0.2917 WARNING:tensorflow:Early stopping conditioned on metric `val_accuracy` which is not available. Available metrics are: loss,categorical_accuracy,val_loss,val_categorical_accuracy\n"
     ]
    },
    {
     "name": "stderr",
     "output_type": "stream",
     "text": [
      "WARNING:tensorflow:Early stopping conditioned on metric `val_accuracy` which is not available. Available metrics are: loss,categorical_accuracy,val_loss,val_categorical_accuracy\n"
     ]
    },
    {
     "name": "stdout",
     "output_type": "stream",
     "text": [
      "3/3 [==============================] - 66s 22s/step - loss: 1.4310 - categorical_accuracy: 0.2917 - val_loss: 1.2093 - val_categorical_accuracy: 0.5000\n",
      "Epoch 74/200\n",
      "3/3 [==============================] - ETA: 0s - loss: 1.4598 - categorical_accuracy: 0.2500 WARNING:tensorflow:Early stopping conditioned on metric `val_accuracy` which is not available. Available metrics are: loss,categorical_accuracy,val_loss,val_categorical_accuracy\n"
     ]
    },
    {
     "name": "stderr",
     "output_type": "stream",
     "text": [
      "WARNING:tensorflow:Early stopping conditioned on metric `val_accuracy` which is not available. Available metrics are: loss,categorical_accuracy,val_loss,val_categorical_accuracy\n"
     ]
    },
    {
     "name": "stdout",
     "output_type": "stream",
     "text": [
      "3/3 [==============================] - 66s 22s/step - loss: 1.4598 - categorical_accuracy: 0.2500 - val_loss: 1.3708 - val_categorical_accuracy: 0.0000e+00\n",
      "Epoch 75/200\n",
      "3/3 [==============================] - ETA: 0s - loss: 1.2267 - categorical_accuracy: 0.3333 WARNING:tensorflow:Early stopping conditioned on metric `val_accuracy` which is not available. Available metrics are: loss,categorical_accuracy,val_loss,val_categorical_accuracy\n"
     ]
    },
    {
     "name": "stderr",
     "output_type": "stream",
     "text": [
      "WARNING:tensorflow:Early stopping conditioned on metric `val_accuracy` which is not available. Available metrics are: loss,categorical_accuracy,val_loss,val_categorical_accuracy\n"
     ]
    },
    {
     "name": "stdout",
     "output_type": "stream",
     "text": [
      "3/3 [==============================] - 67s 22s/step - loss: 1.2267 - categorical_accuracy: 0.3333 - val_loss: 1.3040 - val_categorical_accuracy: 0.2500\n",
      "Epoch 76/200\n",
      "3/3 [==============================] - ETA: 0s - loss: 1.2602 - categorical_accuracy: 0.5417 WARNING:tensorflow:Early stopping conditioned on metric `val_accuracy` which is not available. Available metrics are: loss,categorical_accuracy,val_loss,val_categorical_accuracy\n"
     ]
    },
    {
     "name": "stderr",
     "output_type": "stream",
     "text": [
      "WARNING:tensorflow:Early stopping conditioned on metric `val_accuracy` which is not available. Available metrics are: loss,categorical_accuracy,val_loss,val_categorical_accuracy\n"
     ]
    },
    {
     "name": "stdout",
     "output_type": "stream",
     "text": [
      "3/3 [==============================] - 67s 22s/step - loss: 1.2602 - categorical_accuracy: 0.5417 - val_loss: 1.2975 - val_categorical_accuracy: 0.2500\n",
      "Epoch 77/200\n",
      "3/3 [==============================] - ETA: 0s - loss: 1.2451 - categorical_accuracy: 0.3750 WARNING:tensorflow:Early stopping conditioned on metric `val_accuracy` which is not available. Available metrics are: loss,categorical_accuracy,val_loss,val_categorical_accuracy\n"
     ]
    },
    {
     "name": "stderr",
     "output_type": "stream",
     "text": [
      "WARNING:tensorflow:Early stopping conditioned on metric `val_accuracy` which is not available. Available metrics are: loss,categorical_accuracy,val_loss,val_categorical_accuracy\n"
     ]
    },
    {
     "name": "stdout",
     "output_type": "stream",
     "text": [
      "3/3 [==============================] - 68s 23s/step - loss: 1.2451 - categorical_accuracy: 0.3750 - val_loss: 1.3657 - val_categorical_accuracy: 0.3750\n",
      "Epoch 78/200\n",
      "3/3 [==============================] - ETA: 0s - loss: 1.2710 - categorical_accuracy: 0.4167 WARNING:tensorflow:Early stopping conditioned on metric `val_accuracy` which is not available. Available metrics are: loss,categorical_accuracy,val_loss,val_categorical_accuracy\n"
     ]
    },
    {
     "name": "stderr",
     "output_type": "stream",
     "text": [
      "WARNING:tensorflow:Early stopping conditioned on metric `val_accuracy` which is not available. Available metrics are: loss,categorical_accuracy,val_loss,val_categorical_accuracy\n"
     ]
    },
    {
     "name": "stdout",
     "output_type": "stream",
     "text": [
      "3/3 [==============================] - 71s 24s/step - loss: 1.2710 - categorical_accuracy: 0.4167 - val_loss: 1.1341 - val_categorical_accuracy: 0.5000\n",
      "Epoch 79/200\n",
      "3/3 [==============================] - ETA: 0s - loss: 1.2723 - categorical_accuracy: 0.5000 WARNING:tensorflow:Early stopping conditioned on metric `val_accuracy` which is not available. Available metrics are: loss,categorical_accuracy,val_loss,val_categorical_accuracy\n"
     ]
    },
    {
     "name": "stderr",
     "output_type": "stream",
     "text": [
      "WARNING:tensorflow:Early stopping conditioned on metric `val_accuracy` which is not available. Available metrics are: loss,categorical_accuracy,val_loss,val_categorical_accuracy\n"
     ]
    },
    {
     "name": "stdout",
     "output_type": "stream",
     "text": [
      "3/3 [==============================] - 81s 28s/step - loss: 1.2723 - categorical_accuracy: 0.5000 - val_loss: 1.0917 - val_categorical_accuracy: 0.3750\n",
      "Epoch 80/200\n",
      "3/3 [==============================] - ETA: 0s - loss: 1.2160 - categorical_accuracy: 0.4583   WARNING:tensorflow:Early stopping conditioned on metric `val_accuracy` which is not available. Available metrics are: loss,categorical_accuracy,val_loss,val_categorical_accuracy\n"
     ]
    },
    {
     "name": "stderr",
     "output_type": "stream",
     "text": [
      "WARNING:tensorflow:Early stopping conditioned on metric `val_accuracy` which is not available. Available metrics are: loss,categorical_accuracy,val_loss,val_categorical_accuracy\n"
     ]
    },
    {
     "name": "stdout",
     "output_type": "stream",
     "text": [
      "3/3 [==============================] - 967s 470s/step - loss: 1.2160 - categorical_accuracy: 0.4583 - val_loss: 0.9654 - val_categorical_accuracy: 0.5000\n",
      "Epoch 81/200\n",
      "3/3 [==============================] - ETA: 0s - loss: 1.1758 - categorical_accuracy: 0.4583 WARNING:tensorflow:Early stopping conditioned on metric `val_accuracy` which is not available. Available metrics are: loss,categorical_accuracy,val_loss,val_categorical_accuracy\n"
     ]
    },
    {
     "name": "stderr",
     "output_type": "stream",
     "text": [
      "WARNING:tensorflow:Early stopping conditioned on metric `val_accuracy` which is not available. Available metrics are: loss,categorical_accuracy,val_loss,val_categorical_accuracy\n"
     ]
    },
    {
     "name": "stdout",
     "output_type": "stream",
     "text": [
      "3/3 [==============================] - 60s 20s/step - loss: 1.1758 - categorical_accuracy: 0.4583 - val_loss: 1.0452 - val_categorical_accuracy: 0.6250\n",
      "Epoch 82/200\n",
      "3/3 [==============================] - ETA: 0s - loss: 1.0764 - categorical_accuracy: 0.5000   WARNING:tensorflow:Early stopping conditioned on metric `val_accuracy` which is not available. Available metrics are: loss,categorical_accuracy,val_loss,val_categorical_accuracy\n"
     ]
    },
    {
     "name": "stderr",
     "output_type": "stream",
     "text": [
      "WARNING:tensorflow:Early stopping conditioned on metric `val_accuracy` which is not available. Available metrics are: loss,categorical_accuracy,val_loss,val_categorical_accuracy\n"
     ]
    },
    {
     "name": "stdout",
     "output_type": "stream",
     "text": [
      "3/3 [==============================] - 1067s 523s/step - loss: 1.0764 - categorical_accuracy: 0.5000 - val_loss: 0.9963 - val_categorical_accuracy: 0.6250\n",
      "Epoch 83/200\n",
      "3/3 [==============================] - ETA: 0s - loss: 1.1357 - categorical_accuracy: 0.5000 WARNING:tensorflow:Early stopping conditioned on metric `val_accuracy` which is not available. Available metrics are: loss,categorical_accuracy,val_loss,val_categorical_accuracy\n"
     ]
    },
    {
     "name": "stderr",
     "output_type": "stream",
     "text": [
      "WARNING:tensorflow:Early stopping conditioned on metric `val_accuracy` which is not available. Available metrics are: loss,categorical_accuracy,val_loss,val_categorical_accuracy\n"
     ]
    },
    {
     "name": "stdout",
     "output_type": "stream",
     "text": [
      "3/3 [==============================] - 60s 20s/step - loss: 1.1357 - categorical_accuracy: 0.5000 - val_loss: 1.2094 - val_categorical_accuracy: 0.6250\n",
      "Epoch 84/200\n",
      "3/3 [==============================] - ETA: 0s - loss: 1.1350 - categorical_accuracy: 0.6250   WARNING:tensorflow:Early stopping conditioned on metric `val_accuracy` which is not available. Available metrics are: loss,categorical_accuracy,val_loss,val_categorical_accuracy\n"
     ]
    },
    {
     "name": "stderr",
     "output_type": "stream",
     "text": [
      "WARNING:tensorflow:Early stopping conditioned on metric `val_accuracy` which is not available. Available metrics are: loss,categorical_accuracy,val_loss,val_categorical_accuracy\n"
     ]
    },
    {
     "name": "stdout",
     "output_type": "stream",
     "text": [
      "3/3 [==============================] - 997s 489s/step - loss: 1.1350 - categorical_accuracy: 0.6250 - val_loss: 1.3882 - val_categorical_accuracy: 0.2500\n",
      "Epoch 85/200\n",
      "3/3 [==============================] - ETA: 0s - loss: 1.2046 - categorical_accuracy: 0.5417 WARNING:tensorflow:Early stopping conditioned on metric `val_accuracy` which is not available. Available metrics are: loss,categorical_accuracy,val_loss,val_categorical_accuracy\n"
     ]
    },
    {
     "name": "stderr",
     "output_type": "stream",
     "text": [
      "WARNING:tensorflow:Early stopping conditioned on metric `val_accuracy` which is not available. Available metrics are: loss,categorical_accuracy,val_loss,val_categorical_accuracy\n"
     ]
    },
    {
     "name": "stdout",
     "output_type": "stream",
     "text": [
      "3/3 [==============================] - 60s 20s/step - loss: 1.2046 - categorical_accuracy: 0.5417 - val_loss: 1.1602 - val_categorical_accuracy: 0.6250\n",
      "Epoch 86/200\n",
      "3/3 [==============================] - ETA: 0s - loss: 1.2401 - categorical_accuracy: 0.4167  WARNING:tensorflow:Early stopping conditioned on metric `val_accuracy` which is not available. Available metrics are: loss,categorical_accuracy,val_loss,val_categorical_accuracy\n"
     ]
    },
    {
     "name": "stderr",
     "output_type": "stream",
     "text": [
      "WARNING:tensorflow:Early stopping conditioned on metric `val_accuracy` which is not available. Available metrics are: loss,categorical_accuracy,val_loss,val_categorical_accuracy\n"
     ]
    },
    {
     "name": "stdout",
     "output_type": "stream",
     "text": [
      "3/3 [==============================] - 470s 225s/step - loss: 1.2401 - categorical_accuracy: 0.4167 - val_loss: 1.2917 - val_categorical_accuracy: 0.5000\n",
      "Epoch 87/200\n",
      "3/3 [==============================] - ETA: 0s - loss: 1.2690 - categorical_accuracy: 0.5833 WARNING:tensorflow:Early stopping conditioned on metric `val_accuracy` which is not available. Available metrics are: loss,categorical_accuracy,val_loss,val_categorical_accuracy\n"
     ]
    },
    {
     "name": "stderr",
     "output_type": "stream",
     "text": [
      "WARNING:tensorflow:Early stopping conditioned on metric `val_accuracy` which is not available. Available metrics are: loss,categorical_accuracy,val_loss,val_categorical_accuracy\n"
     ]
    },
    {
     "name": "stdout",
     "output_type": "stream",
     "text": [
      "3/3 [==============================] - 60s 20s/step - loss: 1.2690 - categorical_accuracy: 0.5833 - val_loss: 1.1944 - val_categorical_accuracy: 0.6250\n",
      "Epoch 88/200\n",
      "3/3 [==============================] - ETA: 0s - loss: 1.2322 - categorical_accuracy: 0.4583   WARNING:tensorflow:Early stopping conditioned on metric `val_accuracy` which is not available. Available metrics are: loss,categorical_accuracy,val_loss,val_categorical_accuracy\n"
     ]
    },
    {
     "name": "stderr",
     "output_type": "stream",
     "text": [
      "WARNING:tensorflow:Early stopping conditioned on metric `val_accuracy` which is not available. Available metrics are: loss,categorical_accuracy,val_loss,val_categorical_accuracy\n"
     ]
    },
    {
     "name": "stdout",
     "output_type": "stream",
     "text": [
      "3/3 [==============================] - 1093s 537s/step - loss: 1.2322 - categorical_accuracy: 0.4583 - val_loss: 1.3113 - val_categorical_accuracy: 0.3750\n",
      "Epoch 89/200\n",
      "3/3 [==============================] - ETA: 0s - loss: 1.2826 - categorical_accuracy: 0.4583 WARNING:tensorflow:Early stopping conditioned on metric `val_accuracy` which is not available. Available metrics are: loss,categorical_accuracy,val_loss,val_categorical_accuracy\n"
     ]
    },
    {
     "name": "stderr",
     "output_type": "stream",
     "text": [
      "WARNING:tensorflow:Early stopping conditioned on metric `val_accuracy` which is not available. Available metrics are: loss,categorical_accuracy,val_loss,val_categorical_accuracy\n"
     ]
    },
    {
     "name": "stdout",
     "output_type": "stream",
     "text": [
      "3/3 [==============================] - 60s 20s/step - loss: 1.2826 - categorical_accuracy: 0.4583 - val_loss: 1.4500 - val_categorical_accuracy: 0.1250\n",
      "Epoch 90/200\n",
      "3/3 [==============================] - ETA: 0s - loss: 1.2436 - categorical_accuracy: 0.4167   WARNING:tensorflow:Early stopping conditioned on metric `val_accuracy` which is not available. Available metrics are: loss,categorical_accuracy,val_loss,val_categorical_accuracy\n"
     ]
    },
    {
     "name": "stderr",
     "output_type": "stream",
     "text": [
      "WARNING:tensorflow:Early stopping conditioned on metric `val_accuracy` which is not available. Available metrics are: loss,categorical_accuracy,val_loss,val_categorical_accuracy\n"
     ]
    },
    {
     "name": "stdout",
     "output_type": "stream",
     "text": [
      "3/3 [==============================] - 1045s 513s/step - loss: 1.2436 - categorical_accuracy: 0.4167 - val_loss: 1.1792 - val_categorical_accuracy: 0.2500\n",
      "Epoch 91/200\n",
      "3/3 [==============================] - ETA: 0s - loss: 1.2955 - categorical_accuracy: 0.3750 WARNING:tensorflow:Early stopping conditioned on metric `val_accuracy` which is not available. Available metrics are: loss,categorical_accuracy,val_loss,val_categorical_accuracy\n"
     ]
    },
    {
     "name": "stderr",
     "output_type": "stream",
     "text": [
      "WARNING:tensorflow:Early stopping conditioned on metric `val_accuracy` which is not available. Available metrics are: loss,categorical_accuracy,val_loss,val_categorical_accuracy\n"
     ]
    },
    {
     "name": "stdout",
     "output_type": "stream",
     "text": [
      "3/3 [==============================] - 60s 20s/step - loss: 1.2955 - categorical_accuracy: 0.3750 - val_loss: 1.2922 - val_categorical_accuracy: 0.3750\n",
      "Epoch 92/200\n",
      "3/3 [==============================] - ETA: 0s - loss: 1.2943 - categorical_accuracy: 0.4167 WARNING:tensorflow:Early stopping conditioned on metric `val_accuracy` which is not available. Available metrics are: loss,categorical_accuracy,val_loss,val_categorical_accuracy\n"
     ]
    },
    {
     "name": "stderr",
     "output_type": "stream",
     "text": [
      "WARNING:tensorflow:Early stopping conditioned on metric `val_accuracy` which is not available. Available metrics are: loss,categorical_accuracy,val_loss,val_categorical_accuracy\n"
     ]
    },
    {
     "name": "stdout",
     "output_type": "stream",
     "text": [
      "3/3 [==============================] - 1018s 499s/step - loss: 1.2943 - categorical_accuracy: 0.4167 - val_loss: 1.5193 - val_categorical_accuracy: 0.2500\n",
      "Epoch 93/200\n",
      "3/3 [==============================] - ETA: 0s - loss: 1.3658 - categorical_accuracy: 0.4167 WARNING:tensorflow:Early stopping conditioned on metric `val_accuracy` which is not available. Available metrics are: loss,categorical_accuracy,val_loss,val_categorical_accuracy\n"
     ]
    },
    {
     "name": "stderr",
     "output_type": "stream",
     "text": [
      "WARNING:tensorflow:Early stopping conditioned on metric `val_accuracy` which is not available. Available metrics are: loss,categorical_accuracy,val_loss,val_categorical_accuracy\n"
     ]
    },
    {
     "name": "stdout",
     "output_type": "stream",
     "text": [
      "3/3 [==============================] - 60s 20s/step - loss: 1.3658 - categorical_accuracy: 0.4167 - val_loss: 1.1009 - val_categorical_accuracy: 0.3750\n",
      "Epoch 94/200\n",
      "3/3 [==============================] - ETA: 0s - loss: 1.2117 - categorical_accuracy: 0.3750 WARNING:tensorflow:Early stopping conditioned on metric `val_accuracy` which is not available. Available metrics are: loss,categorical_accuracy,val_loss,val_categorical_accuracy\n"
     ]
    },
    {
     "name": "stderr",
     "output_type": "stream",
     "text": [
      "WARNING:tensorflow:Early stopping conditioned on metric `val_accuracy` which is not available. Available metrics are: loss,categorical_accuracy,val_loss,val_categorical_accuracy\n"
     ]
    },
    {
     "name": "stdout",
     "output_type": "stream",
     "text": [
      "3/3 [==============================] - 971s 476s/step - loss: 1.2117 - categorical_accuracy: 0.3750 - val_loss: 1.5277 - val_categorical_accuracy: 0.2500\n",
      "Epoch 95/200\n",
      "3/3 [==============================] - ETA: 0s - loss: 1.5291 - categorical_accuracy: 0.2500 WARNING:tensorflow:Early stopping conditioned on metric `val_accuracy` which is not available. Available metrics are: loss,categorical_accuracy,val_loss,val_categorical_accuracy\n"
     ]
    },
    {
     "name": "stderr",
     "output_type": "stream",
     "text": [
      "WARNING:tensorflow:Early stopping conditioned on metric `val_accuracy` which is not available. Available metrics are: loss,categorical_accuracy,val_loss,val_categorical_accuracy\n"
     ]
    },
    {
     "name": "stdout",
     "output_type": "stream",
     "text": [
      "3/3 [==============================] - 60s 20s/step - loss: 1.5291 - categorical_accuracy: 0.2500 - val_loss: 1.4920 - val_categorical_accuracy: 0.2500\n",
      "Epoch 96/200\n",
      "3/3 [==============================] - ETA: 0s - loss: 1.3764 - categorical_accuracy: 0.4167 WARNING:tensorflow:Early stopping conditioned on metric `val_accuracy` which is not available. Available metrics are: loss,categorical_accuracy,val_loss,val_categorical_accuracy\n"
     ]
    },
    {
     "name": "stderr",
     "output_type": "stream",
     "text": [
      "WARNING:tensorflow:Early stopping conditioned on metric `val_accuracy` which is not available. Available metrics are: loss,categorical_accuracy,val_loss,val_categorical_accuracy\n"
     ]
    },
    {
     "name": "stdout",
     "output_type": "stream",
     "text": [
      "3/3 [==============================] - 60s 20s/step - loss: 1.3764 - categorical_accuracy: 0.4167 - val_loss: 1.6430 - val_categorical_accuracy: 0.2500\n",
      "Epoch 97/200\n",
      "3/3 [==============================] - ETA: 0s - loss: 1.3820 - categorical_accuracy: 0.3333 WARNING:tensorflow:Early stopping conditioned on metric `val_accuracy` which is not available. Available metrics are: loss,categorical_accuracy,val_loss,val_categorical_accuracy\n"
     ]
    },
    {
     "name": "stderr",
     "output_type": "stream",
     "text": [
      "WARNING:tensorflow:Early stopping conditioned on metric `val_accuracy` which is not available. Available metrics are: loss,categorical_accuracy,val_loss,val_categorical_accuracy\n"
     ]
    },
    {
     "name": "stdout",
     "output_type": "stream",
     "text": [
      "3/3 [==============================] - 960s 20s/step - loss: 1.3820 - categorical_accuracy: 0.3333 - val_loss: 1.2038 - val_categorical_accuracy: 0.3750\n",
      "Epoch 98/200\n",
      "3/3 [==============================] - ETA: 0s - loss: 1.4013 - categorical_accuracy: 0.2500 WARNING:tensorflow:Early stopping conditioned on metric `val_accuracy` which is not available. Available metrics are: loss,categorical_accuracy,val_loss,val_categorical_accuracy\n"
     ]
    },
    {
     "name": "stderr",
     "output_type": "stream",
     "text": [
      "WARNING:tensorflow:Early stopping conditioned on metric `val_accuracy` which is not available. Available metrics are: loss,categorical_accuracy,val_loss,val_categorical_accuracy\n"
     ]
    },
    {
     "name": "stdout",
     "output_type": "stream",
     "text": [
      "3/3 [==============================] - 60s 20s/step - loss: 1.4013 - categorical_accuracy: 0.2500 - val_loss: 1.1827 - val_categorical_accuracy: 0.6250\n",
      "Epoch 99/200\n",
      "3/3 [==============================] - ETA: 0s - loss: 1.2655 - categorical_accuracy: 0.3750 WARNING:tensorflow:Early stopping conditioned on metric `val_accuracy` which is not available. Available metrics are: loss,categorical_accuracy,val_loss,val_categorical_accuracy\n"
     ]
    },
    {
     "name": "stderr",
     "output_type": "stream",
     "text": [
      "WARNING:tensorflow:Early stopping conditioned on metric `val_accuracy` which is not available. Available metrics are: loss,categorical_accuracy,val_loss,val_categorical_accuracy\n"
     ]
    },
    {
     "name": "stdout",
     "output_type": "stream",
     "text": [
      "3/3 [==============================] - 60s 20s/step - loss: 1.2655 - categorical_accuracy: 0.3750 - val_loss: 1.2474 - val_categorical_accuracy: 0.2500\n",
      "Epoch 100/200\n",
      "3/3 [==============================] - ETA: 0s - loss: 1.1557 - categorical_accuracy: 0.4583 WARNING:tensorflow:Early stopping conditioned on metric `val_accuracy` which is not available. Available metrics are: loss,categorical_accuracy,val_loss,val_categorical_accuracy\n"
     ]
    },
    {
     "name": "stderr",
     "output_type": "stream",
     "text": [
      "WARNING:tensorflow:Early stopping conditioned on metric `val_accuracy` which is not available. Available metrics are: loss,categorical_accuracy,val_loss,val_categorical_accuracy\n"
     ]
    },
    {
     "name": "stdout",
     "output_type": "stream",
     "text": [
      "3/3 [==============================] - 982s 20s/step - loss: 1.1557 - categorical_accuracy: 0.4583 - val_loss: 1.0415 - val_categorical_accuracy: 0.6250\n",
      "Epoch 101/200\n",
      "3/3 [==============================] - ETA: 0s - loss: 1.1851 - categorical_accuracy: 0.4167 WARNING:tensorflow:Early stopping conditioned on metric `val_accuracy` which is not available. Available metrics are: loss,categorical_accuracy,val_loss,val_categorical_accuracy\n"
     ]
    },
    {
     "name": "stderr",
     "output_type": "stream",
     "text": [
      "WARNING:tensorflow:Early stopping conditioned on metric `val_accuracy` which is not available. Available metrics are: loss,categorical_accuracy,val_loss,val_categorical_accuracy\n"
     ]
    },
    {
     "name": "stdout",
     "output_type": "stream",
     "text": [
      "3/3 [==============================] - 60s 20s/step - loss: 1.1851 - categorical_accuracy: 0.4167 - val_loss: 1.1639 - val_categorical_accuracy: 0.3750\n",
      "Epoch 102/200\n",
      "3/3 [==============================] - ETA: 0s - loss: 1.1419 - categorical_accuracy: 0.4167 WARNING:tensorflow:Early stopping conditioned on metric `val_accuracy` which is not available. Available metrics are: loss,categorical_accuracy,val_loss,val_categorical_accuracy\n"
     ]
    },
    {
     "name": "stderr",
     "output_type": "stream",
     "text": [
      "WARNING:tensorflow:Early stopping conditioned on metric `val_accuracy` which is not available. Available metrics are: loss,categorical_accuracy,val_loss,val_categorical_accuracy\n"
     ]
    },
    {
     "name": "stdout",
     "output_type": "stream",
     "text": [
      "3/3 [==============================] - 1050s 20s/step - loss: 1.1419 - categorical_accuracy: 0.4167 - val_loss: 0.9887 - val_categorical_accuracy: 0.6250\n",
      "Epoch 103/200\n",
      "3/3 [==============================] - ETA: 0s - loss: 1.2034 - categorical_accuracy: 0.4583 WARNING:tensorflow:Early stopping conditioned on metric `val_accuracy` which is not available. Available metrics are: loss,categorical_accuracy,val_loss,val_categorical_accuracy\n"
     ]
    },
    {
     "name": "stderr",
     "output_type": "stream",
     "text": [
      "WARNING:tensorflow:Early stopping conditioned on metric `val_accuracy` which is not available. Available metrics are: loss,categorical_accuracy,val_loss,val_categorical_accuracy\n"
     ]
    },
    {
     "name": "stdout",
     "output_type": "stream",
     "text": [
      "3/3 [==============================] - 60s 20s/step - loss: 1.2034 - categorical_accuracy: 0.4583 - val_loss: 1.1138 - val_categorical_accuracy: 0.3750\n",
      "Epoch 104/200\n",
      "3/3 [==============================] - ETA: 0s - loss: 1.2789 - categorical_accuracy: 0.4583   WARNING:tensorflow:Early stopping conditioned on metric `val_accuracy` which is not available. Available metrics are: loss,categorical_accuracy,val_loss,val_categorical_accuracy\n"
     ]
    },
    {
     "name": "stderr",
     "output_type": "stream",
     "text": [
      "WARNING:tensorflow:Early stopping conditioned on metric `val_accuracy` which is not available. Available metrics are: loss,categorical_accuracy,val_loss,val_categorical_accuracy\n"
     ]
    },
    {
     "name": "stdout",
     "output_type": "stream",
     "text": [
      "3/3 [==============================] - 1009s 495s/step - loss: 1.2789 - categorical_accuracy: 0.4583 - val_loss: 1.4226 - val_categorical_accuracy: 0.1250\n",
      "Epoch 105/200\n",
      "3/3 [==============================] - ETA: 0s - loss: 1.4310 - categorical_accuracy: 0.2083 WARNING:tensorflow:Early stopping conditioned on metric `val_accuracy` which is not available. Available metrics are: loss,categorical_accuracy,val_loss,val_categorical_accuracy\n"
     ]
    },
    {
     "name": "stderr",
     "output_type": "stream",
     "text": [
      "WARNING:tensorflow:Early stopping conditioned on metric `val_accuracy` which is not available. Available metrics are: loss,categorical_accuracy,val_loss,val_categorical_accuracy\n"
     ]
    },
    {
     "name": "stdout",
     "output_type": "stream",
     "text": [
      "3/3 [==============================] - 60s 20s/step - loss: 1.4310 - categorical_accuracy: 0.2083 - val_loss: 1.4349 - val_categorical_accuracy: 0.2500\n",
      "Epoch 106/200\n",
      "3/3 [==============================] - ETA: 0s - loss: 1.4095 - categorical_accuracy: 0.2917   WARNING:tensorflow:Early stopping conditioned on metric `val_accuracy` which is not available. Available metrics are: loss,categorical_accuracy,val_loss,val_categorical_accuracy\n"
     ]
    },
    {
     "name": "stderr",
     "output_type": "stream",
     "text": [
      "WARNING:tensorflow:Early stopping conditioned on metric `val_accuracy` which is not available. Available metrics are: loss,categorical_accuracy,val_loss,val_categorical_accuracy\n"
     ]
    },
    {
     "name": "stdout",
     "output_type": "stream",
     "text": [
      "3/3 [==============================] - 988s 484s/step - loss: 1.4095 - categorical_accuracy: 0.2917 - val_loss: 1.2858 - val_categorical_accuracy: 0.3750\n",
      "Epoch 107/200\n",
      "3/3 [==============================] - ETA: 0s - loss: 1.3848 - categorical_accuracy: 0.2083 WARNING:tensorflow:Early stopping conditioned on metric `val_accuracy` which is not available. Available metrics are: loss,categorical_accuracy,val_loss,val_categorical_accuracy\n"
     ]
    },
    {
     "name": "stderr",
     "output_type": "stream",
     "text": [
      "WARNING:tensorflow:Early stopping conditioned on metric `val_accuracy` which is not available. Available metrics are: loss,categorical_accuracy,val_loss,val_categorical_accuracy\n"
     ]
    },
    {
     "name": "stdout",
     "output_type": "stream",
     "text": [
      "3/3 [==============================] - 60s 20s/step - loss: 1.3848 - categorical_accuracy: 0.2083 - val_loss: 1.5266 - val_categorical_accuracy: 0.1250\n",
      "Epoch 108/200\n",
      "3/3 [==============================] - ETA: 0s - loss: 1.3002 - categorical_accuracy: 0.4583   WARNING:tensorflow:Early stopping conditioned on metric `val_accuracy` which is not available. Available metrics are: loss,categorical_accuracy,val_loss,val_categorical_accuracy\n"
     ]
    },
    {
     "name": "stderr",
     "output_type": "stream",
     "text": [
      "WARNING:tensorflow:Early stopping conditioned on metric `val_accuracy` which is not available. Available metrics are: loss,categorical_accuracy,val_loss,val_categorical_accuracy\n"
     ]
    },
    {
     "name": "stdout",
     "output_type": "stream",
     "text": [
      "3/3 [==============================] - 1037s 508s/step - loss: 1.3002 - categorical_accuracy: 0.4583 - val_loss: 1.2458 - val_categorical_accuracy: 0.5000\n",
      "Epoch 109/200\n",
      "3/3 [==============================] - ETA: 0s - loss: 1.2149 - categorical_accuracy: 0.6250 WARNING:tensorflow:Early stopping conditioned on metric `val_accuracy` which is not available. Available metrics are: loss,categorical_accuracy,val_loss,val_categorical_accuracy\n"
     ]
    },
    {
     "name": "stderr",
     "output_type": "stream",
     "text": [
      "WARNING:tensorflow:Early stopping conditioned on metric `val_accuracy` which is not available. Available metrics are: loss,categorical_accuracy,val_loss,val_categorical_accuracy\n"
     ]
    },
    {
     "name": "stdout",
     "output_type": "stream",
     "text": [
      "3/3 [==============================] - 60s 20s/step - loss: 1.2149 - categorical_accuracy: 0.6250 - val_loss: 1.4108 - val_categorical_accuracy: 0.3750\n",
      "Epoch 110/200\n",
      "3/3 [==============================] - ETA: 0s - loss: 1.1812 - categorical_accuracy: 0.5417   WARNING:tensorflow:Early stopping conditioned on metric `val_accuracy` which is not available. Available metrics are: loss,categorical_accuracy,val_loss,val_categorical_accuracy\n"
     ]
    },
    {
     "name": "stderr",
     "output_type": "stream",
     "text": [
      "WARNING:tensorflow:Early stopping conditioned on metric `val_accuracy` which is not available. Available metrics are: loss,categorical_accuracy,val_loss,val_categorical_accuracy\n"
     ]
    },
    {
     "name": "stdout",
     "output_type": "stream",
     "text": [
      "3/3 [==============================] - 968s 474s/step - loss: 1.1812 - categorical_accuracy: 0.5417 - val_loss: 1.0065 - val_categorical_accuracy: 0.6250\n",
      "Epoch 111/200\n",
      "3/3 [==============================] - ETA: 0s - loss: 1.2152 - categorical_accuracy: 0.5000 WARNING:tensorflow:Early stopping conditioned on metric `val_accuracy` which is not available. Available metrics are: loss,categorical_accuracy,val_loss,val_categorical_accuracy\n"
     ]
    },
    {
     "name": "stderr",
     "output_type": "stream",
     "text": [
      "WARNING:tensorflow:Early stopping conditioned on metric `val_accuracy` which is not available. Available metrics are: loss,categorical_accuracy,val_loss,val_categorical_accuracy\n"
     ]
    },
    {
     "name": "stdout",
     "output_type": "stream",
     "text": [
      "3/3 [==============================] - 60s 20s/step - loss: 1.2152 - categorical_accuracy: 0.5000 - val_loss: 1.2737 - val_categorical_accuracy: 0.5000\n",
      "Epoch 112/200\n",
      "3/3 [==============================] - ETA: 0s - loss: 1.1352 - categorical_accuracy: 0.5833 WARNING:tensorflow:Early stopping conditioned on metric `val_accuracy` which is not available. Available metrics are: loss,categorical_accuracy,val_loss,val_categorical_accuracy\n"
     ]
    },
    {
     "name": "stderr",
     "output_type": "stream",
     "text": [
      "WARNING:tensorflow:Early stopping conditioned on metric `val_accuracy` which is not available. Available metrics are: loss,categorical_accuracy,val_loss,val_categorical_accuracy\n"
     ]
    },
    {
     "name": "stdout",
     "output_type": "stream",
     "text": [
      "3/3 [==============================] - 1018s 499s/step - loss: 1.1352 - categorical_accuracy: 0.5833 - val_loss: 1.4277 - val_categorical_accuracy: 0.5000\n",
      "Epoch 113/200\n",
      "3/3 [==============================] - ETA: 0s - loss: 1.4606 - categorical_accuracy: 0.4167 WARNING:tensorflow:Early stopping conditioned on metric `val_accuracy` which is not available. Available metrics are: loss,categorical_accuracy,val_loss,val_categorical_accuracy\n"
     ]
    },
    {
     "name": "stderr",
     "output_type": "stream",
     "text": [
      "WARNING:tensorflow:Early stopping conditioned on metric `val_accuracy` which is not available. Available metrics are: loss,categorical_accuracy,val_loss,val_categorical_accuracy\n"
     ]
    },
    {
     "name": "stdout",
     "output_type": "stream",
     "text": [
      "3/3 [==============================] - 60s 20s/step - loss: 1.4606 - categorical_accuracy: 0.4167 - val_loss: 1.2602 - val_categorical_accuracy: 0.5000\n",
      "Epoch 114/200\n",
      "3/3 [==============================] - ETA: 0s - loss: 1.2510 - categorical_accuracy: 0.5417 WARNING:tensorflow:Early stopping conditioned on metric `val_accuracy` which is not available. Available metrics are: loss,categorical_accuracy,val_loss,val_categorical_accuracy\n"
     ]
    },
    {
     "name": "stderr",
     "output_type": "stream",
     "text": [
      "WARNING:tensorflow:Early stopping conditioned on metric `val_accuracy` which is not available. Available metrics are: loss,categorical_accuracy,val_loss,val_categorical_accuracy\n"
     ]
    },
    {
     "name": "stdout",
     "output_type": "stream",
     "text": [
      "3/3 [==============================] - 1063s 521s/step - loss: 1.2510 - categorical_accuracy: 0.5417 - val_loss: 1.4850 - val_categorical_accuracy: 0.5000\n",
      "Epoch 115/200\n",
      "3/3 [==============================] - ETA: 0s - loss: 1.4672 - categorical_accuracy: 0.3333 WARNING:tensorflow:Early stopping conditioned on metric `val_accuracy` which is not available. Available metrics are: loss,categorical_accuracy,val_loss,val_categorical_accuracy\n"
     ]
    },
    {
     "name": "stderr",
     "output_type": "stream",
     "text": [
      "WARNING:tensorflow:Early stopping conditioned on metric `val_accuracy` which is not available. Available metrics are: loss,categorical_accuracy,val_loss,val_categorical_accuracy\n"
     ]
    },
    {
     "name": "stdout",
     "output_type": "stream",
     "text": [
      "3/3 [==============================] - 60s 20s/step - loss: 1.4672 - categorical_accuracy: 0.3333 - val_loss: 1.3369 - val_categorical_accuracy: 0.3750\n",
      "Epoch 116/200\n",
      "3/3 [==============================] - ETA: 0s - loss: 1.3210 - categorical_accuracy: 0.4583 WARNING:tensorflow:Early stopping conditioned on metric `val_accuracy` which is not available. Available metrics are: loss,categorical_accuracy,val_loss,val_categorical_accuracy\n"
     ]
    },
    {
     "name": "stderr",
     "output_type": "stream",
     "text": [
      "WARNING:tensorflow:Early stopping conditioned on metric `val_accuracy` which is not available. Available metrics are: loss,categorical_accuracy,val_loss,val_categorical_accuracy\n"
     ]
    },
    {
     "name": "stdout",
     "output_type": "stream",
     "text": [
      "3/3 [==============================] - 1050s 515s/step - loss: 1.3210 - categorical_accuracy: 0.4583 - val_loss: 1.2485 - val_categorical_accuracy: 0.6250\n",
      "Epoch 117/200\n",
      "3/3 [==============================] - ETA: 0s - loss: 1.2875 - categorical_accuracy: 0.4583 WARNING:tensorflow:Early stopping conditioned on metric `val_accuracy` which is not available. Available metrics are: loss,categorical_accuracy,val_loss,val_categorical_accuracy\n"
     ]
    },
    {
     "name": "stderr",
     "output_type": "stream",
     "text": [
      "WARNING:tensorflow:Early stopping conditioned on metric `val_accuracy` which is not available. Available metrics are: loss,categorical_accuracy,val_loss,val_categorical_accuracy\n"
     ]
    },
    {
     "name": "stdout",
     "output_type": "stream",
     "text": [
      "3/3 [==============================] - 60s 20s/step - loss: 1.2875 - categorical_accuracy: 0.4583 - val_loss: 1.3592 - val_categorical_accuracy: 0.5000\n",
      "Epoch 118/200\n",
      "3/3 [==============================] - ETA: 0s - loss: 1.1904 - categorical_accuracy: 0.5000 WARNING:tensorflow:Early stopping conditioned on metric `val_accuracy` which is not available. Available metrics are: loss,categorical_accuracy,val_loss,val_categorical_accuracy\n"
     ]
    },
    {
     "name": "stderr",
     "output_type": "stream",
     "text": [
      "WARNING:tensorflow:Early stopping conditioned on metric `val_accuracy` which is not available. Available metrics are: loss,categorical_accuracy,val_loss,val_categorical_accuracy\n"
     ]
    },
    {
     "name": "stdout",
     "output_type": "stream",
     "text": [
      "3/3 [==============================] - 995s 488s/step - loss: 1.1904 - categorical_accuracy: 0.5000 - val_loss: 1.1217 - val_categorical_accuracy: 0.7500\n",
      "Epoch 119/200\n",
      "3/3 [==============================] - ETA: 0s - loss: 1.0708 - categorical_accuracy: 0.7083 WARNING:tensorflow:Early stopping conditioned on metric `val_accuracy` which is not available. Available metrics are: loss,categorical_accuracy,val_loss,val_categorical_accuracy\n"
     ]
    },
    {
     "name": "stderr",
     "output_type": "stream",
     "text": [
      "WARNING:tensorflow:Early stopping conditioned on metric `val_accuracy` which is not available. Available metrics are: loss,categorical_accuracy,val_loss,val_categorical_accuracy\n"
     ]
    },
    {
     "name": "stdout",
     "output_type": "stream",
     "text": [
      "3/3 [==============================] - 60s 20s/step - loss: 1.0708 - categorical_accuracy: 0.7083 - val_loss: 0.8996 - val_categorical_accuracy: 0.6250\n",
      "Epoch 120/200\n",
      "3/3 [==============================] - ETA: 0s - loss: 1.0684 - categorical_accuracy: 0.5833 WARNING:tensorflow:Early stopping conditioned on metric `val_accuracy` which is not available. Available metrics are: loss,categorical_accuracy,val_loss,val_categorical_accuracy\n"
     ]
    },
    {
     "name": "stderr",
     "output_type": "stream",
     "text": [
      "WARNING:tensorflow:Early stopping conditioned on metric `val_accuracy` which is not available. Available metrics are: loss,categorical_accuracy,val_loss,val_categorical_accuracy\n"
     ]
    },
    {
     "name": "stdout",
     "output_type": "stream",
     "text": [
      "3/3 [==============================] - 60s 20s/step - loss: 1.0684 - categorical_accuracy: 0.5833 - val_loss: 0.9039 - val_categorical_accuracy: 0.6250\n",
      "Epoch 121/200\n",
      "3/3 [==============================] - ETA: 0s - loss: 0.9278 - categorical_accuracy: 0.6250 WARNING:tensorflow:Early stopping conditioned on metric `val_accuracy` which is not available. Available metrics are: loss,categorical_accuracy,val_loss,val_categorical_accuracy\n"
     ]
    },
    {
     "name": "stderr",
     "output_type": "stream",
     "text": [
      "WARNING:tensorflow:Early stopping conditioned on metric `val_accuracy` which is not available. Available metrics are: loss,categorical_accuracy,val_loss,val_categorical_accuracy\n"
     ]
    },
    {
     "name": "stdout",
     "output_type": "stream",
     "text": [
      "3/3 [==============================] - 60s 20s/step - loss: 0.9278 - categorical_accuracy: 0.6250 - val_loss: 0.9502 - val_categorical_accuracy: 0.6250\n",
      "Epoch 122/200\n",
      "3/3 [==============================] - ETA: 0s - loss: 0.9978 - categorical_accuracy: 0.4583 WARNING:tensorflow:Early stopping conditioned on metric `val_accuracy` which is not available. Available metrics are: loss,categorical_accuracy,val_loss,val_categorical_accuracy\n"
     ]
    },
    {
     "name": "stderr",
     "output_type": "stream",
     "text": [
      "WARNING:tensorflow:Early stopping conditioned on metric `val_accuracy` which is not available. Available metrics are: loss,categorical_accuracy,val_loss,val_categorical_accuracy\n"
     ]
    },
    {
     "name": "stdout",
     "output_type": "stream",
     "text": [
      "3/3 [==============================] - 60s 20s/step - loss: 0.9978 - categorical_accuracy: 0.4583 - val_loss: 0.9972 - val_categorical_accuracy: 0.6250\n",
      "Epoch 123/200\n",
      "3/3 [==============================] - ETA: 0s - loss: 1.0669 - categorical_accuracy: 0.5833 WARNING:tensorflow:Early stopping conditioned on metric `val_accuracy` which is not available. Available metrics are: loss,categorical_accuracy,val_loss,val_categorical_accuracy\n"
     ]
    },
    {
     "name": "stderr",
     "output_type": "stream",
     "text": [
      "WARNING:tensorflow:Early stopping conditioned on metric `val_accuracy` which is not available. Available metrics are: loss,categorical_accuracy,val_loss,val_categorical_accuracy\n"
     ]
    },
    {
     "name": "stdout",
     "output_type": "stream",
     "text": [
      "3/3 [==============================] - 60s 20s/step - loss: 1.0669 - categorical_accuracy: 0.5833 - val_loss: 1.0391 - val_categorical_accuracy: 0.7500\n",
      "Epoch 124/200\n",
      "3/3 [==============================] - ETA: 0s - loss: 1.1400 - categorical_accuracy: 0.5000 WARNING:tensorflow:Early stopping conditioned on metric `val_accuracy` which is not available. Available metrics are: loss,categorical_accuracy,val_loss,val_categorical_accuracy\n"
     ]
    },
    {
     "name": "stderr",
     "output_type": "stream",
     "text": [
      "WARNING:tensorflow:Early stopping conditioned on metric `val_accuracy` which is not available. Available metrics are: loss,categorical_accuracy,val_loss,val_categorical_accuracy\n"
     ]
    },
    {
     "name": "stdout",
     "output_type": "stream",
     "text": [
      "3/3 [==============================] - 60s 20s/step - loss: 1.1400 - categorical_accuracy: 0.5000 - val_loss: 1.0637 - val_categorical_accuracy: 0.5000\n",
      "Epoch 125/200\n",
      "3/3 [==============================] - ETA: 0s - loss: 1.0820 - categorical_accuracy: 0.5000 WARNING:tensorflow:Early stopping conditioned on metric `val_accuracy` which is not available. Available metrics are: loss,categorical_accuracy,val_loss,val_categorical_accuracy\n"
     ]
    },
    {
     "name": "stderr",
     "output_type": "stream",
     "text": [
      "WARNING:tensorflow:Early stopping conditioned on metric `val_accuracy` which is not available. Available metrics are: loss,categorical_accuracy,val_loss,val_categorical_accuracy\n"
     ]
    },
    {
     "name": "stdout",
     "output_type": "stream",
     "text": [
      "3/3 [==============================] - 60s 20s/step - loss: 1.0820 - categorical_accuracy: 0.5000 - val_loss: 1.1214 - val_categorical_accuracy: 0.6250\n",
      "Epoch 126/200\n",
      "3/3 [==============================] - ETA: 0s - loss: 1.0848 - categorical_accuracy: 0.5417 WARNING:tensorflow:Early stopping conditioned on metric `val_accuracy` which is not available. Available metrics are: loss,categorical_accuracy,val_loss,val_categorical_accuracy\n"
     ]
    },
    {
     "name": "stderr",
     "output_type": "stream",
     "text": [
      "WARNING:tensorflow:Early stopping conditioned on metric `val_accuracy` which is not available. Available metrics are: loss,categorical_accuracy,val_loss,val_categorical_accuracy\n"
     ]
    },
    {
     "name": "stdout",
     "output_type": "stream",
     "text": [
      "3/3 [==============================] - 60s 20s/step - loss: 1.0848 - categorical_accuracy: 0.5417 - val_loss: 1.0807 - val_categorical_accuracy: 0.2500\n",
      "Epoch 127/200\n",
      "3/3 [==============================] - ETA: 0s - loss: 1.1145 - categorical_accuracy: 0.5417 WARNING:tensorflow:Early stopping conditioned on metric `val_accuracy` which is not available. Available metrics are: loss,categorical_accuracy,val_loss,val_categorical_accuracy\n"
     ]
    },
    {
     "name": "stderr",
     "output_type": "stream",
     "text": [
      "WARNING:tensorflow:Early stopping conditioned on metric `val_accuracy` which is not available. Available metrics are: loss,categorical_accuracy,val_loss,val_categorical_accuracy\n"
     ]
    },
    {
     "name": "stdout",
     "output_type": "stream",
     "text": [
      "3/3 [==============================] - 60s 20s/step - loss: 1.1145 - categorical_accuracy: 0.5417 - val_loss: 1.1670 - val_categorical_accuracy: 0.7500\n",
      "Epoch 128/200\n",
      "3/3 [==============================] - ETA: 0s - loss: 1.0068 - categorical_accuracy: 0.6667 WARNING:tensorflow:Early stopping conditioned on metric `val_accuracy` which is not available. Available metrics are: loss,categorical_accuracy,val_loss,val_categorical_accuracy\n"
     ]
    },
    {
     "name": "stderr",
     "output_type": "stream",
     "text": [
      "WARNING:tensorflow:Early stopping conditioned on metric `val_accuracy` which is not available. Available metrics are: loss,categorical_accuracy,val_loss,val_categorical_accuracy\n"
     ]
    },
    {
     "name": "stdout",
     "output_type": "stream",
     "text": [
      "3/3 [==============================] - 60s 20s/step - loss: 1.0068 - categorical_accuracy: 0.6667 - val_loss: 0.8975 - val_categorical_accuracy: 0.6250\n",
      "Epoch 129/200\n",
      "3/3 [==============================] - ETA: 0s - loss: 1.0237 - categorical_accuracy: 0.5833 WARNING:tensorflow:Early stopping conditioned on metric `val_accuracy` which is not available. Available metrics are: loss,categorical_accuracy,val_loss,val_categorical_accuracy\n"
     ]
    },
    {
     "name": "stderr",
     "output_type": "stream",
     "text": [
      "WARNING:tensorflow:Early stopping conditioned on metric `val_accuracy` which is not available. Available metrics are: loss,categorical_accuracy,val_loss,val_categorical_accuracy\n"
     ]
    },
    {
     "name": "stdout",
     "output_type": "stream",
     "text": [
      "3/3 [==============================] - 60s 20s/step - loss: 1.0237 - categorical_accuracy: 0.5833 - val_loss: 0.8286 - val_categorical_accuracy: 0.6250\n",
      "Epoch 130/200\n",
      "3/3 [==============================] - ETA: 0s - loss: 1.0548 - categorical_accuracy: 0.3750 WARNING:tensorflow:Early stopping conditioned on metric `val_accuracy` which is not available. Available metrics are: loss,categorical_accuracy,val_loss,val_categorical_accuracy\n"
     ]
    },
    {
     "name": "stderr",
     "output_type": "stream",
     "text": [
      "WARNING:tensorflow:Early stopping conditioned on metric `val_accuracy` which is not available. Available metrics are: loss,categorical_accuracy,val_loss,val_categorical_accuracy\n"
     ]
    },
    {
     "name": "stdout",
     "output_type": "stream",
     "text": [
      "3/3 [==============================] - 60s 20s/step - loss: 1.0548 - categorical_accuracy: 0.3750 - val_loss: 0.9926 - val_categorical_accuracy: 0.6250\n",
      "Epoch 131/200\n",
      "3/3 [==============================] - ETA: 0s - loss: 1.0024 - categorical_accuracy: 0.6250 WARNING:tensorflow:Early stopping conditioned on metric `val_accuracy` which is not available. Available metrics are: loss,categorical_accuracy,val_loss,val_categorical_accuracy\n"
     ]
    },
    {
     "name": "stderr",
     "output_type": "stream",
     "text": [
      "WARNING:tensorflow:Early stopping conditioned on metric `val_accuracy` which is not available. Available metrics are: loss,categorical_accuracy,val_loss,val_categorical_accuracy\n"
     ]
    },
    {
     "name": "stdout",
     "output_type": "stream",
     "text": [
      "3/3 [==============================] - 60s 20s/step - loss: 1.0024 - categorical_accuracy: 0.6250 - val_loss: 0.8733 - val_categorical_accuracy: 0.6250\n",
      "Epoch 132/200\n",
      "3/3 [==============================] - ETA: 0s - loss: 0.9774 - categorical_accuracy: 0.5417 WARNING:tensorflow:Early stopping conditioned on metric `val_accuracy` which is not available. Available metrics are: loss,categorical_accuracy,val_loss,val_categorical_accuracy\n"
     ]
    },
    {
     "name": "stderr",
     "output_type": "stream",
     "text": [
      "WARNING:tensorflow:Early stopping conditioned on metric `val_accuracy` which is not available. Available metrics are: loss,categorical_accuracy,val_loss,val_categorical_accuracy\n"
     ]
    },
    {
     "name": "stdout",
     "output_type": "stream",
     "text": [
      "3/3 [==============================] - 60s 20s/step - loss: 0.9774 - categorical_accuracy: 0.5417 - val_loss: 0.8487 - val_categorical_accuracy: 0.6250\n",
      "Epoch 133/200\n",
      "3/3 [==============================] - ETA: 0s - loss: 0.9253 - categorical_accuracy: 0.5417 WARNING:tensorflow:Early stopping conditioned on metric `val_accuracy` which is not available. Available metrics are: loss,categorical_accuracy,val_loss,val_categorical_accuracy\n"
     ]
    },
    {
     "name": "stderr",
     "output_type": "stream",
     "text": [
      "WARNING:tensorflow:Early stopping conditioned on metric `val_accuracy` which is not available. Available metrics are: loss,categorical_accuracy,val_loss,val_categorical_accuracy\n"
     ]
    },
    {
     "name": "stdout",
     "output_type": "stream",
     "text": [
      "3/3 [==============================] - 60s 20s/step - loss: 0.9253 - categorical_accuracy: 0.5417 - val_loss: 0.6715 - val_categorical_accuracy: 0.7500\n",
      "Epoch 134/200\n",
      "3/3 [==============================] - ETA: 0s - loss: 0.8540 - categorical_accuracy: 0.5000 WARNING:tensorflow:Early stopping conditioned on metric `val_accuracy` which is not available. Available metrics are: loss,categorical_accuracy,val_loss,val_categorical_accuracy\n"
     ]
    },
    {
     "name": "stderr",
     "output_type": "stream",
     "text": [
      "WARNING:tensorflow:Early stopping conditioned on metric `val_accuracy` which is not available. Available metrics are: loss,categorical_accuracy,val_loss,val_categorical_accuracy\n"
     ]
    },
    {
     "name": "stdout",
     "output_type": "stream",
     "text": [
      "3/3 [==============================] - 60s 20s/step - loss: 0.8540 - categorical_accuracy: 0.5000 - val_loss: 0.8658 - val_categorical_accuracy: 0.5000\n",
      "Epoch 135/200\n",
      "3/3 [==============================] - ETA: 0s - loss: 0.8774 - categorical_accuracy: 0.5417 WARNING:tensorflow:Early stopping conditioned on metric `val_accuracy` which is not available. Available metrics are: loss,categorical_accuracy,val_loss,val_categorical_accuracy\n"
     ]
    },
    {
     "name": "stderr",
     "output_type": "stream",
     "text": [
      "WARNING:tensorflow:Early stopping conditioned on metric `val_accuracy` which is not available. Available metrics are: loss,categorical_accuracy,val_loss,val_categorical_accuracy\n"
     ]
    },
    {
     "name": "stdout",
     "output_type": "stream",
     "text": [
      "3/3 [==============================] - 1121s 20s/step - loss: 0.8774 - categorical_accuracy: 0.5417 - val_loss: 1.0021 - val_categorical_accuracy: 0.7500\n",
      "Epoch 136/200\n",
      "3/3 [==============================] - ETA: 0s - loss: 0.8757 - categorical_accuracy: 0.7500 WARNING:tensorflow:Early stopping conditioned on metric `val_accuracy` which is not available. Available metrics are: loss,categorical_accuracy,val_loss,val_categorical_accuracy\n"
     ]
    },
    {
     "name": "stderr",
     "output_type": "stream",
     "text": [
      "WARNING:tensorflow:Early stopping conditioned on metric `val_accuracy` which is not available. Available metrics are: loss,categorical_accuracy,val_loss,val_categorical_accuracy\n"
     ]
    },
    {
     "name": "stdout",
     "output_type": "stream",
     "text": [
      "3/3 [==============================] - 60s 20s/step - loss: 0.8757 - categorical_accuracy: 0.7500 - val_loss: 1.0665 - val_categorical_accuracy: 0.8750\n",
      "Epoch 137/200\n",
      "3/3 [==============================] - ETA: 0s - loss: 0.8677 - categorical_accuracy: 0.6667 WARNING:tensorflow:Early stopping conditioned on metric `val_accuracy` which is not available. Available metrics are: loss,categorical_accuracy,val_loss,val_categorical_accuracy\n"
     ]
    },
    {
     "name": "stderr",
     "output_type": "stream",
     "text": [
      "WARNING:tensorflow:Early stopping conditioned on metric `val_accuracy` which is not available. Available metrics are: loss,categorical_accuracy,val_loss,val_categorical_accuracy\n"
     ]
    },
    {
     "name": "stdout",
     "output_type": "stream",
     "text": [
      "3/3 [==============================] - 965s 20s/step - loss: 0.8677 - categorical_accuracy: 0.6667 - val_loss: 0.7501 - val_categorical_accuracy: 0.6250\n",
      "Epoch 138/200\n",
      "3/3 [==============================] - ETA: 0s - loss: 0.8351 - categorical_accuracy: 0.6250 WARNING:tensorflow:Early stopping conditioned on metric `val_accuracy` which is not available. Available metrics are: loss,categorical_accuracy,val_loss,val_categorical_accuracy\n"
     ]
    },
    {
     "name": "stderr",
     "output_type": "stream",
     "text": [
      "WARNING:tensorflow:Early stopping conditioned on metric `val_accuracy` which is not available. Available metrics are: loss,categorical_accuracy,val_loss,val_categorical_accuracy\n"
     ]
    },
    {
     "name": "stdout",
     "output_type": "stream",
     "text": [
      "3/3 [==============================] - 60s 20s/step - loss: 0.8351 - categorical_accuracy: 0.6250 - val_loss: 1.0223 - val_categorical_accuracy: 0.3750\n",
      "Epoch 139/200\n",
      "3/3 [==============================] - ETA: 0s - loss: 0.9566 - categorical_accuracy: 0.5417 WARNING:tensorflow:Early stopping conditioned on metric `val_accuracy` which is not available. Available metrics are: loss,categorical_accuracy,val_loss,val_categorical_accuracy\n"
     ]
    },
    {
     "name": "stderr",
     "output_type": "stream",
     "text": [
      "WARNING:tensorflow:Early stopping conditioned on metric `val_accuracy` which is not available. Available metrics are: loss,categorical_accuracy,val_loss,val_categorical_accuracy\n"
     ]
    },
    {
     "name": "stdout",
     "output_type": "stream",
     "text": [
      "3/3 [==============================] - 1011s 20s/step - loss: 0.9566 - categorical_accuracy: 0.5417 - val_loss: 0.9756 - val_categorical_accuracy: 0.7500\n",
      "Epoch 140/200\n",
      "3/3 [==============================] - ETA: 0s - loss: 0.9008 - categorical_accuracy: 0.6250 WARNING:tensorflow:Early stopping conditioned on metric `val_accuracy` which is not available. Available metrics are: loss,categorical_accuracy,val_loss,val_categorical_accuracy\n"
     ]
    },
    {
     "name": "stderr",
     "output_type": "stream",
     "text": [
      "WARNING:tensorflow:Early stopping conditioned on metric `val_accuracy` which is not available. Available metrics are: loss,categorical_accuracy,val_loss,val_categorical_accuracy\n"
     ]
    },
    {
     "name": "stdout",
     "output_type": "stream",
     "text": [
      "3/3 [==============================] - 63s 22s/step - loss: 0.9008 - categorical_accuracy: 0.6250 - val_loss: 0.8473 - val_categorical_accuracy: 0.7500\n",
      "Epoch 141/200\n",
      "3/3 [==============================] - ETA: 0s - loss: 0.8936 - categorical_accuracy: 0.6667 WARNING:tensorflow:Early stopping conditioned on metric `val_accuracy` which is not available. Available metrics are: loss,categorical_accuracy,val_loss,val_categorical_accuracy\n"
     ]
    },
    {
     "name": "stderr",
     "output_type": "stream",
     "text": [
      "WARNING:tensorflow:Early stopping conditioned on metric `val_accuracy` which is not available. Available metrics are: loss,categorical_accuracy,val_loss,val_categorical_accuracy\n"
     ]
    },
    {
     "name": "stdout",
     "output_type": "stream",
     "text": [
      "3/3 [==============================] - 66s 22s/step - loss: 0.8936 - categorical_accuracy: 0.6667 - val_loss: 0.7499 - val_categorical_accuracy: 0.8750\n",
      "Epoch 142/200\n",
      "3/3 [==============================] - ETA: 0s - loss: 0.9152 - categorical_accuracy: 0.5833 WARNING:tensorflow:Early stopping conditioned on metric `val_accuracy` which is not available. Available metrics are: loss,categorical_accuracy,val_loss,val_categorical_accuracy\n"
     ]
    },
    {
     "name": "stderr",
     "output_type": "stream",
     "text": [
      "WARNING:tensorflow:Early stopping conditioned on metric `val_accuracy` which is not available. Available metrics are: loss,categorical_accuracy,val_loss,val_categorical_accuracy\n"
     ]
    },
    {
     "name": "stdout",
     "output_type": "stream",
     "text": [
      "3/3 [==============================] - 63s 21s/step - loss: 0.9152 - categorical_accuracy: 0.5833 - val_loss: 0.9792 - val_categorical_accuracy: 0.3750\n",
      "Epoch 143/200\n",
      "3/3 [==============================] - ETA: 0s - loss: 0.9546 - categorical_accuracy: 0.5833 WARNING:tensorflow:Early stopping conditioned on metric `val_accuracy` which is not available. Available metrics are: loss,categorical_accuracy,val_loss,val_categorical_accuracy\n"
     ]
    },
    {
     "name": "stderr",
     "output_type": "stream",
     "text": [
      "WARNING:tensorflow:Early stopping conditioned on metric `val_accuracy` which is not available. Available metrics are: loss,categorical_accuracy,val_loss,val_categorical_accuracy\n"
     ]
    },
    {
     "name": "stdout",
     "output_type": "stream",
     "text": [
      "3/3 [==============================] - 61s 20s/step - loss: 0.9546 - categorical_accuracy: 0.5833 - val_loss: 0.8705 - val_categorical_accuracy: 0.8750\n",
      "Epoch 144/200\n",
      "3/3 [==============================] - ETA: 0s - loss: 0.8954 - categorical_accuracy: 0.8333 WARNING:tensorflow:Early stopping conditioned on metric `val_accuracy` which is not available. Available metrics are: loss,categorical_accuracy,val_loss,val_categorical_accuracy\n"
     ]
    },
    {
     "name": "stderr",
     "output_type": "stream",
     "text": [
      "WARNING:tensorflow:Early stopping conditioned on metric `val_accuracy` which is not available. Available metrics are: loss,categorical_accuracy,val_loss,val_categorical_accuracy\n"
     ]
    },
    {
     "name": "stdout",
     "output_type": "stream",
     "text": [
      "3/3 [==============================] - 62s 20s/step - loss: 0.8954 - categorical_accuracy: 0.8333 - val_loss: 0.7974 - val_categorical_accuracy: 0.7500\n",
      "Epoch 145/200\n",
      "3/3 [==============================] - ETA: 0s - loss: 0.8600 - categorical_accuracy: 0.7500 WARNING:tensorflow:Early stopping conditioned on metric `val_accuracy` which is not available. Available metrics are: loss,categorical_accuracy,val_loss,val_categorical_accuracy\n"
     ]
    },
    {
     "name": "stderr",
     "output_type": "stream",
     "text": [
      "WARNING:tensorflow:Early stopping conditioned on metric `val_accuracy` which is not available. Available metrics are: loss,categorical_accuracy,val_loss,val_categorical_accuracy\n"
     ]
    },
    {
     "name": "stdout",
     "output_type": "stream",
     "text": [
      "3/3 [==============================] - 60s 20s/step - loss: 0.8600 - categorical_accuracy: 0.7500 - val_loss: 0.8910 - val_categorical_accuracy: 0.6250\n",
      "Epoch 146/200\n",
      "3/3 [==============================] - ETA: 0s - loss: 0.9334 - categorical_accuracy: 0.5833 WARNING:tensorflow:Early stopping conditioned on metric `val_accuracy` which is not available. Available metrics are: loss,categorical_accuracy,val_loss,val_categorical_accuracy\n"
     ]
    },
    {
     "name": "stderr",
     "output_type": "stream",
     "text": [
      "WARNING:tensorflow:Early stopping conditioned on metric `val_accuracy` which is not available. Available metrics are: loss,categorical_accuracy,val_loss,val_categorical_accuracy\n"
     ]
    },
    {
     "name": "stdout",
     "output_type": "stream",
     "text": [
      "3/3 [==============================] - 60s 20s/step - loss: 0.9334 - categorical_accuracy: 0.5833 - val_loss: 0.8866 - val_categorical_accuracy: 0.5000\n",
      "Epoch 147/200\n",
      "3/3 [==============================] - ETA: 0s - loss: 0.9296 - categorical_accuracy: 0.5417 WARNING:tensorflow:Early stopping conditioned on metric `val_accuracy` which is not available. Available metrics are: loss,categorical_accuracy,val_loss,val_categorical_accuracy\n"
     ]
    },
    {
     "name": "stderr",
     "output_type": "stream",
     "text": [
      "WARNING:tensorflow:Early stopping conditioned on metric `val_accuracy` which is not available. Available metrics are: loss,categorical_accuracy,val_loss,val_categorical_accuracy\n"
     ]
    },
    {
     "name": "stdout",
     "output_type": "stream",
     "text": [
      "3/3 [==============================] - 60s 20s/step - loss: 0.9296 - categorical_accuracy: 0.5417 - val_loss: 1.0141 - val_categorical_accuracy: 0.3750\n",
      "Epoch 148/200\n",
      "3/3 [==============================] - ETA: 0s - loss: 0.9056 - categorical_accuracy: 0.4167 WARNING:tensorflow:Early stopping conditioned on metric `val_accuracy` which is not available. Available metrics are: loss,categorical_accuracy,val_loss,val_categorical_accuracy\n"
     ]
    },
    {
     "name": "stderr",
     "output_type": "stream",
     "text": [
      "WARNING:tensorflow:Early stopping conditioned on metric `val_accuracy` which is not available. Available metrics are: loss,categorical_accuracy,val_loss,val_categorical_accuracy\n"
     ]
    },
    {
     "name": "stdout",
     "output_type": "stream",
     "text": [
      "3/3 [==============================] - 60s 20s/step - loss: 0.9056 - categorical_accuracy: 0.4167 - val_loss: 0.9216 - val_categorical_accuracy: 0.7500\n",
      "Epoch 149/200\n",
      "3/3 [==============================] - ETA: 0s - loss: 1.1307 - categorical_accuracy: 0.3750 WARNING:tensorflow:Early stopping conditioned on metric `val_accuracy` which is not available. Available metrics are: loss,categorical_accuracy,val_loss,val_categorical_accuracy\n"
     ]
    },
    {
     "name": "stderr",
     "output_type": "stream",
     "text": [
      "WARNING:tensorflow:Early stopping conditioned on metric `val_accuracy` which is not available. Available metrics are: loss,categorical_accuracy,val_loss,val_categorical_accuracy\n"
     ]
    },
    {
     "name": "stdout",
     "output_type": "stream",
     "text": [
      "3/3 [==============================] - 64s 21s/step - loss: 1.1307 - categorical_accuracy: 0.3750 - val_loss: 1.0529 - val_categorical_accuracy: 0.6250\n",
      "Epoch 150/200\n",
      "3/3 [==============================] - ETA: 0s - loss: 1.0889 - categorical_accuracy: 0.5000 WARNING:tensorflow:Early stopping conditioned on metric `val_accuracy` which is not available. Available metrics are: loss,categorical_accuracy,val_loss,val_categorical_accuracy\n"
     ]
    },
    {
     "name": "stderr",
     "output_type": "stream",
     "text": [
      "WARNING:tensorflow:Early stopping conditioned on metric `val_accuracy` which is not available. Available metrics are: loss,categorical_accuracy,val_loss,val_categorical_accuracy\n"
     ]
    },
    {
     "name": "stdout",
     "output_type": "stream",
     "text": [
      "3/3 [==============================] - 63s 21s/step - loss: 1.0889 - categorical_accuracy: 0.5000 - val_loss: 1.1088 - val_categorical_accuracy: 0.1250\n",
      "Epoch 151/200\n",
      "3/3 [==============================] - ETA: 0s - loss: 1.0692 - categorical_accuracy: 0.5833 WARNING:tensorflow:Early stopping conditioned on metric `val_accuracy` which is not available. Available metrics are: loss,categorical_accuracy,val_loss,val_categorical_accuracy\n"
     ]
    },
    {
     "name": "stderr",
     "output_type": "stream",
     "text": [
      "WARNING:tensorflow:Early stopping conditioned on metric `val_accuracy` which is not available. Available metrics are: loss,categorical_accuracy,val_loss,val_categorical_accuracy\n"
     ]
    },
    {
     "name": "stdout",
     "output_type": "stream",
     "text": [
      "3/3 [==============================] - 62s 21s/step - loss: 1.0692 - categorical_accuracy: 0.5833 - val_loss: 1.0931 - val_categorical_accuracy: 0.5000\n",
      "Epoch 152/200\n",
      "3/3 [==============================] - ETA: 0s - loss: 1.0985 - categorical_accuracy: 0.4583 WARNING:tensorflow:Early stopping conditioned on metric `val_accuracy` which is not available. Available metrics are: loss,categorical_accuracy,val_loss,val_categorical_accuracy\n"
     ]
    },
    {
     "name": "stderr",
     "output_type": "stream",
     "text": [
      "WARNING:tensorflow:Early stopping conditioned on metric `val_accuracy` which is not available. Available metrics are: loss,categorical_accuracy,val_loss,val_categorical_accuracy\n"
     ]
    },
    {
     "name": "stdout",
     "output_type": "stream",
     "text": [
      "3/3 [==============================] - 60s 20s/step - loss: 1.0985 - categorical_accuracy: 0.4583 - val_loss: 1.0667 - val_categorical_accuracy: 0.3750\n",
      "Epoch 153/200\n",
      "3/3 [==============================] - ETA: 0s - loss: 1.1392 - categorical_accuracy: 0.4167 WARNING:tensorflow:Early stopping conditioned on metric `val_accuracy` which is not available. Available metrics are: loss,categorical_accuracy,val_loss,val_categorical_accuracy\n"
     ]
    },
    {
     "name": "stderr",
     "output_type": "stream",
     "text": [
      "WARNING:tensorflow:Early stopping conditioned on metric `val_accuracy` which is not available. Available metrics are: loss,categorical_accuracy,val_loss,val_categorical_accuracy\n"
     ]
    },
    {
     "name": "stdout",
     "output_type": "stream",
     "text": [
      "3/3 [==============================] - 60s 20s/step - loss: 1.1392 - categorical_accuracy: 0.4167 - val_loss: 1.1343 - val_categorical_accuracy: 0.3750\n",
      "Epoch 154/200\n",
      "3/3 [==============================] - ETA: 0s - loss: 0.8908 - categorical_accuracy: 0.4583 WARNING:tensorflow:Early stopping conditioned on metric `val_accuracy` which is not available. Available metrics are: loss,categorical_accuracy,val_loss,val_categorical_accuracy\n"
     ]
    },
    {
     "name": "stderr",
     "output_type": "stream",
     "text": [
      "WARNING:tensorflow:Early stopping conditioned on metric `val_accuracy` which is not available. Available metrics are: loss,categorical_accuracy,val_loss,val_categorical_accuracy\n"
     ]
    },
    {
     "name": "stdout",
     "output_type": "stream",
     "text": [
      "3/3 [==============================] - 60s 20s/step - loss: 0.8908 - categorical_accuracy: 0.4583 - val_loss: 1.3801 - val_categorical_accuracy: 0.1250\n",
      "Epoch 155/200\n",
      "3/3 [==============================] - ETA: 0s - loss: 1.1334 - categorical_accuracy: 0.4167 WARNING:tensorflow:Early stopping conditioned on metric `val_accuracy` which is not available. Available metrics are: loss,categorical_accuracy,val_loss,val_categorical_accuracy\n"
     ]
    },
    {
     "name": "stderr",
     "output_type": "stream",
     "text": [
      "WARNING:tensorflow:Early stopping conditioned on metric `val_accuracy` which is not available. Available metrics are: loss,categorical_accuracy,val_loss,val_categorical_accuracy\n"
     ]
    },
    {
     "name": "stdout",
     "output_type": "stream",
     "text": [
      "3/3 [==============================] - 61s 21s/step - loss: 1.1334 - categorical_accuracy: 0.4167 - val_loss: 1.0894 - val_categorical_accuracy: 0.6250\n",
      "Epoch 156/200\n",
      "3/3 [==============================] - ETA: 0s - loss: 1.1602 - categorical_accuracy: 0.5833 WARNING:tensorflow:Early stopping conditioned on metric `val_accuracy` which is not available. Available metrics are: loss,categorical_accuracy,val_loss,val_categorical_accuracy\n"
     ]
    },
    {
     "name": "stderr",
     "output_type": "stream",
     "text": [
      "WARNING:tensorflow:Early stopping conditioned on metric `val_accuracy` which is not available. Available metrics are: loss,categorical_accuracy,val_loss,val_categorical_accuracy\n"
     ]
    },
    {
     "name": "stdout",
     "output_type": "stream",
     "text": [
      "3/3 [==============================] - 60s 20s/step - loss: 1.1602 - categorical_accuracy: 0.5833 - val_loss: 1.0027 - val_categorical_accuracy: 0.6250\n",
      "Epoch 157/200\n",
      "3/3 [==============================] - ETA: 0s - loss: 1.0759 - categorical_accuracy: 0.5000 WARNING:tensorflow:Early stopping conditioned on metric `val_accuracy` which is not available. Available metrics are: loss,categorical_accuracy,val_loss,val_categorical_accuracy\n"
     ]
    },
    {
     "name": "stderr",
     "output_type": "stream",
     "text": [
      "WARNING:tensorflow:Early stopping conditioned on metric `val_accuracy` which is not available. Available metrics are: loss,categorical_accuracy,val_loss,val_categorical_accuracy\n"
     ]
    },
    {
     "name": "stdout",
     "output_type": "stream",
     "text": [
      "3/3 [==============================] - 60s 20s/step - loss: 1.0759 - categorical_accuracy: 0.5000 - val_loss: 1.0140 - val_categorical_accuracy: 0.7500\n",
      "Epoch 158/200\n",
      "3/3 [==============================] - ETA: 0s - loss: 0.9636 - categorical_accuracy: 0.7500 WARNING:tensorflow:Early stopping conditioned on metric `val_accuracy` which is not available. Available metrics are: loss,categorical_accuracy,val_loss,val_categorical_accuracy\n"
     ]
    },
    {
     "name": "stderr",
     "output_type": "stream",
     "text": [
      "WARNING:tensorflow:Early stopping conditioned on metric `val_accuracy` which is not available. Available metrics are: loss,categorical_accuracy,val_loss,val_categorical_accuracy\n"
     ]
    },
    {
     "name": "stdout",
     "output_type": "stream",
     "text": [
      "3/3 [==============================] - 60s 20s/step - loss: 0.9636 - categorical_accuracy: 0.7500 - val_loss: 0.8956 - val_categorical_accuracy: 0.6250\n",
      "Epoch 159/200\n",
      "3/3 [==============================] - ETA: 0s - loss: 0.9066 - categorical_accuracy: 0.7500 WARNING:tensorflow:Early stopping conditioned on metric `val_accuracy` which is not available. Available metrics are: loss,categorical_accuracy,val_loss,val_categorical_accuracy\n"
     ]
    },
    {
     "name": "stderr",
     "output_type": "stream",
     "text": [
      "WARNING:tensorflow:Early stopping conditioned on metric `val_accuracy` which is not available. Available metrics are: loss,categorical_accuracy,val_loss,val_categorical_accuracy\n"
     ]
    },
    {
     "name": "stdout",
     "output_type": "stream",
     "text": [
      "3/3 [==============================] - 61s 21s/step - loss: 0.9066 - categorical_accuracy: 0.7500 - val_loss: 0.9689 - val_categorical_accuracy: 0.6250\n",
      "Epoch 160/200\n",
      "3/3 [==============================] - ETA: 0s - loss: 0.9727 - categorical_accuracy: 0.5000 WARNING:tensorflow:Early stopping conditioned on metric `val_accuracy` which is not available. Available metrics are: loss,categorical_accuracy,val_loss,val_categorical_accuracy\n"
     ]
    },
    {
     "name": "stderr",
     "output_type": "stream",
     "text": [
      "WARNING:tensorflow:Early stopping conditioned on metric `val_accuracy` which is not available. Available metrics are: loss,categorical_accuracy,val_loss,val_categorical_accuracy\n"
     ]
    },
    {
     "name": "stdout",
     "output_type": "stream",
     "text": [
      "3/3 [==============================] - 65s 22s/step - loss: 0.9727 - categorical_accuracy: 0.5000 - val_loss: 0.7697 - val_categorical_accuracy: 0.6250\n",
      "Epoch 161/200\n",
      "3/3 [==============================] - ETA: 0s - loss: 0.9179 - categorical_accuracy: 0.3750 WARNING:tensorflow:Early stopping conditioned on metric `val_accuracy` which is not available. Available metrics are: loss,categorical_accuracy,val_loss,val_categorical_accuracy\n"
     ]
    },
    {
     "name": "stderr",
     "output_type": "stream",
     "text": [
      "WARNING:tensorflow:Early stopping conditioned on metric `val_accuracy` which is not available. Available metrics are: loss,categorical_accuracy,val_loss,val_categorical_accuracy\n"
     ]
    },
    {
     "name": "stdout",
     "output_type": "stream",
     "text": [
      "3/3 [==============================] - 72s 25s/step - loss: 0.9179 - categorical_accuracy: 0.3750 - val_loss: 0.9968 - val_categorical_accuracy: 0.6250\n",
      "Epoch 162/200\n",
      "3/3 [==============================] - ETA: 0s - loss: 0.9079 - categorical_accuracy: 0.5833 WARNING:tensorflow:Early stopping conditioned on metric `val_accuracy` which is not available. Available metrics are: loss,categorical_accuracy,val_loss,val_categorical_accuracy\n"
     ]
    },
    {
     "name": "stderr",
     "output_type": "stream",
     "text": [
      "WARNING:tensorflow:Early stopping conditioned on metric `val_accuracy` which is not available. Available metrics are: loss,categorical_accuracy,val_loss,val_categorical_accuracy\n"
     ]
    },
    {
     "name": "stdout",
     "output_type": "stream",
     "text": [
      "3/3 [==============================] - 81s 27s/step - loss: 0.9079 - categorical_accuracy: 0.5833 - val_loss: 0.9723 - val_categorical_accuracy: 0.7500\n",
      "Epoch 163/200\n",
      "3/3 [==============================] - ETA: 0s - loss: 0.8725 - categorical_accuracy: 0.5833 WARNING:tensorflow:Early stopping conditioned on metric `val_accuracy` which is not available. Available metrics are: loss,categorical_accuracy,val_loss,val_categorical_accuracy\n"
     ]
    },
    {
     "name": "stderr",
     "output_type": "stream",
     "text": [
      "WARNING:tensorflow:Early stopping conditioned on metric `val_accuracy` which is not available. Available metrics are: loss,categorical_accuracy,val_loss,val_categorical_accuracy\n"
     ]
    },
    {
     "name": "stdout",
     "output_type": "stream",
     "text": [
      "3/3 [==============================] - 80s 28s/step - loss: 0.8725 - categorical_accuracy: 0.5833 - val_loss: 0.7821 - val_categorical_accuracy: 0.7500\n",
      "Epoch 164/200\n",
      "3/3 [==============================] - ETA: 0s - loss: 0.9582 - categorical_accuracy: 0.5417 WARNING:tensorflow:Early stopping conditioned on metric `val_accuracy` which is not available. Available metrics are: loss,categorical_accuracy,val_loss,val_categorical_accuracy\n"
     ]
    },
    {
     "name": "stderr",
     "output_type": "stream",
     "text": [
      "WARNING:tensorflow:Early stopping conditioned on metric `val_accuracy` which is not available. Available metrics are: loss,categorical_accuracy,val_loss,val_categorical_accuracy\n"
     ]
    },
    {
     "name": "stdout",
     "output_type": "stream",
     "text": [
      "3/3 [==============================] - 82s 28s/step - loss: 0.9582 - categorical_accuracy: 0.5417 - val_loss: 0.8156 - val_categorical_accuracy: 0.6250\n",
      "Epoch 165/200\n",
      "3/3 [==============================] - ETA: 0s - loss: 0.8184 - categorical_accuracy: 0.7083 WARNING:tensorflow:Early stopping conditioned on metric `val_accuracy` which is not available. Available metrics are: loss,categorical_accuracy,val_loss,val_categorical_accuracy\n"
     ]
    },
    {
     "name": "stderr",
     "output_type": "stream",
     "text": [
      "WARNING:tensorflow:Early stopping conditioned on metric `val_accuracy` which is not available. Available metrics are: loss,categorical_accuracy,val_loss,val_categorical_accuracy\n"
     ]
    },
    {
     "name": "stdout",
     "output_type": "stream",
     "text": [
      "3/3 [==============================] - 81s 27s/step - loss: 0.8184 - categorical_accuracy: 0.7083 - val_loss: 0.7954 - val_categorical_accuracy: 0.8750\n",
      "Epoch 166/200\n",
      "3/3 [==============================] - ETA: 0s - loss: 0.7910 - categorical_accuracy: 0.6667 WARNING:tensorflow:Early stopping conditioned on metric `val_accuracy` which is not available. Available metrics are: loss,categorical_accuracy,val_loss,val_categorical_accuracy\n"
     ]
    },
    {
     "name": "stderr",
     "output_type": "stream",
     "text": [
      "WARNING:tensorflow:Early stopping conditioned on metric `val_accuracy` which is not available. Available metrics are: loss,categorical_accuracy,val_loss,val_categorical_accuracy\n"
     ]
    },
    {
     "name": "stdout",
     "output_type": "stream",
     "text": [
      "3/3 [==============================] - 85s 30s/step - loss: 0.7910 - categorical_accuracy: 0.6667 - val_loss: 1.0144 - val_categorical_accuracy: 0.5000\n",
      "Epoch 167/200\n",
      "3/3 [==============================] - ETA: 0s - loss: 0.8824 - categorical_accuracy: 0.5417 WARNING:tensorflow:Early stopping conditioned on metric `val_accuracy` which is not available. Available metrics are: loss,categorical_accuracy,val_loss,val_categorical_accuracy\n"
     ]
    },
    {
     "name": "stderr",
     "output_type": "stream",
     "text": [
      "WARNING:tensorflow:Early stopping conditioned on metric `val_accuracy` which is not available. Available metrics are: loss,categorical_accuracy,val_loss,val_categorical_accuracy\n"
     ]
    },
    {
     "name": "stdout",
     "output_type": "stream",
     "text": [
      "3/3 [==============================] - 75s 25s/step - loss: 0.8824 - categorical_accuracy: 0.5417 - val_loss: 0.6758 - val_categorical_accuracy: 0.6250\n",
      "Epoch 168/200\n",
      "3/3 [==============================] - ETA: 0s - loss: 0.9155 - categorical_accuracy: 0.5000 WARNING:tensorflow:Early stopping conditioned on metric `val_accuracy` which is not available. Available metrics are: loss,categorical_accuracy,val_loss,val_categorical_accuracy\n"
     ]
    },
    {
     "name": "stderr",
     "output_type": "stream",
     "text": [
      "WARNING:tensorflow:Early stopping conditioned on metric `val_accuracy` which is not available. Available metrics are: loss,categorical_accuracy,val_loss,val_categorical_accuracy\n"
     ]
    },
    {
     "name": "stdout",
     "output_type": "stream",
     "text": [
      "3/3 [==============================] - 100s 33s/step - loss: 0.9155 - categorical_accuracy: 0.5000 - val_loss: 0.7819 - val_categorical_accuracy: 0.8750\n",
      "Epoch 169/200\n",
      "3/3 [==============================] - ETA: 0s - loss: 0.8234 - categorical_accuracy: 0.5417 WARNING:tensorflow:Early stopping conditioned on metric `val_accuracy` which is not available. Available metrics are: loss,categorical_accuracy,val_loss,val_categorical_accuracy\n"
     ]
    },
    {
     "name": "stderr",
     "output_type": "stream",
     "text": [
      "WARNING:tensorflow:Early stopping conditioned on metric `val_accuracy` which is not available. Available metrics are: loss,categorical_accuracy,val_loss,val_categorical_accuracy\n"
     ]
    },
    {
     "name": "stdout",
     "output_type": "stream",
     "text": [
      "3/3 [==============================] - 89s 26s/step - loss: 0.8234 - categorical_accuracy: 0.5417 - val_loss: 0.9826 - val_categorical_accuracy: 0.6250\n",
      "Epoch 170/200\n",
      "3/3 [==============================] - ETA: 0s - loss: 0.7161 - categorical_accuracy: 0.7917 WARNING:tensorflow:Early stopping conditioned on metric `val_accuracy` which is not available. Available metrics are: loss,categorical_accuracy,val_loss,val_categorical_accuracy\n"
     ]
    },
    {
     "name": "stderr",
     "output_type": "stream",
     "text": [
      "WARNING:tensorflow:Early stopping conditioned on metric `val_accuracy` which is not available. Available metrics are: loss,categorical_accuracy,val_loss,val_categorical_accuracy\n"
     ]
    },
    {
     "name": "stdout",
     "output_type": "stream",
     "text": [
      "3/3 [==============================] - 82s 28s/step - loss: 0.7161 - categorical_accuracy: 0.7917 - val_loss: 0.9956 - val_categorical_accuracy: 0.6250\n",
      "Epoch 171/200\n",
      "3/3 [==============================] - ETA: 0s - loss: 0.9092 - categorical_accuracy: 0.5417 WARNING:tensorflow:Early stopping conditioned on metric `val_accuracy` which is not available. Available metrics are: loss,categorical_accuracy,val_loss,val_categorical_accuracy\n"
     ]
    },
    {
     "name": "stderr",
     "output_type": "stream",
     "text": [
      "WARNING:tensorflow:Early stopping conditioned on metric `val_accuracy` which is not available. Available metrics are: loss,categorical_accuracy,val_loss,val_categorical_accuracy\n"
     ]
    },
    {
     "name": "stdout",
     "output_type": "stream",
     "text": [
      "3/3 [==============================] - 81s 27s/step - loss: 0.9092 - categorical_accuracy: 0.5417 - val_loss: 0.9038 - val_categorical_accuracy: 0.5000\n",
      "Epoch 172/200\n",
      "3/3 [==============================] - ETA: 0s - loss: 0.7759 - categorical_accuracy: 0.7083 WARNING:tensorflow:Early stopping conditioned on metric `val_accuracy` which is not available. Available metrics are: loss,categorical_accuracy,val_loss,val_categorical_accuracy\n"
     ]
    },
    {
     "name": "stderr",
     "output_type": "stream",
     "text": [
      "WARNING:tensorflow:Early stopping conditioned on metric `val_accuracy` which is not available. Available metrics are: loss,categorical_accuracy,val_loss,val_categorical_accuracy\n"
     ]
    },
    {
     "name": "stdout",
     "output_type": "stream",
     "text": [
      "3/3 [==============================] - 68s 22s/step - loss: 0.7759 - categorical_accuracy: 0.7083 - val_loss: 0.8653 - val_categorical_accuracy: 0.5000\n",
      "Epoch 173/200\n",
      "3/3 [==============================] - ETA: 0s - loss: 0.8943 - categorical_accuracy: 0.5833 WARNING:tensorflow:Early stopping conditioned on metric `val_accuracy` which is not available. Available metrics are: loss,categorical_accuracy,val_loss,val_categorical_accuracy\n"
     ]
    },
    {
     "name": "stderr",
     "output_type": "stream",
     "text": [
      "WARNING:tensorflow:Early stopping conditioned on metric `val_accuracy` which is not available. Available metrics are: loss,categorical_accuracy,val_loss,val_categorical_accuracy\n"
     ]
    },
    {
     "name": "stdout",
     "output_type": "stream",
     "text": [
      "3/3 [==============================] - 64s 22s/step - loss: 0.8943 - categorical_accuracy: 0.5833 - val_loss: 0.7639 - val_categorical_accuracy: 0.6250\n",
      "Epoch 174/200\n",
      "3/3 [==============================] - ETA: 0s - loss: 0.7370 - categorical_accuracy: 0.7083 WARNING:tensorflow:Early stopping conditioned on metric `val_accuracy` which is not available. Available metrics are: loss,categorical_accuracy,val_loss,val_categorical_accuracy\n"
     ]
    },
    {
     "name": "stderr",
     "output_type": "stream",
     "text": [
      "WARNING:tensorflow:Early stopping conditioned on metric `val_accuracy` which is not available. Available metrics are: loss,categorical_accuracy,val_loss,val_categorical_accuracy\n"
     ]
    },
    {
     "name": "stdout",
     "output_type": "stream",
     "text": [
      "3/3 [==============================] - 66s 23s/step - loss: 0.7370 - categorical_accuracy: 0.7083 - val_loss: 0.8557 - val_categorical_accuracy: 0.5000\n",
      "Epoch 175/200\n",
      "3/3 [==============================] - ETA: 0s - loss: 0.7940 - categorical_accuracy: 0.5000 WARNING:tensorflow:Early stopping conditioned on metric `val_accuracy` which is not available. Available metrics are: loss,categorical_accuracy,val_loss,val_categorical_accuracy\n"
     ]
    },
    {
     "name": "stderr",
     "output_type": "stream",
     "text": [
      "WARNING:tensorflow:Early stopping conditioned on metric `val_accuracy` which is not available. Available metrics are: loss,categorical_accuracy,val_loss,val_categorical_accuracy\n"
     ]
    },
    {
     "name": "stdout",
     "output_type": "stream",
     "text": [
      "3/3 [==============================] - 73s 23s/step - loss: 0.7940 - categorical_accuracy: 0.5000 - val_loss: 0.5966 - val_categorical_accuracy: 0.7500\n",
      "Epoch 176/200\n",
      "3/3 [==============================] - ETA: 0s - loss: 0.7550 - categorical_accuracy: 0.6667 WARNING:tensorflow:Early stopping conditioned on metric `val_accuracy` which is not available. Available metrics are: loss,categorical_accuracy,val_loss,val_categorical_accuracy\n"
     ]
    },
    {
     "name": "stderr",
     "output_type": "stream",
     "text": [
      "WARNING:tensorflow:Early stopping conditioned on metric `val_accuracy` which is not available. Available metrics are: loss,categorical_accuracy,val_loss,val_categorical_accuracy\n"
     ]
    },
    {
     "name": "stdout",
     "output_type": "stream",
     "text": [
      "3/3 [==============================] - 74s 26s/step - loss: 0.7550 - categorical_accuracy: 0.6667 - val_loss: 0.7278 - val_categorical_accuracy: 0.7500\n",
      "Epoch 177/200\n",
      "3/3 [==============================] - ETA: 0s - loss: 0.7987 - categorical_accuracy: 0.7083 WARNING:tensorflow:Early stopping conditioned on metric `val_accuracy` which is not available. Available metrics are: loss,categorical_accuracy,val_loss,val_categorical_accuracy\n"
     ]
    },
    {
     "name": "stderr",
     "output_type": "stream",
     "text": [
      "WARNING:tensorflow:Early stopping conditioned on metric `val_accuracy` which is not available. Available metrics are: loss,categorical_accuracy,val_loss,val_categorical_accuracy\n"
     ]
    },
    {
     "name": "stdout",
     "output_type": "stream",
     "text": [
      "3/3 [==============================] - 72s 23s/step - loss: 0.7987 - categorical_accuracy: 0.7083 - val_loss: 0.6544 - val_categorical_accuracy: 0.8750\n",
      "Epoch 178/200\n",
      "3/3 [==============================] - ETA: 0s - loss: 0.7746 - categorical_accuracy: 0.6250 WARNING:tensorflow:Early stopping conditioned on metric `val_accuracy` which is not available. Available metrics are: loss,categorical_accuracy,val_loss,val_categorical_accuracy\n"
     ]
    },
    {
     "name": "stderr",
     "output_type": "stream",
     "text": [
      "WARNING:tensorflow:Early stopping conditioned on metric `val_accuracy` which is not available. Available metrics are: loss,categorical_accuracy,val_loss,val_categorical_accuracy\n"
     ]
    },
    {
     "name": "stdout",
     "output_type": "stream",
     "text": [
      "3/3 [==============================] - 72s 25s/step - loss: 0.7746 - categorical_accuracy: 0.6250 - val_loss: 0.6300 - val_categorical_accuracy: 0.6250\n",
      "Epoch 179/200\n",
      "3/3 [==============================] - ETA: 0s - loss: 0.7709 - categorical_accuracy: 0.5833 WARNING:tensorflow:Early stopping conditioned on metric `val_accuracy` which is not available. Available metrics are: loss,categorical_accuracy,val_loss,val_categorical_accuracy\n"
     ]
    },
    {
     "name": "stderr",
     "output_type": "stream",
     "text": [
      "WARNING:tensorflow:Early stopping conditioned on metric `val_accuracy` which is not available. Available metrics are: loss,categorical_accuracy,val_loss,val_categorical_accuracy\n"
     ]
    },
    {
     "name": "stdout",
     "output_type": "stream",
     "text": [
      "3/3 [==============================] - 77s 25s/step - loss: 0.7709 - categorical_accuracy: 0.5833 - val_loss: 0.8865 - val_categorical_accuracy: 0.3750\n",
      "Epoch 180/200\n",
      "3/3 [==============================] - ETA: 0s - loss: 0.7516 - categorical_accuracy: 0.6667 WARNING:tensorflow:Early stopping conditioned on metric `val_accuracy` which is not available. Available metrics are: loss,categorical_accuracy,val_loss,val_categorical_accuracy\n"
     ]
    },
    {
     "name": "stderr",
     "output_type": "stream",
     "text": [
      "WARNING:tensorflow:Early stopping conditioned on metric `val_accuracy` which is not available. Available metrics are: loss,categorical_accuracy,val_loss,val_categorical_accuracy\n"
     ]
    },
    {
     "name": "stdout",
     "output_type": "stream",
     "text": [
      "3/3 [==============================] - 74s 24s/step - loss: 0.7516 - categorical_accuracy: 0.6667 - val_loss: 0.8462 - val_categorical_accuracy: 0.6250\n",
      "Epoch 181/200\n",
      "3/3 [==============================] - ETA: 0s - loss: 0.7516 - categorical_accuracy: 0.7083 WARNING:tensorflow:Early stopping conditioned on metric `val_accuracy` which is not available. Available metrics are: loss,categorical_accuracy,val_loss,val_categorical_accuracy\n"
     ]
    },
    {
     "name": "stderr",
     "output_type": "stream",
     "text": [
      "WARNING:tensorflow:Early stopping conditioned on metric `val_accuracy` which is not available. Available metrics are: loss,categorical_accuracy,val_loss,val_categorical_accuracy\n"
     ]
    },
    {
     "name": "stdout",
     "output_type": "stream",
     "text": [
      "3/3 [==============================] - 70s 24s/step - loss: 0.7516 - categorical_accuracy: 0.7083 - val_loss: 0.7514 - val_categorical_accuracy: 0.6250\n",
      "Epoch 182/200\n",
      "3/3 [==============================] - ETA: 0s - loss: 0.8654 - categorical_accuracy: 0.6667 WARNING:tensorflow:Early stopping conditioned on metric `val_accuracy` which is not available. Available metrics are: loss,categorical_accuracy,val_loss,val_categorical_accuracy\n"
     ]
    },
    {
     "name": "stderr",
     "output_type": "stream",
     "text": [
      "WARNING:tensorflow:Early stopping conditioned on metric `val_accuracy` which is not available. Available metrics are: loss,categorical_accuracy,val_loss,val_categorical_accuracy\n"
     ]
    },
    {
     "name": "stdout",
     "output_type": "stream",
     "text": [
      "3/3 [==============================] - 69s 22s/step - loss: 0.8654 - categorical_accuracy: 0.6667 - val_loss: 0.5735 - val_categorical_accuracy: 0.7500\n",
      "Epoch 183/200\n",
      "3/3 [==============================] - ETA: 0s - loss: 0.7638 - categorical_accuracy: 0.5833 WARNING:tensorflow:Early stopping conditioned on metric `val_accuracy` which is not available. Available metrics are: loss,categorical_accuracy,val_loss,val_categorical_accuracy\n"
     ]
    },
    {
     "name": "stderr",
     "output_type": "stream",
     "text": [
      "WARNING:tensorflow:Early stopping conditioned on metric `val_accuracy` which is not available. Available metrics are: loss,categorical_accuracy,val_loss,val_categorical_accuracy\n"
     ]
    },
    {
     "name": "stdout",
     "output_type": "stream",
     "text": [
      "3/3 [==============================] - 67s 22s/step - loss: 0.7638 - categorical_accuracy: 0.5833 - val_loss: 1.0212 - val_categorical_accuracy: 0.2500\n",
      "Epoch 184/200\n",
      "3/3 [==============================] - ETA: 0s - loss: 0.9549 - categorical_accuracy: 0.5000 WARNING:tensorflow:Early stopping conditioned on metric `val_accuracy` which is not available. Available metrics are: loss,categorical_accuracy,val_loss,val_categorical_accuracy\n"
     ]
    },
    {
     "name": "stderr",
     "output_type": "stream",
     "text": [
      "WARNING:tensorflow:Early stopping conditioned on metric `val_accuracy` which is not available. Available metrics are: loss,categorical_accuracy,val_loss,val_categorical_accuracy\n"
     ]
    },
    {
     "name": "stdout",
     "output_type": "stream",
     "text": [
      "3/3 [==============================] - 65s 22s/step - loss: 0.9549 - categorical_accuracy: 0.5000 - val_loss: 0.7685 - val_categorical_accuracy: 0.5000\n",
      "Epoch 185/200\n",
      "3/3 [==============================] - ETA: 0s - loss: 1.0525 - categorical_accuracy: 0.4167 WARNING:tensorflow:Early stopping conditioned on metric `val_accuracy` which is not available. Available metrics are: loss,categorical_accuracy,val_loss,val_categorical_accuracy\n"
     ]
    },
    {
     "name": "stderr",
     "output_type": "stream",
     "text": [
      "WARNING:tensorflow:Early stopping conditioned on metric `val_accuracy` which is not available. Available metrics are: loss,categorical_accuracy,val_loss,val_categorical_accuracy\n"
     ]
    },
    {
     "name": "stdout",
     "output_type": "stream",
     "text": [
      "3/3 [==============================] - 65s 22s/step - loss: 1.0525 - categorical_accuracy: 0.4167 - val_loss: 1.1071 - val_categorical_accuracy: 0.2500\n",
      "Epoch 186/200\n",
      "3/3 [==============================] - ETA: 0s - loss: 0.8141 - categorical_accuracy: 0.5000 WARNING:tensorflow:Early stopping conditioned on metric `val_accuracy` which is not available. Available metrics are: loss,categorical_accuracy,val_loss,val_categorical_accuracy\n"
     ]
    },
    {
     "name": "stderr",
     "output_type": "stream",
     "text": [
      "WARNING:tensorflow:Early stopping conditioned on metric `val_accuracy` which is not available. Available metrics are: loss,categorical_accuracy,val_loss,val_categorical_accuracy\n"
     ]
    },
    {
     "name": "stdout",
     "output_type": "stream",
     "text": [
      "3/3 [==============================] - 66s 22s/step - loss: 0.8141 - categorical_accuracy: 0.5000 - val_loss: 0.8277 - val_categorical_accuracy: 0.5000\n",
      "Epoch 187/200\n",
      "3/3 [==============================] - ETA: 0s - loss: 0.8029 - categorical_accuracy: 0.7500 WARNING:tensorflow:Early stopping conditioned on metric `val_accuracy` which is not available. Available metrics are: loss,categorical_accuracy,val_loss,val_categorical_accuracy\n"
     ]
    },
    {
     "name": "stderr",
     "output_type": "stream",
     "text": [
      "WARNING:tensorflow:Early stopping conditioned on metric `val_accuracy` which is not available. Available metrics are: loss,categorical_accuracy,val_loss,val_categorical_accuracy\n"
     ]
    },
    {
     "name": "stdout",
     "output_type": "stream",
     "text": [
      "3/3 [==============================] - 68s 23s/step - loss: 0.8029 - categorical_accuracy: 0.7500 - val_loss: 0.7504 - val_categorical_accuracy: 0.5000\n",
      "Epoch 188/200\n",
      "3/3 [==============================] - ETA: 0s - loss: 0.7241 - categorical_accuracy: 0.7083 WARNING:tensorflow:Early stopping conditioned on metric `val_accuracy` which is not available. Available metrics are: loss,categorical_accuracy,val_loss,val_categorical_accuracy\n"
     ]
    },
    {
     "name": "stderr",
     "output_type": "stream",
     "text": [
      "WARNING:tensorflow:Early stopping conditioned on metric `val_accuracy` which is not available. Available metrics are: loss,categorical_accuracy,val_loss,val_categorical_accuracy\n"
     ]
    },
    {
     "name": "stdout",
     "output_type": "stream",
     "text": [
      "3/3 [==============================] - 68s 22s/step - loss: 0.7241 - categorical_accuracy: 0.7083 - val_loss: 0.6906 - val_categorical_accuracy: 0.7500\n",
      "Epoch 189/200\n",
      "3/3 [==============================] - ETA: 0s - loss: 0.7756 - categorical_accuracy: 0.6667 WARNING:tensorflow:Early stopping conditioned on metric `val_accuracy` which is not available. Available metrics are: loss,categorical_accuracy,val_loss,val_categorical_accuracy\n"
     ]
    },
    {
     "name": "stderr",
     "output_type": "stream",
     "text": [
      "WARNING:tensorflow:Early stopping conditioned on metric `val_accuracy` which is not available. Available metrics are: loss,categorical_accuracy,val_loss,val_categorical_accuracy\n"
     ]
    },
    {
     "name": "stdout",
     "output_type": "stream",
     "text": [
      "3/3 [==============================] - 64s 22s/step - loss: 0.7756 - categorical_accuracy: 0.6667 - val_loss: 0.6672 - val_categorical_accuracy: 0.7500\n",
      "Epoch 190/200\n",
      "3/3 [==============================] - ETA: 0s - loss: 0.7234 - categorical_accuracy: 0.7083 WARNING:tensorflow:Early stopping conditioned on metric `val_accuracy` which is not available. Available metrics are: loss,categorical_accuracy,val_loss,val_categorical_accuracy\n"
     ]
    },
    {
     "name": "stderr",
     "output_type": "stream",
     "text": [
      "WARNING:tensorflow:Early stopping conditioned on metric `val_accuracy` which is not available. Available metrics are: loss,categorical_accuracy,val_loss,val_categorical_accuracy\n"
     ]
    },
    {
     "name": "stdout",
     "output_type": "stream",
     "text": [
      "3/3 [==============================] - 65s 22s/step - loss: 0.7234 - categorical_accuracy: 0.7083 - val_loss: 0.6135 - val_categorical_accuracy: 0.6250\n",
      "Epoch 191/200\n",
      "3/3 [==============================] - ETA: 0s - loss: 0.6276 - categorical_accuracy: 0.7083 WARNING:tensorflow:Early stopping conditioned on metric `val_accuracy` which is not available. Available metrics are: loss,categorical_accuracy,val_loss,val_categorical_accuracy\n"
     ]
    },
    {
     "name": "stderr",
     "output_type": "stream",
     "text": [
      "WARNING:tensorflow:Early stopping conditioned on metric `val_accuracy` which is not available. Available metrics are: loss,categorical_accuracy,val_loss,val_categorical_accuracy\n"
     ]
    },
    {
     "name": "stdout",
     "output_type": "stream",
     "text": [
      "3/3 [==============================] - 65s 22s/step - loss: 0.6276 - categorical_accuracy: 0.7083 - val_loss: 0.7322 - val_categorical_accuracy: 0.7500\n",
      "Epoch 192/200\n",
      "3/3 [==============================] - ETA: 0s - loss: 0.6551 - categorical_accuracy: 0.7500 WARNING:tensorflow:Early stopping conditioned on metric `val_accuracy` which is not available. Available metrics are: loss,categorical_accuracy,val_loss,val_categorical_accuracy\n"
     ]
    },
    {
     "name": "stderr",
     "output_type": "stream",
     "text": [
      "WARNING:tensorflow:Early stopping conditioned on metric `val_accuracy` which is not available. Available metrics are: loss,categorical_accuracy,val_loss,val_categorical_accuracy\n"
     ]
    },
    {
     "name": "stdout",
     "output_type": "stream",
     "text": [
      "3/3 [==============================] - 65s 22s/step - loss: 0.6551 - categorical_accuracy: 0.7500 - val_loss: 0.6825 - val_categorical_accuracy: 0.8750\n",
      "Epoch 193/200\n",
      "3/3 [==============================] - ETA: 0s - loss: 0.6233 - categorical_accuracy: 0.8333 WARNING:tensorflow:Early stopping conditioned on metric `val_accuracy` which is not available. Available metrics are: loss,categorical_accuracy,val_loss,val_categorical_accuracy\n"
     ]
    },
    {
     "name": "stderr",
     "output_type": "stream",
     "text": [
      "WARNING:tensorflow:Early stopping conditioned on metric `val_accuracy` which is not available. Available metrics are: loss,categorical_accuracy,val_loss,val_categorical_accuracy\n"
     ]
    },
    {
     "name": "stdout",
     "output_type": "stream",
     "text": [
      "3/3 [==============================] - 65s 22s/step - loss: 0.6233 - categorical_accuracy: 0.8333 - val_loss: 0.6142 - val_categorical_accuracy: 0.7500\n",
      "Epoch 194/200\n",
      "3/3 [==============================] - ETA: 0s - loss: 0.5799 - categorical_accuracy: 0.8333 WARNING:tensorflow:Early stopping conditioned on metric `val_accuracy` which is not available. Available metrics are: loss,categorical_accuracy,val_loss,val_categorical_accuracy\n"
     ]
    },
    {
     "name": "stderr",
     "output_type": "stream",
     "text": [
      "WARNING:tensorflow:Early stopping conditioned on metric `val_accuracy` which is not available. Available metrics are: loss,categorical_accuracy,val_loss,val_categorical_accuracy\n"
     ]
    },
    {
     "name": "stdout",
     "output_type": "stream",
     "text": [
      "3/3 [==============================] - 65s 22s/step - loss: 0.5799 - categorical_accuracy: 0.8333 - val_loss: 0.4037 - val_categorical_accuracy: 0.8750\n",
      "Epoch 195/200\n",
      "3/3 [==============================] - ETA: 0s - loss: 0.6771 - categorical_accuracy: 0.8333 WARNING:tensorflow:Early stopping conditioned on metric `val_accuracy` which is not available. Available metrics are: loss,categorical_accuracy,val_loss,val_categorical_accuracy\n"
     ]
    },
    {
     "name": "stderr",
     "output_type": "stream",
     "text": [
      "WARNING:tensorflow:Early stopping conditioned on metric `val_accuracy` which is not available. Available metrics are: loss,categorical_accuracy,val_loss,val_categorical_accuracy\n"
     ]
    },
    {
     "name": "stdout",
     "output_type": "stream",
     "text": [
      "3/3 [==============================] - 66s 22s/step - loss: 0.6771 - categorical_accuracy: 0.8333 - val_loss: 0.7358 - val_categorical_accuracy: 0.8750\n",
      "Epoch 196/200\n",
      "3/3 [==============================] - ETA: 0s - loss: 0.5852 - categorical_accuracy: 0.8750 WARNING:tensorflow:Early stopping conditioned on metric `val_accuracy` which is not available. Available metrics are: loss,categorical_accuracy,val_loss,val_categorical_accuracy\n"
     ]
    },
    {
     "name": "stderr",
     "output_type": "stream",
     "text": [
      "WARNING:tensorflow:Early stopping conditioned on metric `val_accuracy` which is not available. Available metrics are: loss,categorical_accuracy,val_loss,val_categorical_accuracy\n"
     ]
    },
    {
     "name": "stdout",
     "output_type": "stream",
     "text": [
      "3/3 [==============================] - 64s 22s/step - loss: 0.5852 - categorical_accuracy: 0.8750 - val_loss: 0.5164 - val_categorical_accuracy: 0.8750\n",
      "Epoch 197/200\n",
      "3/3 [==============================] - ETA: 0s - loss: 0.5899 - categorical_accuracy: 0.7500 WARNING:tensorflow:Early stopping conditioned on metric `val_accuracy` which is not available. Available metrics are: loss,categorical_accuracy,val_loss,val_categorical_accuracy\n"
     ]
    },
    {
     "name": "stderr",
     "output_type": "stream",
     "text": [
      "WARNING:tensorflow:Early stopping conditioned on metric `val_accuracy` which is not available. Available metrics are: loss,categorical_accuracy,val_loss,val_categorical_accuracy\n"
     ]
    },
    {
     "name": "stdout",
     "output_type": "stream",
     "text": [
      "3/3 [==============================] - 65s 22s/step - loss: 0.5899 - categorical_accuracy: 0.7500 - val_loss: 0.2893 - val_categorical_accuracy: 0.8750\n",
      "Epoch 198/200\n",
      "3/3 [==============================] - ETA: 0s - loss: 0.5629 - categorical_accuracy: 0.7500 WARNING:tensorflow:Early stopping conditioned on metric `val_accuracy` which is not available. Available metrics are: loss,categorical_accuracy,val_loss,val_categorical_accuracy\n"
     ]
    },
    {
     "name": "stderr",
     "output_type": "stream",
     "text": [
      "WARNING:tensorflow:Early stopping conditioned on metric `val_accuracy` which is not available. Available metrics are: loss,categorical_accuracy,val_loss,val_categorical_accuracy\n"
     ]
    },
    {
     "name": "stdout",
     "output_type": "stream",
     "text": [
      "3/3 [==============================] - 70s 23s/step - loss: 0.5629 - categorical_accuracy: 0.7500 - val_loss: 0.3871 - val_categorical_accuracy: 0.8750\n",
      "Epoch 199/200\n",
      "3/3 [==============================] - ETA: 0s - loss: 0.4794 - categorical_accuracy: 0.8750 WARNING:tensorflow:Early stopping conditioned on metric `val_accuracy` which is not available. Available metrics are: loss,categorical_accuracy,val_loss,val_categorical_accuracy\n"
     ]
    },
    {
     "name": "stderr",
     "output_type": "stream",
     "text": [
      "WARNING:tensorflow:Early stopping conditioned on metric `val_accuracy` which is not available. Available metrics are: loss,categorical_accuracy,val_loss,val_categorical_accuracy\n"
     ]
    },
    {
     "name": "stdout",
     "output_type": "stream",
     "text": [
      "3/3 [==============================] - 64s 21s/step - loss: 0.4794 - categorical_accuracy: 0.8750 - val_loss: 0.6199 - val_categorical_accuracy: 0.7500\n",
      "Epoch 200/200\n",
      "3/3 [==============================] - ETA: 0s - loss: 0.6281 - categorical_accuracy: 0.7917 WARNING:tensorflow:Early stopping conditioned on metric `val_accuracy` which is not available. Available metrics are: loss,categorical_accuracy,val_loss,val_categorical_accuracy\n"
     ]
    },
    {
     "name": "stderr",
     "output_type": "stream",
     "text": [
      "WARNING:tensorflow:Early stopping conditioned on metric `val_accuracy` which is not available. Available metrics are: loss,categorical_accuracy,val_loss,val_categorical_accuracy\n"
     ]
    },
    {
     "name": "stdout",
     "output_type": "stream",
     "text": [
      "3/3 [==============================] - 64s 21s/step - loss: 0.6281 - categorical_accuracy: 0.7917 - val_loss: 0.4660 - val_categorical_accuracy: 0.8750\n"
     ]
    }
   ],
   "source": [
    "# train the model\n",
    "history = model.fit(train, epochs=200, callbacks=[tb_callback, early_stopping], validation_data=val)"
   ],
   "metadata": {
    "collapsed": false,
    "ExecuteTime": {
     "end_time": "2024-01-18T07:47:36.386362Z",
     "start_time": "2024-01-17T21:54:11.402986Z"
    }
   },
   "id": "771f0ddcf83f4b7b",
   "execution_count": 293
  },
  {
   "cell_type": "markdown",
   "source": [],
   "metadata": {
    "collapsed": false
   },
   "id": "6aaeb20355c39af8"
  },
  {
   "cell_type": "markdown",
   "source": [
    "# Visualize the training and validation accuracy and loss"
   ],
   "metadata": {
    "collapsed": false
   },
   "id": "db26ea1d55f1739b"
  },
  {
   "cell_type": "code",
   "outputs": [
    {
     "data": {
      "text/plain": "<Figure size 800x500 with 0 Axes>"
     },
     "metadata": {},
     "output_type": "display_data"
    },
    {
     "data": {
      "text/plain": "<Figure size 640x480 with 1 Axes>",
      "image/png": "[encoded data removed]"
     },
     "metadata": {},
     "output_type": "display_data"
    }
   ],
   "source": [
    "# Visualize the training and validation accuracy and loss\n",
    "plt.figure(figsize=(8,5))\n",
    "pd.DataFrame(history.history).plot()\n",
    "plt.show()"
   ],
   "metadata": {
    "collapsed": false,
    "ExecuteTime": {
     "end_time": "2024-01-18T08:23:33.010501Z",
     "start_time": "2024-01-18T08:23:32.809892Z"
    }
   },
   "id": "f44729cde0b21ceb",
   "execution_count": 297
  },
  {
   "cell_type": "markdown",
   "source": [
    "#### Results of the model:\n",
    "- The model is overfitting, but the validation accuracy is still good enough\n",
    "- The model is not complex enough to predict the labels with high level of probability\n",
    "- One of the reasons of the overfitting is the small size of the dataset\n",
    "- The trend of the validation accuracy is positive, so if we train the model with more data, the model will be able to predict the labels with higher level of accuracy\n",
    "- Also considering positive trend of the model performance on the validation set, could be reasonable add more  epochs to the training process "
   ],
   "metadata": {
    "collapsed": false
   },
   "id": "5627a6c825420429"
  },
  {
   "cell_type": "markdown",
   "source": [
    "# Make Predictions with test data"
   ],
   "metadata": {
    "collapsed": false
   },
   "id": "606e69da375f83fd"
  },
  {
   "cell_type": "code",
   "outputs": [],
   "source": [
    "#checking the batch\n",
    "batch_X, batch_y = test.as_numpy_iterator().next()"
   ],
   "metadata": {
    "collapsed": false,
    "ExecuteTime": {
     "end_time": "2024-01-18T09:20:37.255195Z",
     "start_time": "2024-01-18T09:20:37.172153Z"
    }
   },
   "id": "c19fced767d151b0",
   "execution_count": 309
  },
  {
   "cell_type": "code",
   "outputs": [
    {
     "name": "stdout",
     "output_type": "stream",
     "text": [
      "1/1 [==============================] - 4s 4s/step\n"
     ]
    }
   ],
   "source": [
    "# Predict with the model\n",
    "predictions = model.predict(batch_X)\n",
    "\n",
    "# Convert predictions to class indices\n",
    "predicted_indices = np.argmax(predictions, axis=1)\n",
    "\n",
    "# Reverse the label map\n",
    "reverse_label_map = {v: k for k, v in label_map.items()}\n",
    "\n",
    "# Convert indices to original labels\n",
    "predicted_labels = [reverse_label_map[idx] for idx in predicted_indices]\n"
   ],
   "metadata": {
    "collapsed": false,
    "ExecuteTime": {
     "end_time": "2024-01-18T09:20:43.081270Z",
     "start_time": "2024-01-18T09:20:38.469705Z"
    }
   },
   "id": "6e14e9f6268c28df",
   "execution_count": 310
  },
  {
   "cell_type": "code",
   "outputs": [
    {
     "data": {
      "text/plain": "['rock', 'welcome', 'welcome', 'ok', 'money', 'welcome', 'welcome', 'welcome']"
     },
     "execution_count": 311,
     "metadata": {},
     "output_type": "execute_result"
    }
   ],
   "source": [
    "predicted_labels"
   ],
   "metadata": {
    "collapsed": false,
    "ExecuteTime": {
     "end_time": "2024-01-18T09:20:45.064866Z",
     "start_time": "2024-01-18T09:20:45.030715Z"
    }
   },
   "id": "3154dfba956efa1e",
   "execution_count": 311
  },
  {
   "cell_type": "code",
   "outputs": [],
   "source": [
    "# Convert true values to class indices\n",
    "true_indices = np.argmax(batch_y, axis=1)\n",
    "\n",
    "# Reverse the label map\n",
    "true_label_map = {v: k for k, v in label_map.items()}\n",
    "\n",
    "# Convert indices to original labels\n",
    "true_labels = [reverse_label_map[idx] for idx in predicted_indices]"
   ],
   "metadata": {
    "collapsed": false,
    "ExecuteTime": {
     "end_time": "2024-01-18T09:20:53.968896Z",
     "start_time": "2024-01-18T09:20:53.933022Z"
    }
   },
   "id": "2d98a43ef5fcca35",
   "execution_count": 312
  },
  {
   "cell_type": "code",
   "outputs": [
    {
     "data": {
      "text/plain": "['rock', 'welcome', 'welcome', 'ok', 'money', 'welcome', 'welcome', 'welcome']"
     },
     "execution_count": 313,
     "metadata": {},
     "output_type": "execute_result"
    }
   ],
   "source": [
    "true_labels"
   ],
   "metadata": {
    "collapsed": false,
    "ExecuteTime": {
     "end_time": "2024-01-18T09:20:55.336257Z",
     "start_time": "2024-01-18T09:20:55.278178Z"
    }
   },
   "id": "8698376772265bc6",
   "execution_count": 313
  },
  {
   "cell_type": "markdown",
   "source": [
    "#### Despite pure performance during learning process, it is still able to predict the tets labels with 100% accuracy "
   ],
   "metadata": {
    "collapsed": false
   },
   "id": "833500f4a6a01ccc"
  },
  {
   "cell_type": "markdown",
   "source": [
    "# Save model"
   ],
   "metadata": {
    "collapsed": false
   },
   "id": "105d007336a42695"
  },
  {
   "cell_type": "code",
   "outputs": [],
   "source": [
    "model.load_weights('gestures5.h5')"
   ],
   "metadata": {
    "collapsed": false,
    "ExecuteTime": {
     "end_time": "2024-01-18T10:49:52.308355Z",
     "start_time": "2024-01-18T10:49:52.246508Z"
    }
   },
   "id": "c6e894c57ebb1ee9",
   "execution_count": 37
  },
  {
   "cell_type": "markdown",
   "source": [
    "# Evaluation using Confusion Matrix and Accuracy with all dataset"
   ],
   "metadata": {
    "collapsed": false
   },
   "id": "e12f6d9d5e359c24"
  },
  {
   "cell_type": "code",
   "outputs": [],
   "source": [
    "#checking the batch\n",
    "batch_X, batch_y = dataset.as_numpy_iterator().next()"
   ],
   "metadata": {
    "collapsed": false,
    "ExecuteTime": {
     "end_time": "2024-01-18T10:49:53.760485Z",
     "start_time": "2024-01-18T10:49:53.741139Z"
    }
   },
   "id": "fba148d62f28af5",
   "execution_count": 38
  },
  {
   "cell_type": "code",
   "outputs": [
    {
     "name": "stderr",
     "output_type": "stream",
     "text": [
      "2024-01-18 11:49:54.628619: I tensorflow/core/grappler/optimizers/custom_graph_optimizer_registry.cc:117] Plugin optimizer for device_type GPU is enabled.\n"
     ]
    },
    {
     "name": "stdout",
     "output_type": "stream",
     "text": [
      "1/1 [==============================] - 4s 4s/step\n"
     ]
    }
   ],
   "source": [
    "# Predict with the model\n",
    "predictions = model.predict(batch_X)\n",
    "\n",
    "# Convert predictions to class indices\n",
    "predicted_indices = np.argmax(predictions, axis=1)\n",
    "\n",
    "# Reverse the label map\n",
    "reverse_label_map = {v: k for k, v in label_map.items()}\n",
    "\n",
    "# Convert indices to original labels\n",
    "predicted_labels = [reverse_label_map[idx] for idx in predicted_indices]\n"
   ],
   "metadata": {
    "collapsed": false,
    "ExecuteTime": {
     "end_time": "2024-01-18T10:49:58.150494Z",
     "start_time": "2024-01-18T10:49:54.292002Z"
    }
   },
   "id": "748d5b2729d0b05",
   "execution_count": 39
  },
  {
   "cell_type": "code",
   "outputs": [
    {
     "data": {
      "text/plain": "['ok', 'silence', 'rock', 'rock', 'ok', 'rock', 'ok', 'silence']"
     },
     "execution_count": 40,
     "metadata": {},
     "output_type": "execute_result"
    }
   ],
   "source": [
    "predicted_labels"
   ],
   "metadata": {
    "collapsed": false,
    "ExecuteTime": {
     "end_time": "2024-01-18T10:49:58.178347Z",
     "start_time": "2024-01-18T10:49:58.157418Z"
    }
   },
   "id": "83c2375ed4b838b7",
   "execution_count": 40
  },
  {
   "cell_type": "code",
   "outputs": [],
   "source": [
    "# Convert true values to class indices\n",
    "true_indices = np.argmax(batch_y, axis=1)\n",
    "\n",
    "# Reverse the label map\n",
    "true_label_map = {v: k for k, v in label_map.items()}\n",
    "\n",
    "# Convert indices to original labels\n",
    "true_labels = [reverse_label_map[idx] for idx in predicted_indices]"
   ],
   "metadata": {
    "collapsed": false,
    "ExecuteTime": {
     "end_time": "2024-01-18T10:49:58.235805Z",
     "start_time": "2024-01-18T10:49:58.162435Z"
    }
   },
   "id": "9c34f8a02776c8cd",
   "execution_count": 41
  },
  {
   "cell_type": "code",
   "outputs": [
    {
     "data": {
      "text/plain": "['ok', 'silence', 'rock', 'rock', 'ok', 'rock', 'ok', 'silence']"
     },
     "execution_count": 42,
     "metadata": {},
     "output_type": "execute_result"
    }
   ],
   "source": [
    "true_labels"
   ],
   "metadata": {
    "collapsed": false,
    "ExecuteTime": {
     "end_time": "2024-01-18T10:49:58.237703Z",
     "start_time": "2024-01-18T10:49:58.173754Z"
    }
   },
   "id": "c1c60e46c9f7964a",
   "execution_count": 42
  },
  {
   "cell_type": "code",
   "outputs": [
    {
     "data": {
      "text/plain": "array([[[5, 0],\n        [0, 3]],\n\n       [[5, 0],\n        [0, 3]],\n\n       [[6, 0],\n        [0, 2]]])"
     },
     "execution_count": 43,
     "metadata": {},
     "output_type": "execute_result"
    }
   ],
   "source": [
    "# confusion matrix shows first 2 labels\n",
    "multilabel_confusion_matrix(predicted_labels, true_labels)"
   ],
   "metadata": {
    "collapsed": false,
    "ExecuteTime": {
     "end_time": "2024-01-18T10:49:58.566682Z",
     "start_time": "2024-01-18T10:49:58.393893Z"
    }
   },
   "id": "92f286723afdadea",
   "execution_count": 43
  },
  {
   "cell_type": "code",
   "outputs": [
    {
     "data": {
      "text/plain": "1.0"
     },
     "execution_count": 44,
     "metadata": {},
     "output_type": "execute_result"
    }
   ],
   "source": [
    "accuracy_score(predicted_labels, true_labels)"
   ],
   "metadata": {
    "collapsed": false,
    "ExecuteTime": {
     "end_time": "2024-01-18T10:50:04.894529Z",
     "start_time": "2024-01-18T10:50:04.849691Z"
    }
   },
   "id": "87ff03f8b709d14f",
   "execution_count": 44
  },
  {
   "cell_type": "markdown",
   "source": [
    "#### Same good results for the whole dataset"
   ],
   "metadata": {
    "collapsed": false
   },
   "id": "8625c0f0fb04f235"
  },
  {
   "cell_type": "markdown",
   "source": [
    "# Results"
   ],
   "metadata": {
    "collapsed": false
   },
   "id": "d04d17783cceee95"
  },
  {
   "cell_type": "markdown",
   "source": [
    "- #### So based on analysis we can see that the model is good enough to predict the labels despite the fact that the dataset is not big enough and the model is not complex enough.\n",
    "- #### Training was done with 5 classes only and the model was able to predict the labels of the test with 100% accuracy, despite the decent performance on the validation set during training.\n",
    "- #### If proceed with the training with more data considering positive trend of the model performance on the validation set, the model will be able to predict the labels with higher level of probability.\n",
    "- #### Required the real time testing\n",
    "\n",
    "  "
   ],
   "metadata": {
    "collapsed": false
   },
   "id": "c339fab0cd155520"
  },
  {
   "cell_type": "code",
   "outputs": [],
   "source": [],
   "metadata": {
    "collapsed": false
   },
   "id": "ef1ac9ebe628b8e4"
  }
 ],
 "metadata": {
  "kernelspec": {
   "display_name": "Python 3",
   "language": "python",
   "name": "python3"
  },
  "language_info": {
   "codemirror_mode": {
    "name": "ipython",
    "version": 2
   },
   "file_extension": ".py",
   "mimetype": "text/x-python",
   "name": "python",
   "nbconvert_exporter": "python",
   "pygments_lexer": "ipython2",
   "version": "2.7.6"
  }
 },
 "nbformat": 4,
 "nbformat_minor": 5
}
