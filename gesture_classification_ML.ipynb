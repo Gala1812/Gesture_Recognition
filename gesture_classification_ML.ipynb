{
 "cells": [
  {
   "cell_type": "markdown",
   "source": [
    "# Import Libraries"
   ],
   "metadata": {
    "collapsed": false
   },
   "id": "40d5baeb87611aef"
  },
  {
   "cell_type": "code",
   "execution_count": 114,
   "id": "initial_id",
   "metadata": {
    "collapsed": true,
    "ExecuteTime": {
     "end_time": "2024-01-18T14:37:22.369678Z",
     "start_time": "2024-01-18T14:37:22.358290Z"
    }
   },
   "outputs": [],
   "source": [
    "# Import libraries for data analysis\n",
    "import pandas as pd\n",
    "import numpy as np\n",
    "import matplotlib.pyplot as plt\n",
    "import seaborn as sns\n",
    "from tabulate import tabulate\n",
    "\n",
    "# Import libraries for machine learning\n",
    "from sklearn.model_selection import train_test_split\n",
    "from sklearn.metrics import  confusion_matrix, classification_report\n",
    "\n",
    "# Import libraries for machine learning models\n",
    "from sklearn.linear_model import LogisticRegression, RidgeClassifier\n",
    "from sklearn.ensemble import RandomForestClassifier, GradientBoostingClassifier\n",
    "from xgboost import XGBClassifier\n",
    "from sklearn.neighbors import KNeighborsClassifier\n",
    "\n",
    "\n",
    "# Import libraries for cross validation\n",
    "from sklearn.model_selection import cross_validate, StratifiedKFold\n",
    "from sklearn.preprocessing import LabelEncoder, StandardScaler\n",
    "\n",
    "\n",
    "# Import libraries for saving models\n",
    "from sklearn.pipeline import Pipeline, make_pipeline\n",
    "import pickle"
   ]
  },
  {
   "cell_type": "markdown",
   "source": [
    "# Read Data and EDA"
   ],
   "metadata": {
    "collapsed": false
   },
   "id": "2fb3ea731f85851a"
  },
  {
   "cell_type": "code",
   "outputs": [],
   "source": [
    "# Read data\n",
    "df = pd.read_csv('combined5.csv')"
   ],
   "metadata": {
    "collapsed": false,
    "ExecuteTime": {
     "end_time": "2024-01-18T11:54:40.614382Z",
     "start_time": "2024-01-18T11:54:40.565037Z"
    }
   },
   "id": "acae515205d5de1a",
   "execution_count": 2
  },
  {
   "cell_type": "code",
   "outputs": [
    {
     "data": {
      "text/plain": "   frame  pose_NOSE_x  pose_NOSE_y  pose_NOSE_z  pose_NOSE_visibility  \\\n0      1     0.550595     0.184134    -0.225740              0.999390   \n1      2     0.552678     0.185467    -0.175587              0.999365   \n2      3     0.553467     0.185644    -0.159335              0.999257   \n3      4     0.554047     0.185370    -0.176834              0.999187   \n4      5     0.554201     0.185123    -0.183257              0.999120   \n\n   pose_LEFT_EYE_x  pose_LEFT_EYE_y  pose_LEFT_EYE_z  \\\n0         0.560279         0.161174        -0.189114   \n1         0.561845         0.163136        -0.137902   \n2         0.563104         0.163612        -0.123313   \n3         0.564008         0.163597        -0.140386   \n4         0.564500         0.163647        -0.146963   \n\n   pose_LEFT_EYE_visibility  pose_RIGHT_EYE_x  ...  \\\n0                  0.999031          0.529116  ...   \n1                  0.999004          0.531556  ...   \n2                  0.998867          0.532347  ...   \n3                  0.998783          0.533256  ...   \n4                  0.998725          0.533496  ...   \n\n   hand_right_RING_FINGER_TIP_y  hand_right_PINKY_MCP_x  \\\n0                           0.0                     0.0   \n1                           0.0                     0.0   \n2                           0.0                     0.0   \n3                           0.0                     0.0   \n4                           0.0                     0.0   \n\n   hand_right_PINKY_MCP_y  hand_right_PINKY_PIP_x  hand_right_PINKY_PIP_y  \\\n0                     0.0                     0.0                     0.0   \n1                     0.0                     0.0                     0.0   \n2                     0.0                     0.0                     0.0   \n3                     0.0                     0.0                     0.0   \n4                     0.0                     0.0                     0.0   \n\n   hand_right_PINKY_DIP_x  hand_right_PINKY_DIP_y  hand_right_PINKY_TIP_x  \\\n0                     0.0                     0.0                     0.0   \n1                     0.0                     0.0                     0.0   \n2                     0.0                     0.0                     0.0   \n3                     0.0                     0.0                     0.0   \n4                     0.0                     0.0                     0.0   \n\n   hand_right_PINKY_TIP_y    Label  \n0                     0.0  silence  \n1                     0.0  silence  \n2                     0.0  silence  \n3                     0.0  silence  \n4                     0.0  silence  \n\n[5 rows x 146 columns]",
      "text/html": "<div>\n<style scoped>\n    .dataframe tbody tr th:only-of-type {\n        vertical-align: middle;\n    }\n\n    .dataframe tbody tr th {\n        vertical-align: top;\n    }\n\n    .dataframe thead th {\n        text-align: right;\n    }\n</style>\n<table border=\"1\" class=\"dataframe\">\n  <thead>\n    <tr style=\"text-align: right;\">\n      <th></th>\n      <th>frame</th>\n      <th>pose_NOSE_x</th>\n      <th>pose_NOSE_y</th>\n      <th>pose_NOSE_z</th>\n      <th>pose_NOSE_visibility</th>\n      <th>pose_LEFT_EYE_x</th>\n      <th>pose_LEFT_EYE_y</th>\n      <th>pose_LEFT_EYE_z</th>\n      <th>pose_LEFT_EYE_visibility</th>\n      <th>pose_RIGHT_EYE_x</th>\n      <th>...</th>\n      <th>hand_right_RING_FINGER_TIP_y</th>\n      <th>hand_right_PINKY_MCP_x</th>\n      <th>hand_right_PINKY_MCP_y</th>\n      <th>hand_right_PINKY_PIP_x</th>\n      <th>hand_right_PINKY_PIP_y</th>\n      <th>hand_right_PINKY_DIP_x</th>\n      <th>hand_right_PINKY_DIP_y</th>\n      <th>hand_right_PINKY_TIP_x</th>\n      <th>hand_right_PINKY_TIP_y</th>\n      <th>Label</th>\n    </tr>\n  </thead>\n  <tbody>\n    <tr>\n      <th>0</th>\n      <td>1</td>\n      <td>0.550595</td>\n      <td>0.184134</td>\n      <td>-0.225740</td>\n      <td>0.999390</td>\n      <td>0.560279</td>\n      <td>0.161174</td>\n      <td>-0.189114</td>\n      <td>0.999031</td>\n      <td>0.529116</td>\n      <td>...</td>\n      <td>0.0</td>\n      <td>0.0</td>\n      <td>0.0</td>\n      <td>0.0</td>\n      <td>0.0</td>\n      <td>0.0</td>\n      <td>0.0</td>\n      <td>0.0</td>\n      <td>0.0</td>\n      <td>silence</td>\n    </tr>\n    <tr>\n      <th>1</th>\n      <td>2</td>\n      <td>0.552678</td>\n      <td>0.185467</td>\n      <td>-0.175587</td>\n      <td>0.999365</td>\n      <td>0.561845</td>\n      <td>0.163136</td>\n      <td>-0.137902</td>\n      <td>0.999004</td>\n      <td>0.531556</td>\n      <td>...</td>\n      <td>0.0</td>\n      <td>0.0</td>\n      <td>0.0</td>\n      <td>0.0</td>\n      <td>0.0</td>\n      <td>0.0</td>\n      <td>0.0</td>\n      <td>0.0</td>\n      <td>0.0</td>\n      <td>silence</td>\n    </tr>\n    <tr>\n      <th>2</th>\n      <td>3</td>\n      <td>0.553467</td>\n      <td>0.185644</td>\n      <td>-0.159335</td>\n      <td>0.999257</td>\n      <td>0.563104</td>\n      <td>0.163612</td>\n      <td>-0.123313</td>\n      <td>0.998867</td>\n      <td>0.532347</td>\n      <td>...</td>\n      <td>0.0</td>\n      <td>0.0</td>\n      <td>0.0</td>\n      <td>0.0</td>\n      <td>0.0</td>\n      <td>0.0</td>\n      <td>0.0</td>\n      <td>0.0</td>\n      <td>0.0</td>\n      <td>silence</td>\n    </tr>\n    <tr>\n      <th>3</th>\n      <td>4</td>\n      <td>0.554047</td>\n      <td>0.185370</td>\n      <td>-0.176834</td>\n      <td>0.999187</td>\n      <td>0.564008</td>\n      <td>0.163597</td>\n      <td>-0.140386</td>\n      <td>0.998783</td>\n      <td>0.533256</td>\n      <td>...</td>\n      <td>0.0</td>\n      <td>0.0</td>\n      <td>0.0</td>\n      <td>0.0</td>\n      <td>0.0</td>\n      <td>0.0</td>\n      <td>0.0</td>\n      <td>0.0</td>\n      <td>0.0</td>\n      <td>silence</td>\n    </tr>\n    <tr>\n      <th>4</th>\n      <td>5</td>\n      <td>0.554201</td>\n      <td>0.185123</td>\n      <td>-0.183257</td>\n      <td>0.999120</td>\n      <td>0.564500</td>\n      <td>0.163647</td>\n      <td>-0.146963</td>\n      <td>0.998725</td>\n      <td>0.533496</td>\n      <td>...</td>\n      <td>0.0</td>\n      <td>0.0</td>\n      <td>0.0</td>\n      <td>0.0</td>\n      <td>0.0</td>\n      <td>0.0</td>\n      <td>0.0</td>\n      <td>0.0</td>\n      <td>0.0</td>\n      <td>silence</td>\n    </tr>\n  </tbody>\n</table>\n<p>5 rows × 146 columns</p>\n</div>"
     },
     "execution_count": 3,
     "metadata": {},
     "output_type": "execute_result"
    }
   ],
   "source": [
    "# check data\n",
    "df.head()"
   ],
   "metadata": {
    "collapsed": false,
    "ExecuteTime": {
     "end_time": "2024-01-18T11:54:41.822155Z",
     "start_time": "2024-01-18T11:54:41.802498Z"
    }
   },
   "id": "90be64ef8d40a7a7",
   "execution_count": 3
  },
  {
   "cell_type": "code",
   "outputs": [
    {
     "name": "stdout",
     "output_type": "stream",
     "text": [
      "<class 'pandas.core.frame.DataFrame'>\n",
      "RangeIndex: 5132 entries, 0 to 5131\n",
      "Columns: 146 entries, frame to Label\n",
      "dtypes: float64(144), int64(1), object(1)\n",
      "memory usage: 5.7+ MB\n"
     ]
    }
   ],
   "source": [
    "# get info\n",
    "df.info()"
   ],
   "metadata": {
    "collapsed": false,
    "ExecuteTime": {
     "end_time": "2024-01-18T11:54:59.389323Z",
     "start_time": "2024-01-18T11:54:59.364157Z"
    }
   },
   "id": "dcda10f8dd295958",
   "execution_count": 4
  },
  {
   "cell_type": "code",
   "outputs": [
    {
     "data": {
      "text/plain": "             frame  pose_NOSE_x  pose_NOSE_y  pose_NOSE_z  \\\ncount  5132.000000  5132.000000  5132.000000  5132.000000   \nmean     68.543648     0.493018     0.195115    -0.285693   \nstd      41.989621     0.079328     0.049965     0.097808   \nmin       1.000000     0.201593     0.108912    -0.581637   \n25%      33.000000     0.463542     0.153466    -0.351126   \n50%      65.000000     0.491457     0.187565    -0.280786   \n75%     104.000000     0.519844     0.238018    -0.217106   \nmax     149.000000     0.761661     0.316511     0.038356   \n\n       pose_NOSE_visibility  pose_LEFT_EYE_x  pose_LEFT_EYE_y  \\\ncount           5132.000000      5132.000000      5132.000000   \nmean               0.999890         0.511267         0.170927   \nstd                0.000259         0.079323         0.049966   \nmin                0.997050         0.215255         0.086373   \n25%                0.999908         0.482493         0.126857   \n50%                0.999974         0.512888         0.163647   \n75%                0.999993         0.540181         0.212125   \nmax                1.000000         0.759793         0.288097   \n\n       pose_LEFT_EYE_z  pose_LEFT_EYE_visibility  pose_RIGHT_EYE_x  ...  \\\ncount      5132.000000               5132.000000       5132.000000  ...   \nmean         -0.261171                  0.999854          0.474821  ...   \nstd           0.097077                  0.000326          0.077282  ...   \nmin          -0.554180                  0.996736          0.197089  ...   \n25%          -0.327038                  0.999885          0.446358  ...   \n50%          -0.258288                  0.999965          0.470768  ...   \n75%          -0.190967                  0.999992          0.498631  ...   \nmax           0.067401                  1.000000          0.741684  ...   \n\n       hand_right_RING_FINGER_TIP_x  hand_right_RING_FINGER_TIP_y  \\\ncount                   5132.000000                   5132.000000   \nmean                       0.600572                      0.390793   \nstd                        0.179162                      0.203830   \nmin                        0.000000                      0.000000   \n25%                        0.522359                      0.247980   \n50%                        0.616186                      0.350245   \n75%                        0.703791                      0.476743   \nmax                        1.004769                      0.867124   \n\n       hand_right_PINKY_MCP_x  hand_right_PINKY_MCP_y  hand_right_PINKY_PIP_x  \\\ncount             5132.000000             5132.000000             5132.000000   \nmean                 0.601963                0.408220                0.603281   \nstd                  0.170230                0.191497                0.174392   \nmin                  0.000000                0.000000                0.000000   \n25%                  0.541853                0.259090                0.536148   \n50%                  0.624058                0.373303                0.626900   \n75%                  0.701194                0.519892                0.708943   \nmax                  0.962095                0.873313                0.977439   \n\n       hand_right_PINKY_PIP_y  hand_right_PINKY_DIP_x  hand_right_PINKY_DIP_y  \\\ncount             5132.000000             5132.000000             5132.000000   \nmean                 0.397020                0.604792                0.390924   \nstd                  0.201030                0.176504                0.205926   \nmin                  0.000000                0.000000                0.000000   \n25%                  0.235188                0.534578                0.219663   \n50%                  0.356425                0.627888                0.350982   \n75%                  0.498565                0.712602                0.490551   \nmax                  0.874460                0.987162                0.865075   \n\n       hand_right_PINKY_TIP_x  hand_right_PINKY_TIP_y  \ncount             5132.000000             5132.000000  \nmean                 0.606469                0.385566  \nstd                  0.178182                0.210257  \nmin                  0.000000                0.000000  \n25%                  0.533753                0.207413  \n50%                  0.627696                0.352791  \n75%                  0.716843                0.488238  \nmax                  0.995278                0.864347  \n\n[8 rows x 145 columns]",
      "text/html": "<div>\n<style scoped>\n    .dataframe tbody tr th:only-of-type {\n        vertical-align: middle;\n    }\n\n    .dataframe tbody tr th {\n        vertical-align: top;\n    }\n\n    .dataframe thead th {\n        text-align: right;\n    }\n</style>\n<table border=\"1\" class=\"dataframe\">\n  <thead>\n    <tr style=\"text-align: right;\">\n      <th></th>\n      <th>frame</th>\n      <th>pose_NOSE_x</th>\n      <th>pose_NOSE_y</th>\n      <th>pose_NOSE_z</th>\n      <th>pose_NOSE_visibility</th>\n      <th>pose_LEFT_EYE_x</th>\n      <th>pose_LEFT_EYE_y</th>\n      <th>pose_LEFT_EYE_z</th>\n      <th>pose_LEFT_EYE_visibility</th>\n      <th>pose_RIGHT_EYE_x</th>\n      <th>...</th>\n      <th>hand_right_RING_FINGER_TIP_x</th>\n      <th>hand_right_RING_FINGER_TIP_y</th>\n      <th>hand_right_PINKY_MCP_x</th>\n      <th>hand_right_PINKY_MCP_y</th>\n      <th>hand_right_PINKY_PIP_x</th>\n      <th>hand_right_PINKY_PIP_y</th>\n      <th>hand_right_PINKY_DIP_x</th>\n      <th>hand_right_PINKY_DIP_y</th>\n      <th>hand_right_PINKY_TIP_x</th>\n      <th>hand_right_PINKY_TIP_y</th>\n    </tr>\n  </thead>\n  <tbody>\n    <tr>\n      <th>count</th>\n      <td>5132.000000</td>\n      <td>5132.000000</td>\n      <td>5132.000000</td>\n      <td>5132.000000</td>\n      <td>5132.000000</td>\n      <td>5132.000000</td>\n      <td>5132.000000</td>\n      <td>5132.000000</td>\n      <td>5132.000000</td>\n      <td>5132.000000</td>\n      <td>...</td>\n      <td>5132.000000</td>\n      <td>5132.000000</td>\n      <td>5132.000000</td>\n      <td>5132.000000</td>\n      <td>5132.000000</td>\n      <td>5132.000000</td>\n      <td>5132.000000</td>\n      <td>5132.000000</td>\n      <td>5132.000000</td>\n      <td>5132.000000</td>\n    </tr>\n    <tr>\n      <th>mean</th>\n      <td>68.543648</td>\n      <td>0.493018</td>\n      <td>0.195115</td>\n      <td>-0.285693</td>\n      <td>0.999890</td>\n      <td>0.511267</td>\n      <td>0.170927</td>\n      <td>-0.261171</td>\n      <td>0.999854</td>\n      <td>0.474821</td>\n      <td>...</td>\n      <td>0.600572</td>\n      <td>0.390793</td>\n      <td>0.601963</td>\n      <td>0.408220</td>\n      <td>0.603281</td>\n      <td>0.397020</td>\n      <td>0.604792</td>\n      <td>0.390924</td>\n      <td>0.606469</td>\n      <td>0.385566</td>\n    </tr>\n    <tr>\n      <th>std</th>\n      <td>41.989621</td>\n      <td>0.079328</td>\n      <td>0.049965</td>\n      <td>0.097808</td>\n      <td>0.000259</td>\n      <td>0.079323</td>\n      <td>0.049966</td>\n      <td>0.097077</td>\n      <td>0.000326</td>\n      <td>0.077282</td>\n      <td>...</td>\n      <td>0.179162</td>\n      <td>0.203830</td>\n      <td>0.170230</td>\n      <td>0.191497</td>\n      <td>0.174392</td>\n      <td>0.201030</td>\n      <td>0.176504</td>\n      <td>0.205926</td>\n      <td>0.178182</td>\n      <td>0.210257</td>\n    </tr>\n    <tr>\n      <th>min</th>\n      <td>1.000000</td>\n      <td>0.201593</td>\n      <td>0.108912</td>\n      <td>-0.581637</td>\n      <td>0.997050</td>\n      <td>0.215255</td>\n      <td>0.086373</td>\n      <td>-0.554180</td>\n      <td>0.996736</td>\n      <td>0.197089</td>\n      <td>...</td>\n      <td>0.000000</td>\n      <td>0.000000</td>\n      <td>0.000000</td>\n      <td>0.000000</td>\n      <td>0.000000</td>\n      <td>0.000000</td>\n      <td>0.000000</td>\n      <td>0.000000</td>\n      <td>0.000000</td>\n      <td>0.000000</td>\n    </tr>\n    <tr>\n      <th>25%</th>\n      <td>33.000000</td>\n      <td>0.463542</td>\n      <td>0.153466</td>\n      <td>-0.351126</td>\n      <td>0.999908</td>\n      <td>0.482493</td>\n      <td>0.126857</td>\n      <td>-0.327038</td>\n      <td>0.999885</td>\n      <td>0.446358</td>\n      <td>...</td>\n      <td>0.522359</td>\n      <td>0.247980</td>\n      <td>0.541853</td>\n      <td>0.259090</td>\n      <td>0.536148</td>\n      <td>0.235188</td>\n      <td>0.534578</td>\n      <td>0.219663</td>\n      <td>0.533753</td>\n      <td>0.207413</td>\n    </tr>\n    <tr>\n      <th>50%</th>\n      <td>65.000000</td>\n      <td>0.491457</td>\n      <td>0.187565</td>\n      <td>-0.280786</td>\n      <td>0.999974</td>\n      <td>0.512888</td>\n      <td>0.163647</td>\n      <td>-0.258288</td>\n      <td>0.999965</td>\n      <td>0.470768</td>\n      <td>...</td>\n      <td>0.616186</td>\n      <td>0.350245</td>\n      <td>0.624058</td>\n      <td>0.373303</td>\n      <td>0.626900</td>\n      <td>0.356425</td>\n      <td>0.627888</td>\n      <td>0.350982</td>\n      <td>0.627696</td>\n      <td>0.352791</td>\n    </tr>\n    <tr>\n      <th>75%</th>\n      <td>104.000000</td>\n      <td>0.519844</td>\n      <td>0.238018</td>\n      <td>-0.217106</td>\n      <td>0.999993</td>\n      <td>0.540181</td>\n      <td>0.212125</td>\n      <td>-0.190967</td>\n      <td>0.999992</td>\n      <td>0.498631</td>\n      <td>...</td>\n      <td>0.703791</td>\n      <td>0.476743</td>\n      <td>0.701194</td>\n      <td>0.519892</td>\n      <td>0.708943</td>\n      <td>0.498565</td>\n      <td>0.712602</td>\n      <td>0.490551</td>\n      <td>0.716843</td>\n      <td>0.488238</td>\n    </tr>\n    <tr>\n      <th>max</th>\n      <td>149.000000</td>\n      <td>0.761661</td>\n      <td>0.316511</td>\n      <td>0.038356</td>\n      <td>1.000000</td>\n      <td>0.759793</td>\n      <td>0.288097</td>\n      <td>0.067401</td>\n      <td>1.000000</td>\n      <td>0.741684</td>\n      <td>...</td>\n      <td>1.004769</td>\n      <td>0.867124</td>\n      <td>0.962095</td>\n      <td>0.873313</td>\n      <td>0.977439</td>\n      <td>0.874460</td>\n      <td>0.987162</td>\n      <td>0.865075</td>\n      <td>0.995278</td>\n      <td>0.864347</td>\n    </tr>\n  </tbody>\n</table>\n<p>8 rows × 145 columns</p>\n</div>"
     },
     "execution_count": 5,
     "metadata": {},
     "output_type": "execute_result"
    }
   ],
   "source": [
    "# get summary\n",
    "df.describe()"
   ],
   "metadata": {
    "collapsed": false,
    "ExecuteTime": {
     "end_time": "2024-01-18T11:55:01.463219Z",
     "start_time": "2024-01-18T11:55:01.385735Z"
    }
   },
   "id": "f29b274ff2ebc020",
   "execution_count": 5
  },
  {
   "cell_type": "code",
   "outputs": [
    {
     "data": {
      "text/plain": "frame                     0\npose_NOSE_x               0\npose_NOSE_y               0\npose_NOSE_z               0\npose_NOSE_visibility      0\n                         ..\nhand_right_PINKY_DIP_x    0\nhand_right_PINKY_DIP_y    0\nhand_right_PINKY_TIP_x    0\nhand_right_PINKY_TIP_y    0\nLabel                     0\nLength: 146, dtype: int64"
     },
     "execution_count": 6,
     "metadata": {},
     "output_type": "execute_result"
    }
   ],
   "source": [
    "# check missing values\n",
    "df.isnull().sum()"
   ],
   "metadata": {
    "collapsed": false,
    "ExecuteTime": {
     "end_time": "2024-01-18T11:55:03.610674Z",
     "start_time": "2024-01-18T11:55:03.597721Z"
    }
   },
   "id": "d6074a7882a67a39",
   "execution_count": 6
  },
  {
   "cell_type": "code",
   "outputs": [
    {
     "data": {
      "text/plain": "0"
     },
     "execution_count": 11,
     "metadata": {},
     "output_type": "execute_result"
    }
   ],
   "source": [
    "# check duplicate values\n",
    "df.duplicated().sum()"
   ],
   "metadata": {
    "collapsed": false,
    "ExecuteTime": {
     "end_time": "2024-01-18T11:55:43.244503Z",
     "start_time": "2024-01-18T11:55:43.213056Z"
    }
   },
   "id": "6e2ff28cbdd6aba4",
   "execution_count": 11
  },
  {
   "cell_type": "code",
   "outputs": [
    {
     "data": {
      "text/plain": "frame                      149\npose_NOSE_x               5041\npose_NOSE_y               4986\npose_NOSE_z               5092\npose_NOSE_visibility       634\n                          ... \nhand_right_PINKY_DIP_x    4594\nhand_right_PINKY_DIP_y    4585\nhand_right_PINKY_TIP_x    4590\nhand_right_PINKY_TIP_y    4588\nLabel                        5\nLength: 146, dtype: int64"
     },
     "execution_count": 117,
     "metadata": {},
     "output_type": "execute_result"
    }
   ],
   "source": [
    "# check unique values\n",
    "df.nunique()"
   ],
   "metadata": {
    "collapsed": false,
    "ExecuteTime": {
     "end_time": "2024-01-18T14:40:37.824379Z",
     "start_time": "2024-01-18T14:40:37.769197Z"
    }
   },
   "id": "2a9693334a4660b6",
   "execution_count": 117
  },
  {
   "cell_type": "code",
   "outputs": [
    {
     "data": {
      "text/plain": "Label\nmoney      1028\nok         1027\nsilence    1026\nwelcome    1026\nrock       1025\nName: count, dtype: int64"
     },
     "execution_count": 9,
     "metadata": {},
     "output_type": "execute_result"
    }
   ],
   "source": [
    "# inspect label\n",
    "df['Label'].value_counts()"
   ],
   "metadata": {
    "collapsed": false,
    "ExecuteTime": {
     "end_time": "2024-01-18T11:55:31.707035Z",
     "start_time": "2024-01-18T11:55:31.698392Z"
    }
   },
   "id": "b14187a148c75cda",
   "execution_count": 9
  },
  {
   "cell_type": "code",
   "outputs": [
    {
     "data": {
      "text/plain": "<Axes: xlabel='Label'>"
     },
     "execution_count": 115,
     "metadata": {},
     "output_type": "execute_result"
    },
    {
     "data": {
      "text/plain": "<Figure size 640x480 with 1 Axes>",
      "image/png": "[encoded data removed]"
     },
     "metadata": {},
     "output_type": "display_data"
    }
   ],
   "source": [
    "# plot label\n",
    "df['Label'].value_counts().plot(kind='bar')"
   ],
   "metadata": {
    "collapsed": false,
    "ExecuteTime": {
     "end_time": "2024-01-18T14:39:30.244996Z",
     "start_time": "2024-01-18T14:39:30.134731Z"
    }
   },
   "id": "6d4d9d211097d31e",
   "execution_count": 115
  },
  {
   "cell_type": "code",
   "outputs": [
    {
     "data": {
      "text/plain": "<Axes: ylabel='count'>"
     },
     "execution_count": 116,
     "metadata": {},
     "output_type": "execute_result"
    },
    {
     "data": {
      "text/plain": "<Figure size 640x480 with 1 Axes>",
      "image/png": "[encoded data removed]"
     },
     "metadata": {},
     "output_type": "display_data"
    }
   ],
   "source": [
    "# plot label\n",
    "df['Label'].value_counts().plot(kind='pie')"
   ],
   "metadata": {
    "collapsed": false,
    "ExecuteTime": {
     "end_time": "2024-01-18T14:39:56.493928Z",
     "start_time": "2024-01-18T14:39:56.414800Z"
    }
   },
   "id": "a9e41fee0bd8ddcc",
   "execution_count": 116
  },
  {
   "cell_type": "markdown",
   "source": [
    "### Resume of EDA:"
   ],
   "metadata": {
    "collapsed": false
   },
   "id": "3d8bcad073fce263"
  },
  {
   "cell_type": "markdown",
   "source": [
    "Based on the EDA, we can see that:\n",
    "1. There are no missing values and duplicate values.\n",
    "2. There are 5 unique labels.\n",
    "3. The data is well balanced."
   ],
   "metadata": {
    "collapsed": false
   },
   "id": "dc434888176f6d26"
  },
  {
   "cell_type": "markdown",
   "source": [
    "# Define X, y"
   ],
   "metadata": {
    "collapsed": false
   },
   "id": "2af3e5a36bf94043"
  },
  {
   "cell_type": "code",
   "outputs": [],
   "source": [
    "# drop frame and label\n",
    "X =df.drop(['Label', 'frame'], axis=1)\n",
    "y = df['Label']"
   ],
   "metadata": {
    "collapsed": false,
    "ExecuteTime": {
     "end_time": "2024-01-18T12:52:44.840794Z",
     "start_time": "2024-01-18T12:52:44.812512Z"
    }
   },
   "id": "1696d47f259d38ab",
   "execution_count": 44
  },
  {
   "cell_type": "markdown",
   "source": [
    "# Scale Data"
   ],
   "metadata": {
    "collapsed": false
   },
   "id": "22b23e414a57e4e7"
  },
  {
   "cell_type": "code",
   "outputs": [],
   "source": [
    "# scale data\n",
    "scaler = StandardScaler()\n",
    "X = scaler.fit_transform(X)"
   ],
   "metadata": {
    "collapsed": false,
    "ExecuteTime": {
     "end_time": "2024-01-18T12:52:47.882944Z",
     "start_time": "2024-01-18T12:52:47.847470Z"
    }
   },
   "id": "3f633b59bca79e37",
   "execution_count": 45
  },
  {
   "cell_type": "code",
   "outputs": [],
   "source": [
    "# encode label\n",
    "label_encoder = LabelEncoder()\n",
    "y = label_encoder.fit_transform(y)"
   ],
   "metadata": {
    "collapsed": false,
    "ExecuteTime": {
     "end_time": "2024-01-18T13:06:23.738105Z",
     "start_time": "2024-01-18T13:06:23.717562Z"
    }
   },
   "id": "61171f4a0240d1fc",
   "execution_count": 54
  },
  {
   "cell_type": "markdown",
   "source": [
    "# Split Data"
   ],
   "metadata": {
    "collapsed": false
   },
   "id": "1693cf4cb4797892"
  },
  {
   "cell_type": "code",
   "outputs": [],
   "source": [
    "# split data into train and test  sets with 80:20 ratio\n",
    "X_train, X_test, y_train, y_test = train_test_split(X, y, test_size=0.2, random_state=42)"
   ],
   "metadata": {
    "collapsed": false,
    "ExecuteTime": {
     "end_time": "2024-01-18T13:06:42.628593Z",
     "start_time": "2024-01-18T13:06:42.606510Z"
    }
   },
   "id": "e8c0e519c3615299",
   "execution_count": 55
  },
  {
   "cell_type": "code",
   "outputs": [
    {
     "data": {
      "text/plain": "((4105, 144), (1027, 144), (4105,), (1027,))"
     },
     "execution_count": 56,
     "metadata": {},
     "output_type": "execute_result"
    }
   ],
   "source": [
    "# check shape\n",
    "X_train.shape, X_test.shape, y_train.shape, y_test.shape"
   ],
   "metadata": {
    "collapsed": false,
    "ExecuteTime": {
     "end_time": "2024-01-18T13:06:43.053508Z",
     "start_time": "2024-01-18T13:06:43.044983Z"
    }
   },
   "id": "5741658dcc3423ed",
   "execution_count": 56
  },
  {
   "cell_type": "markdown",
   "source": [
    "# Train Machine Learning Classification Models"
   ],
   "metadata": {
    "collapsed": false
   },
   "id": "2d47fe00d45df3d6"
  },
  {
   "cell_type": "code",
   "outputs": [],
   "source": [
    "# Define models\n",
    "models = [\n",
    "    RandomForestClassifier(n_estimators=50, random_state= 42), \n",
    "    LogisticRegression(random_state =42), \n",
    "    RidgeClassifier(random_state =42),\n",
    "    GradientBoostingClassifier(learning_rate=0.3,n_estimators=50, random_state =42),\n",
    "    XGBClassifier(random_state =42),\n",
    "    KNeighborsClassifier()\n",
    "]"
   ],
   "metadata": {
    "collapsed": false,
    "ExecuteTime": {
     "end_time": "2024-01-18T12:58:45.185257Z",
     "start_time": "2024-01-18T12:58:45.183642Z"
    }
   },
   "id": "875bbce2bb31d4a3",
   "execution_count": 49
  },
  {
   "cell_type": "code",
   "outputs": [],
   "source": [
    "# Define function to evaluate models using cross validation and return results in a DataFrame\n",
    "def evaluate_models(X_train, y_train, models):\n",
    "    skf = StratifiedKFold(n_splits=5)\n",
    "\n",
    "    # Include additional scoring metrics\n",
    "    scoring = {'accuracy': 'accuracy',\n",
    "               'precision': 'precision_macro', \n",
    "               'recall': 'recall_macro', \n",
    "               'f1': 'f1_macro'}\n",
    "\n",
    "    results = []\n",
    "\n",
    "    for model in models:\n",
    "        scores = cross_validate(model, X_train, y_train, scoring=scoring, cv=skf, return_train_score=True)\n",
    "\n",
    "        mean_accuracy = round(scores['test_accuracy'].mean(), 3)\n",
    "        mean_precision = round(scores['test_precision'].mean(), 3)\n",
    "        mean_recall = round(scores['test_recall'].mean(), 3)\n",
    "        mean_f1 = round(scores['test_f1'].mean(), 3)\n",
    "        mean_train_accuracy = round(np.mean(scores['train_accuracy']), 3)\n",
    "\n",
    "        overfitting = (mean_train_accuracy - mean_accuracy) * 100\n",
    "\n",
    "        # Store the model's parameters\n",
    "        model_params = model.get_params()\n",
    "        \n",
    "        # Append the results\n",
    "        model_metrics = {'Model': model.__class__.__name__,\n",
    "                         'Accuracy': mean_accuracy,\n",
    "                         'Precision': mean_precision,\n",
    "                         'Recall': mean_recall,\n",
    "                         'F1 Score': mean_f1,\n",
    "                         'Overfitting': overfitting}\n",
    "                        \n",
    "        results.append(model_metrics)\n",
    "\n",
    "    # Create a DataFrame from the results list\n",
    "    results_df = pd.DataFrame(results)\n",
    "\n",
    "    return results_df\n"
   ],
   "metadata": {
    "collapsed": false,
    "ExecuteTime": {
     "end_time": "2024-01-18T13:58:04.692913Z",
     "start_time": "2024-01-18T13:58:04.686664Z"
    }
   },
   "id": "90e361d87e50da4d",
   "execution_count": 96
  },
  {
   "cell_type": "code",
   "outputs": [
    {
     "name": "stderr",
     "output_type": "stream",
     "text": [
      "/Users/gala/PycharmProjects/Technical_task_Chiara/.venv/lib/python3.11/site-packages/sklearn/linear_model/_logistic.py:460: ConvergenceWarning: lbfgs failed to converge (status=1):\n",
      "STOP: TOTAL NO. of ITERATIONS REACHED LIMIT.\n",
      "\n",
      "Increase the number of iterations (max_iter) or scale the data as shown in:\n",
      "    https://scikit-learn.org/stable/modules/preprocessing.html\n",
      "Please also refer to the documentation for alternative solver options:\n",
      "    https://scikit-learn.org/stable/modules/linear_model.html#logistic-regression\n",
      "  n_iter_i = _check_optimize_result(\n",
      "/Users/gala/PycharmProjects/Technical_task_Chiara/.venv/lib/python3.11/site-packages/sklearn/linear_model/_logistic.py:460: ConvergenceWarning: lbfgs failed to converge (status=1):\n",
      "STOP: TOTAL NO. of ITERATIONS REACHED LIMIT.\n",
      "\n",
      "Increase the number of iterations (max_iter) or scale the data as shown in:\n",
      "    https://scikit-learn.org/stable/modules/preprocessing.html\n",
      "Please also refer to the documentation for alternative solver options:\n",
      "    https://scikit-learn.org/stable/modules/linear_model.html#logistic-regression\n",
      "  n_iter_i = _check_optimize_result(\n",
      "/Users/gala/PycharmProjects/Technical_task_Chiara/.venv/lib/python3.11/site-packages/sklearn/linear_model/_logistic.py:460: ConvergenceWarning: lbfgs failed to converge (status=1):\n",
      "STOP: TOTAL NO. of ITERATIONS REACHED LIMIT.\n",
      "\n",
      "Increase the number of iterations (max_iter) or scale the data as shown in:\n",
      "    https://scikit-learn.org/stable/modules/preprocessing.html\n",
      "Please also refer to the documentation for alternative solver options:\n",
      "    https://scikit-learn.org/stable/modules/linear_model.html#logistic-regression\n",
      "  n_iter_i = _check_optimize_result(\n",
      "/Users/gala/PycharmProjects/Technical_task_Chiara/.venv/lib/python3.11/site-packages/sklearn/linear_model/_logistic.py:460: ConvergenceWarning: lbfgs failed to converge (status=1):\n",
      "STOP: TOTAL NO. of ITERATIONS REACHED LIMIT.\n",
      "\n",
      "Increase the number of iterations (max_iter) or scale the data as shown in:\n",
      "    https://scikit-learn.org/stable/modules/preprocessing.html\n",
      "Please also refer to the documentation for alternative solver options:\n",
      "    https://scikit-learn.org/stable/modules/linear_model.html#logistic-regression\n",
      "  n_iter_i = _check_optimize_result(\n",
      "/Users/gala/PycharmProjects/Technical_task_Chiara/.venv/lib/python3.11/site-packages/sklearn/linear_model/_logistic.py:460: ConvergenceWarning: lbfgs failed to converge (status=1):\n",
      "STOP: TOTAL NO. of ITERATIONS REACHED LIMIT.\n",
      "\n",
      "Increase the number of iterations (max_iter) or scale the data as shown in:\n",
      "    https://scikit-learn.org/stable/modules/preprocessing.html\n",
      "Please also refer to the documentation for alternative solver options:\n",
      "    https://scikit-learn.org/stable/modules/linear_model.html#logistic-regression\n",
      "  n_iter_i = _check_optimize_result(\n"
     ]
    }
   ],
   "source": [
    "# Evaluate models\n",
    "results_df = evaluate_models(X_train, y_train, models)"
   ],
   "metadata": {
    "collapsed": false,
    "ExecuteTime": {
     "end_time": "2024-01-18T13:59:46.637571Z",
     "start_time": "2024-01-18T13:58:05.269174Z"
    }
   },
   "id": "fbd9274f8ab69366",
   "execution_count": 97
  },
  {
   "cell_type": "code",
   "outputs": [
    {
     "data": {
      "text/plain": "                        Model  Accuracy  Precision  Recall  F1 Score  \\\n0      RandomForestClassifier     0.997      0.997   0.997     0.997   \n1          LogisticRegression     0.997      0.997   0.997     0.997   \n2             RidgeClassifier     0.994      0.994   0.994     0.994   \n3  GradientBoostingClassifier     0.997      0.997   0.997     0.997   \n4               XGBClassifier     0.998      0.998   0.998     0.998   \n5        KNeighborsClassifier     0.993      0.993   0.993     0.993   \n\n   Overfitting  \n0          0.3  \n1          0.2  \n2          0.1  \n3          0.3  \n4          0.2  \n5          0.1  ",
      "text/html": "<div>\n<style scoped>\n    .dataframe tbody tr th:only-of-type {\n        vertical-align: middle;\n    }\n\n    .dataframe tbody tr th {\n        vertical-align: top;\n    }\n\n    .dataframe thead th {\n        text-align: right;\n    }\n</style>\n<table border=\"1\" class=\"dataframe\">\n  <thead>\n    <tr style=\"text-align: right;\">\n      <th></th>\n      <th>Model</th>\n      <th>Accuracy</th>\n      <th>Precision</th>\n      <th>Recall</th>\n      <th>F1 Score</th>\n      <th>Overfitting</th>\n    </tr>\n  </thead>\n  <tbody>\n    <tr>\n      <th>0</th>\n      <td>RandomForestClassifier</td>\n      <td>0.997</td>\n      <td>0.997</td>\n      <td>0.997</td>\n      <td>0.997</td>\n      <td>0.3</td>\n    </tr>\n    <tr>\n      <th>1</th>\n      <td>LogisticRegression</td>\n      <td>0.997</td>\n      <td>0.997</td>\n      <td>0.997</td>\n      <td>0.997</td>\n      <td>0.2</td>\n    </tr>\n    <tr>\n      <th>2</th>\n      <td>RidgeClassifier</td>\n      <td>0.994</td>\n      <td>0.994</td>\n      <td>0.994</td>\n      <td>0.994</td>\n      <td>0.1</td>\n    </tr>\n    <tr>\n      <th>3</th>\n      <td>GradientBoostingClassifier</td>\n      <td>0.997</td>\n      <td>0.997</td>\n      <td>0.997</td>\n      <td>0.997</td>\n      <td>0.3</td>\n    </tr>\n    <tr>\n      <th>4</th>\n      <td>XGBClassifier</td>\n      <td>0.998</td>\n      <td>0.998</td>\n      <td>0.998</td>\n      <td>0.998</td>\n      <td>0.2</td>\n    </tr>\n    <tr>\n      <th>5</th>\n      <td>KNeighborsClassifier</td>\n      <td>0.993</td>\n      <td>0.993</td>\n      <td>0.993</td>\n      <td>0.993</td>\n      <td>0.1</td>\n    </tr>\n  </tbody>\n</table>\n</div>"
     },
     "execution_count": 98,
     "metadata": {},
     "output_type": "execute_result"
    }
   ],
   "source": [
    "# Print results\n",
    "results_df"
   ],
   "metadata": {
    "collapsed": false,
    "ExecuteTime": {
     "end_time": "2024-01-18T14:00:45.690164Z",
     "start_time": "2024-01-18T14:00:45.678055Z"
    }
   },
   "id": "5b3318a7ecd62d24",
   "execution_count": 98
  },
  {
   "cell_type": "markdown",
   "source": [
    "# Evaluate Best Model"
   ],
   "metadata": {
    "collapsed": false
   },
   "id": "f049d4a3c1856999"
  },
  {
   "cell_type": "code",
   "outputs": [
    {
     "name": "stdout",
     "output_type": "stream",
     "text": [
      "╭─────────────┬─────────────────────╮\n",
      "│             │ 4                   │\n",
      "├─────────────┼─────────────────────┤\n",
      "│ Model       │ XGBClassifier       │\n",
      "├─────────────┼─────────────────────┤\n",
      "│ Accuracy    │ 0.998               │\n",
      "├─────────────┼─────────────────────┤\n",
      "│ Precision   │ 0.998               │\n",
      "├─────────────┼─────────────────────┤\n",
      "│ Recall      │ 0.998               │\n",
      "├─────────────┼─────────────────────┤\n",
      "│ F1 Score    │ 0.998               │\n",
      "├─────────────┼─────────────────────┤\n",
      "│ Overfitting │ 0.20000000000000018 │\n",
      "╰─────────────┴─────────────────────╯\n"
     ]
    }
   ],
   "source": [
    "# Find the row with the minimum 'F1 Score' value (best model)\n",
    "best_model_row = results_df.loc[results_df['F1 Score'].idxmax()]\n",
    "\n",
    "# Print the results of the best model\n",
    "result = tabulate(pd.DataFrame(best_model_row), headers='keys', tablefmt='rounded_grid', showindex=True)\n",
    "print(result)"
   ],
   "metadata": {
    "collapsed": false,
    "ExecuteTime": {
     "end_time": "2024-01-18T14:00:48.271150Z",
     "start_time": "2024-01-18T14:00:48.266782Z"
    }
   },
   "id": "b29b5b7dab399d9e",
   "execution_count": 99
  },
  {
   "cell_type": "code",
   "outputs": [
    {
     "data": {
      "text/plain": "XGBClassifier(base_score=None, booster=None, callbacks=None,\n              colsample_bylevel=None, colsample_bynode=None,\n              colsample_bytree=None, device=None, early_stopping_rounds=None,\n              enable_categorical=False, eval_metric=None, feature_types=None,\n              gamma=None, grow_policy=None, importance_type=None,\n              interaction_constraints=None, learning_rate=None, max_bin=None,\n              max_cat_threshold=None, max_cat_to_onehot=None,\n              max_delta_step=None, max_depth=None, max_leaves=None,\n              min_child_weight=None, missing=nan, monotone_constraints=None,\n              multi_strategy=None, n_estimators=None, n_jobs=None,\n              num_parallel_tree=None, objective='multi:softprob', ...)",
      "text/html": "<style>#sk-container-id-1 {color: black;}#sk-container-id-1 pre{padding: 0;}#sk-container-id-1 div.sk-toggleable {background-color: white;}#sk-container-id-1 label.sk-toggleable__label {cursor: pointer;display: block;width: 100%;margin-bottom: 0;padding: 0.3em;box-sizing: border-box;text-align: center;}#sk-container-id-1 label.sk-toggleable__label-arrow:before {content: \"▸\";float: left;margin-right: 0.25em;color: #696969;}#sk-container-id-1 label.sk-toggleable__label-arrow:hover:before {color: black;}#sk-container-id-1 div.sk-estimator:hover label.sk-toggleable__label-arrow:before {color: black;}#sk-container-id-1 div.sk-toggleable__content {max-height: 0;max-width: 0;overflow: hidden;text-align: left;background-color: #f0f8ff;}#sk-container-id-1 div.sk-toggleable__content pre {margin: 0.2em;color: black;border-radius: 0.25em;background-color: #f0f8ff;}#sk-container-id-1 input.sk-toggleable__control:checked~div.sk-toggleable__content {max-height: 200px;max-width: 100%;overflow: auto;}#sk-container-id-1 input.sk-toggleable__control:checked~label.sk-toggleable__label-arrow:before {content: \"▾\";}#sk-container-id-1 div.sk-estimator input.sk-toggleable__control:checked~label.sk-toggleable__label {background-color: #d4ebff;}#sk-container-id-1 div.sk-label input.sk-toggleable__control:checked~label.sk-toggleable__label {background-color: #d4ebff;}#sk-container-id-1 input.sk-hidden--visually {border: 0;clip: rect(1px 1px 1px 1px);clip: rect(1px, 1px, 1px, 1px);height: 1px;margin: -1px;overflow: hidden;padding: 0;position: absolute;width: 1px;}#sk-container-id-1 div.sk-estimator {font-family: monospace;background-color: #f0f8ff;border: 1px dotted black;border-radius: 0.25em;box-sizing: border-box;margin-bottom: 0.5em;}#sk-container-id-1 div.sk-estimator:hover {background-color: #d4ebff;}#sk-container-id-1 div.sk-parallel-item::after {content: \"\";width: 100%;border-bottom: 1px solid gray;flex-grow: 1;}#sk-container-id-1 div.sk-label:hover label.sk-toggleable__label {background-color: #d4ebff;}#sk-container-id-1 div.sk-serial::before {content: \"\";position: absolute;border-left: 1px solid gray;box-sizing: border-box;top: 0;bottom: 0;left: 50%;z-index: 0;}#sk-container-id-1 div.sk-serial {display: flex;flex-direction: column;align-items: center;background-color: white;padding-right: 0.2em;padding-left: 0.2em;position: relative;}#sk-container-id-1 div.sk-item {position: relative;z-index: 1;}#sk-container-id-1 div.sk-parallel {display: flex;align-items: stretch;justify-content: center;background-color: white;position: relative;}#sk-container-id-1 div.sk-item::before, #sk-container-id-1 div.sk-parallel-item::before {content: \"\";position: absolute;border-left: 1px solid gray;box-sizing: border-box;top: 0;bottom: 0;left: 50%;z-index: -1;}#sk-container-id-1 div.sk-parallel-item {display: flex;flex-direction: column;z-index: 1;position: relative;background-color: white;}#sk-container-id-1 div.sk-parallel-item:first-child::after {align-self: flex-end;width: 50%;}#sk-container-id-1 div.sk-parallel-item:last-child::after {align-self: flex-start;width: 50%;}#sk-container-id-1 div.sk-parallel-item:only-child::after {width: 0;}#sk-container-id-1 div.sk-dashed-wrapped {border: 1px dashed gray;margin: 0 0.4em 0.5em 0.4em;box-sizing: border-box;padding-bottom: 0.4em;background-color: white;}#sk-container-id-1 div.sk-label label {font-family: monospace;font-weight: bold;display: inline-block;line-height: 1.2em;}#sk-container-id-1 div.sk-label-container {text-align: center;}#sk-container-id-1 div.sk-container {/* jupyter's `normalize.less` sets `[hidden] { display: none; }` but bootstrap.min.css set `[hidden] { display: none !important; }` so we also need the `!important` here to be able to override the default hidden behavior on the sphinx rendered scikit-learn.org. See: https://github.com/scikit-learn/scikit-learn/issues/21755 */display: inline-block !important;position: relative;}#sk-container-id-1 div.sk-text-repr-fallback {display: none;}</style><div id=\"sk-container-id-1\" class=\"sk-top-container\"><div class=\"sk-text-repr-fallback\"><pre>XGBClassifier(base_score=None, booster=None, callbacks=None,\n              colsample_bylevel=None, colsample_bynode=None,\n              colsample_bytree=None, device=None, early_stopping_rounds=None,\n              enable_categorical=False, eval_metric=None, feature_types=None,\n              gamma=None, grow_policy=None, importance_type=None,\n              interaction_constraints=None, learning_rate=None, max_bin=None,\n              max_cat_threshold=None, max_cat_to_onehot=None,\n              max_delta_step=None, max_depth=None, max_leaves=None,\n              min_child_weight=None, missing=nan, monotone_constraints=None,\n              multi_strategy=None, n_estimators=None, n_jobs=None,\n              num_parallel_tree=None, objective=&#x27;multi:softprob&#x27;, ...)</pre><b>In a Jupyter environment, please rerun this cell to show the HTML representation or trust the notebook. <br />On GitHub, the HTML representation is unable to render, please try loading this page with nbviewer.org.</b></div><div class=\"sk-container\" hidden><div class=\"sk-item\"><div class=\"sk-estimator sk-toggleable\"><input class=\"sk-toggleable__control sk-hidden--visually\" id=\"sk-estimator-id-1\" type=\"checkbox\" checked><label for=\"sk-estimator-id-1\" class=\"sk-toggleable__label sk-toggleable__label-arrow\">XGBClassifier</label><div class=\"sk-toggleable__content\"><pre>XGBClassifier(base_score=None, booster=None, callbacks=None,\n              colsample_bylevel=None, colsample_bynode=None,\n              colsample_bytree=None, device=None, early_stopping_rounds=None,\n              enable_categorical=False, eval_metric=None, feature_types=None,\n              gamma=None, grow_policy=None, importance_type=None,\n              interaction_constraints=None, learning_rate=None, max_bin=None,\n              max_cat_threshold=None, max_cat_to_onehot=None,\n              max_delta_step=None, max_depth=None, max_leaves=None,\n              min_child_weight=None, missing=nan, monotone_constraints=None,\n              multi_strategy=None, n_estimators=None, n_jobs=None,\n              num_parallel_tree=None, objective=&#x27;multi:softprob&#x27;, ...)</pre></div></div></div></div></div>"
     },
     "execution_count": 100,
     "metadata": {},
     "output_type": "execute_result"
    }
   ],
   "source": [
    "# the best model is XGBClassifier with F1 Score of 0.99\n",
    "xgb = XGBClassifier(random_state =42)\n",
    "# fit model\n",
    "model_trained = xgb.fit(X_train, y_train)\n",
    "model_trained"
   ],
   "metadata": {
    "collapsed": false,
    "ExecuteTime": {
     "end_time": "2024-01-18T14:18:14.037494Z",
     "start_time": "2024-01-18T14:18:13.357225Z"
    }
   },
   "id": "f99446eebe23adf9",
   "execution_count": 100
  },
  {
   "cell_type": "markdown",
   "source": [
    "# Create Pipeline"
   ],
   "metadata": {
    "collapsed": false
   },
   "id": "85ed5bff8b9415f9"
  },
  {
   "cell_type": "code",
   "outputs": [],
   "source": [
    "# create pipeline for preprocessing\n",
    "preprocessor = make_pipeline(StandardScaler())"
   ],
   "metadata": {
    "collapsed": false,
    "ExecuteTime": {
     "end_time": "2024-01-18T14:18:26.794233Z",
     "start_time": "2024-01-18T14:18:26.785828Z"
    }
   },
   "id": "645b0cdf48877633",
   "execution_count": 101
  },
  {
   "cell_type": "code",
   "outputs": [
    {
     "data": {
      "text/plain": "array([[ 2.42746022,  1.2468281 , -0.38229477, ...,  0.54004374,\n         0.88425854,  0.54074624],\n       [-0.36864537,  0.85819718,  0.98485556, ..., -0.23926848,\n        -0.91192243, -0.17720877],\n       [-1.68080866,  0.07151024,  0.31386782, ...,  0.30172685,\n        -1.20201443,  0.30715304],\n       ...,\n       [ 0.1717295 , -1.39944807, -0.99630946, ...,  0.33440922,\n        -0.12046852,  0.38095623],\n       [ 1.93814998,  1.68660677,  0.05722031, ...,  1.0967155 ,\n        -0.30839507,  1.09202007],\n       [ 1.59134658,  1.97770476,  1.05500432, ...,  2.2346962 ,\n         0.03605718,  2.24036247]])"
     },
     "execution_count": 106,
     "metadata": {},
     "output_type": "execute_result"
    }
   ],
   "source": [
    "# fit and transform training data\n",
    "preprocessor.fit_transform(X_train)"
   ],
   "metadata": {
    "collapsed": false,
    "ExecuteTime": {
     "end_time": "2024-01-18T14:20:46.691650Z",
     "start_time": "2024-01-18T14:20:46.674576Z"
    }
   },
   "id": "871adb8a14666df4",
   "execution_count": 106
  },
  {
   "cell_type": "code",
   "outputs": [
    {
     "data": {
      "text/plain": "Pipeline(steps=[('preprocessor',\n                 Pipeline(steps=[('standardscaler', StandardScaler())])),\n                ('model',\n                 XGBClassifier(base_score=None, booster=None, callbacks=None,\n                               colsample_bylevel=None, colsample_bynode=None,\n                               colsample_bytree=None, device=None,\n                               early_stopping_rounds=None,\n                               enable_categorical=False, eval_metric=None,\n                               feature_types=None, gamma=None, grow_policy=None,\n                               importance_type=None,\n                               interaction_constraints=None, learning_rate=None,\n                               max_bin=None, max_cat_threshold=None,\n                               max_cat_to_onehot=None, max_delta_step=None,\n                               max_depth=None, max_leaves=None,\n                               min_child_weight=None, missing=nan,\n                               monotone_constraints=None, multi_strategy=None,\n                               n_estimators=None, n_jobs=None,\n                               num_parallel_tree=None,\n                               objective='multi:softprob', ...))])",
      "text/html": "<style>#sk-container-id-3 {color: black;}#sk-container-id-3 pre{padding: 0;}#sk-container-id-3 div.sk-toggleable {background-color: white;}#sk-container-id-3 label.sk-toggleable__label {cursor: pointer;display: block;width: 100%;margin-bottom: 0;padding: 0.3em;box-sizing: border-box;text-align: center;}#sk-container-id-3 label.sk-toggleable__label-arrow:before {content: \"▸\";float: left;margin-right: 0.25em;color: #696969;}#sk-container-id-3 label.sk-toggleable__label-arrow:hover:before {color: black;}#sk-container-id-3 div.sk-estimator:hover label.sk-toggleable__label-arrow:before {color: black;}#sk-container-id-3 div.sk-toggleable__content {max-height: 0;max-width: 0;overflow: hidden;text-align: left;background-color: #f0f8ff;}#sk-container-id-3 div.sk-toggleable__content pre {margin: 0.2em;color: black;border-radius: 0.25em;background-color: #f0f8ff;}#sk-container-id-3 input.sk-toggleable__control:checked~div.sk-toggleable__content {max-height: 200px;max-width: 100%;overflow: auto;}#sk-container-id-3 input.sk-toggleable__control:checked~label.sk-toggleable__label-arrow:before {content: \"▾\";}#sk-container-id-3 div.sk-estimator input.sk-toggleable__control:checked~label.sk-toggleable__label {background-color: #d4ebff;}#sk-container-id-3 div.sk-label input.sk-toggleable__control:checked~label.sk-toggleable__label {background-color: #d4ebff;}#sk-container-id-3 input.sk-hidden--visually {border: 0;clip: rect(1px 1px 1px 1px);clip: rect(1px, 1px, 1px, 1px);height: 1px;margin: -1px;overflow: hidden;padding: 0;position: absolute;width: 1px;}#sk-container-id-3 div.sk-estimator {font-family: monospace;background-color: #f0f8ff;border: 1px dotted black;border-radius: 0.25em;box-sizing: border-box;margin-bottom: 0.5em;}#sk-container-id-3 div.sk-estimator:hover {background-color: #d4ebff;}#sk-container-id-3 div.sk-parallel-item::after {content: \"\";width: 100%;border-bottom: 1px solid gray;flex-grow: 1;}#sk-container-id-3 div.sk-label:hover label.sk-toggleable__label {background-color: #d4ebff;}#sk-container-id-3 div.sk-serial::before {content: \"\";position: absolute;border-left: 1px solid gray;box-sizing: border-box;top: 0;bottom: 0;left: 50%;z-index: 0;}#sk-container-id-3 div.sk-serial {display: flex;flex-direction: column;align-items: center;background-color: white;padding-right: 0.2em;padding-left: 0.2em;position: relative;}#sk-container-id-3 div.sk-item {position: relative;z-index: 1;}#sk-container-id-3 div.sk-parallel {display: flex;align-items: stretch;justify-content: center;background-color: white;position: relative;}#sk-container-id-3 div.sk-item::before, #sk-container-id-3 div.sk-parallel-item::before {content: \"\";position: absolute;border-left: 1px solid gray;box-sizing: border-box;top: 0;bottom: 0;left: 50%;z-index: -1;}#sk-container-id-3 div.sk-parallel-item {display: flex;flex-direction: column;z-index: 1;position: relative;background-color: white;}#sk-container-id-3 div.sk-parallel-item:first-child::after {align-self: flex-end;width: 50%;}#sk-container-id-3 div.sk-parallel-item:last-child::after {align-self: flex-start;width: 50%;}#sk-container-id-3 div.sk-parallel-item:only-child::after {width: 0;}#sk-container-id-3 div.sk-dashed-wrapped {border: 1px dashed gray;margin: 0 0.4em 0.5em 0.4em;box-sizing: border-box;padding-bottom: 0.4em;background-color: white;}#sk-container-id-3 div.sk-label label {font-family: monospace;font-weight: bold;display: inline-block;line-height: 1.2em;}#sk-container-id-3 div.sk-label-container {text-align: center;}#sk-container-id-3 div.sk-container {/* jupyter's `normalize.less` sets `[hidden] { display: none; }` but bootstrap.min.css set `[hidden] { display: none !important; }` so we also need the `!important` here to be able to override the default hidden behavior on the sphinx rendered scikit-learn.org. See: https://github.com/scikit-learn/scikit-learn/issues/21755 */display: inline-block !important;position: relative;}#sk-container-id-3 div.sk-text-repr-fallback {display: none;}</style><div id=\"sk-container-id-3\" class=\"sk-top-container\"><div class=\"sk-text-repr-fallback\"><pre>Pipeline(steps=[(&#x27;preprocessor&#x27;,\n                 Pipeline(steps=[(&#x27;standardscaler&#x27;, StandardScaler())])),\n                (&#x27;model&#x27;,\n                 XGBClassifier(base_score=None, booster=None, callbacks=None,\n                               colsample_bylevel=None, colsample_bynode=None,\n                               colsample_bytree=None, device=None,\n                               early_stopping_rounds=None,\n                               enable_categorical=False, eval_metric=None,\n                               feature_types=None, gamma=None, grow_policy=None,\n                               importance_type=None,\n                               interaction_constraints=None, learning_rate=None,\n                               max_bin=None, max_cat_threshold=None,\n                               max_cat_to_onehot=None, max_delta_step=None,\n                               max_depth=None, max_leaves=None,\n                               min_child_weight=None, missing=nan,\n                               monotone_constraints=None, multi_strategy=None,\n                               n_estimators=None, n_jobs=None,\n                               num_parallel_tree=None,\n                               objective=&#x27;multi:softprob&#x27;, ...))])</pre><b>In a Jupyter environment, please rerun this cell to show the HTML representation or trust the notebook. <br />On GitHub, the HTML representation is unable to render, please try loading this page with nbviewer.org.</b></div><div class=\"sk-container\" hidden><div class=\"sk-item sk-dashed-wrapped\"><div class=\"sk-label-container\"><div class=\"sk-label sk-toggleable\"><input class=\"sk-toggleable__control sk-hidden--visually\" id=\"sk-estimator-id-6\" type=\"checkbox\" ><label for=\"sk-estimator-id-6\" class=\"sk-toggleable__label sk-toggleable__label-arrow\">Pipeline</label><div class=\"sk-toggleable__content\"><pre>Pipeline(steps=[(&#x27;preprocessor&#x27;,\n                 Pipeline(steps=[(&#x27;standardscaler&#x27;, StandardScaler())])),\n                (&#x27;model&#x27;,\n                 XGBClassifier(base_score=None, booster=None, callbacks=None,\n                               colsample_bylevel=None, colsample_bynode=None,\n                               colsample_bytree=None, device=None,\n                               early_stopping_rounds=None,\n                               enable_categorical=False, eval_metric=None,\n                               feature_types=None, gamma=None, grow_policy=None,\n                               importance_type=None,\n                               interaction_constraints=None, learning_rate=None,\n                               max_bin=None, max_cat_threshold=None,\n                               max_cat_to_onehot=None, max_delta_step=None,\n                               max_depth=None, max_leaves=None,\n                               min_child_weight=None, missing=nan,\n                               monotone_constraints=None, multi_strategy=None,\n                               n_estimators=None, n_jobs=None,\n                               num_parallel_tree=None,\n                               objective=&#x27;multi:softprob&#x27;, ...))])</pre></div></div></div><div class=\"sk-serial\"><div class=\"sk-item\"><div class=\"sk-label-container\"><div class=\"sk-label sk-toggleable\"><input class=\"sk-toggleable__control sk-hidden--visually\" id=\"sk-estimator-id-7\" type=\"checkbox\" ><label for=\"sk-estimator-id-7\" class=\"sk-toggleable__label sk-toggleable__label-arrow\">preprocessor: Pipeline</label><div class=\"sk-toggleable__content\"><pre>Pipeline(steps=[(&#x27;standardscaler&#x27;, StandardScaler())])</pre></div></div></div><div class=\"sk-serial\"><div class=\"sk-item\"><div class=\"sk-estimator sk-toggleable\"><input class=\"sk-toggleable__control sk-hidden--visually\" id=\"sk-estimator-id-8\" type=\"checkbox\" ><label for=\"sk-estimator-id-8\" class=\"sk-toggleable__label sk-toggleable__label-arrow\">StandardScaler</label><div class=\"sk-toggleable__content\"><pre>StandardScaler()</pre></div></div></div></div></div><div class=\"sk-item\"><div class=\"sk-estimator sk-toggleable\"><input class=\"sk-toggleable__control sk-hidden--visually\" id=\"sk-estimator-id-9\" type=\"checkbox\" ><label for=\"sk-estimator-id-9\" class=\"sk-toggleable__label sk-toggleable__label-arrow\">XGBClassifier</label><div class=\"sk-toggleable__content\"><pre>XGBClassifier(base_score=None, booster=None, callbacks=None,\n              colsample_bylevel=None, colsample_bynode=None,\n              colsample_bytree=None, device=None, early_stopping_rounds=None,\n              enable_categorical=False, eval_metric=None, feature_types=None,\n              gamma=None, grow_policy=None, importance_type=None,\n              interaction_constraints=None, learning_rate=None, max_bin=None,\n              max_cat_threshold=None, max_cat_to_onehot=None,\n              max_delta_step=None, max_depth=None, max_leaves=None,\n              min_child_weight=None, missing=nan, monotone_constraints=None,\n              multi_strategy=None, n_estimators=None, n_jobs=None,\n              num_parallel_tree=None, objective=&#x27;multi:softprob&#x27;, ...)</pre></div></div></div></div></div></div></div>"
     },
     "execution_count": 107,
     "metadata": {},
     "output_type": "execute_result"
    }
   ],
   "source": [
    "# Create pipeline that includes preprocessing and model\n",
    "pipeline = Pipeline(steps =[('preprocessor', preprocessor),('model', model_trained)])\n",
    "pipeline"
   ],
   "metadata": {
    "collapsed": false,
    "ExecuteTime": {
     "end_time": "2024-01-18T14:20:52.390390Z",
     "start_time": "2024-01-18T14:20:52.364643Z"
    }
   },
   "id": "f0c70f72f0aed7c7",
   "execution_count": 107
  },
  {
   "cell_type": "markdown",
   "source": [
    "# Save and Load Model"
   ],
   "metadata": {
    "collapsed": false
   },
   "id": "17bb70487d212e7e"
  },
  {
   "cell_type": "code",
   "outputs": [],
   "source": [
    "# Save pipeline\n",
    "with open('gesture_classifier.pkl', 'wb') as f:\n",
    "    pickle.dump(pipeline, f)"
   ],
   "metadata": {
    "collapsed": false,
    "ExecuteTime": {
     "end_time": "2024-01-18T14:20:55.768282Z",
     "start_time": "2024-01-18T14:20:55.744043Z"
    }
   },
   "id": "6de7fb570d62d6d9",
   "execution_count": 108
  },
  {
   "cell_type": "code",
   "outputs": [],
   "source": [
    "# Load pipeline\n",
    "with open('gesture_classifier.pkl', 'rb') as f:\n",
    "    pipeline = pickle.load(f)"
   ],
   "metadata": {
    "collapsed": false,
    "ExecuteTime": {
     "end_time": "2024-01-18T22:16:45.211620Z",
     "start_time": "2024-01-18T22:16:45.153313Z"
    }
   },
   "id": "41270bc692fa7c64",
   "execution_count": 131
  },
  {
   "cell_type": "markdown",
   "source": [
    "# Make Predictions"
   ],
   "metadata": {
    "collapsed": false
   },
   "id": "5e97f43cba38bf88"
  },
  {
   "cell_type": "code",
   "outputs": [],
   "source": [
    "# Make predictions on test data\n",
    "y_pred = pipeline.predict(X_test)"
   ],
   "metadata": {
    "collapsed": false,
    "ExecuteTime": {
     "end_time": "2024-01-18T22:16:46.937027Z",
     "start_time": "2024-01-18T22:16:46.899990Z"
    }
   },
   "id": "c014f26e76eaaa88",
   "execution_count": 132
  },
  {
   "cell_type": "code",
   "outputs": [
    {
     "name": "stdout",
     "output_type": "stream",
     "text": [
      "              precision    recall  f1-score   support\n",
      "\n",
      "           0       1.00      1.00      1.00       202\n",
      "           1       1.00      1.00      1.00       198\n",
      "           2       1.00      1.00      1.00       209\n",
      "           3       1.00      1.00      1.00       220\n",
      "           4       1.00      1.00      1.00       198\n",
      "\n",
      "    accuracy                           1.00      1027\n",
      "   macro avg       1.00      1.00      1.00      1027\n",
      "weighted avg       1.00      1.00      1.00      1027\n"
     ]
    }
   ],
   "source": [
    "# Evaluate model performance\n",
    "print(classification_report(y_test, y_pred))"
   ],
   "metadata": {
    "collapsed": false,
    "ExecuteTime": {
     "end_time": "2024-01-18T22:16:47.667156Z",
     "start_time": "2024-01-18T22:16:47.639629Z"
    }
   },
   "id": "2d51c2f045a19e3e",
   "execution_count": 133
  },
  {
   "cell_type": "code",
   "outputs": [],
   "source": [
    "# Confusion matrix for predictions\n",
    "cm = confusion_matrix(y_test, y_pred)"
   ],
   "metadata": {
    "collapsed": false,
    "ExecuteTime": {
     "end_time": "2024-01-18T22:16:50.780129Z",
     "start_time": "2024-01-18T22:16:50.756785Z"
    }
   },
   "id": "c64c8817edfc8347",
   "execution_count": 134
  },
  {
   "cell_type": "code",
   "outputs": [
    {
     "data": {
      "text/plain": "<Figure size 500x500 with 1 Axes>",
      "image/png": "[encoded data removed]"
     },
     "metadata": {},
     "output_type": "display_data"
    }
   ],
   "source": [
    "# Plot confusion matrix\n",
    "plt.figure(figsize=(5, 5))\n",
    "sns.heatmap(cm, annot=True, fmt='g', vmin=0, cbar=False, cmap=\"Paired\")\n",
    "plt.xlabel('Predicted')\n",
    "plt.ylabel('Actual')\n",
    "plt.show()"
   ],
   "metadata": {
    "collapsed": false,
    "ExecuteTime": {
     "end_time": "2024-01-18T22:25:37.141992Z",
     "start_time": "2024-01-18T22:25:37.065992Z"
    }
   },
   "id": "54e9e738f057b214",
   "execution_count": 146
  },
  {
   "cell_type": "markdown",
   "source": [
    "# Results"
   ],
   "metadata": {
    "collapsed": false
   },
   "id": "c7617f43d632df11"
  },
  {
   "cell_type": "code",
   "outputs": [],
   "source": [
    "# Make predictions on all data\n",
    "y_pred_all = pipeline.predict(X)"
   ],
   "metadata": {
    "collapsed": false,
    "ExecuteTime": {
     "end_time": "2024-01-18T14:57:12.651217Z",
     "start_time": "2024-01-18T14:57:12.630835Z"
    }
   },
   "id": "83ed58a64b28d7e3",
   "execution_count": 128
  },
  {
   "cell_type": "code",
   "outputs": [
    {
     "data": {
      "text/plain": "      Actual  Predicted\n0          3          3\n1          3          3\n2          3          3\n3          3          3\n4          3          3\n...      ...        ...\n5127       2          2\n5128       2          2\n5129       2          2\n5130       2          2\n5131       2          2\n\n[5132 rows x 2 columns]",
      "text/html": "<div>\n<style scoped>\n    .dataframe tbody tr th:only-of-type {\n        vertical-align: middle;\n    }\n\n    .dataframe tbody tr th {\n        vertical-align: top;\n    }\n\n    .dataframe thead th {\n        text-align: right;\n    }\n</style>\n<table border=\"1\" class=\"dataframe\">\n  <thead>\n    <tr style=\"text-align: right;\">\n      <th></th>\n      <th>Actual</th>\n      <th>Predicted</th>\n    </tr>\n  </thead>\n  <tbody>\n    <tr>\n      <th>0</th>\n      <td>3</td>\n      <td>3</td>\n    </tr>\n    <tr>\n      <th>1</th>\n      <td>3</td>\n      <td>3</td>\n    </tr>\n    <tr>\n      <th>2</th>\n      <td>3</td>\n      <td>3</td>\n    </tr>\n    <tr>\n      <th>3</th>\n      <td>3</td>\n      <td>3</td>\n    </tr>\n    <tr>\n      <th>4</th>\n      <td>3</td>\n      <td>3</td>\n    </tr>\n    <tr>\n      <th>...</th>\n      <td>...</td>\n      <td>...</td>\n    </tr>\n    <tr>\n      <th>5127</th>\n      <td>2</td>\n      <td>2</td>\n    </tr>\n    <tr>\n      <th>5128</th>\n      <td>2</td>\n      <td>2</td>\n    </tr>\n    <tr>\n      <th>5129</th>\n      <td>2</td>\n      <td>2</td>\n    </tr>\n    <tr>\n      <th>5130</th>\n      <td>2</td>\n      <td>2</td>\n    </tr>\n    <tr>\n      <th>5131</th>\n      <td>2</td>\n      <td>2</td>\n    </tr>\n  </tbody>\n</table>\n<p>5132 rows × 2 columns</p>\n</div>"
     },
     "execution_count": 129,
     "metadata": {},
     "output_type": "execute_result"
    }
   ],
   "source": [
    "# Create DataFrame of actual and predicted labels\n",
    "results_df = pd.DataFrame({'Actual': y, 'Predicted': y_pred_all})\n",
    "results_df"
   ],
   "metadata": {
    "collapsed": false,
    "ExecuteTime": {
     "end_time": "2024-01-18T14:57:23.741137Z",
     "start_time": "2024-01-18T14:57:23.734209Z"
    }
   },
   "id": "153ef516bd7b3c44",
   "execution_count": 129
  },
  {
   "cell_type": "markdown",
   "source": [
    "# Resume of Model Performance:"
   ],
   "metadata": {
    "collapsed": false
   },
   "id": "4213cdea5d708016"
  },
  {
   "cell_type": "markdown",
   "source": [
    "Based on the results, we can see that:\n",
    "\n",
    "1. Selected model is XGBClassifier. \n",
    "2. The model has 99% accuracy, precision, recall, and F1 score.\n",
    "3. The model is not overfitting.\n",
    "4. The model can predict all data correctly.\n",
    "5. The model can predict all labels correctly.\n",
    "6. Next step is to test the model on real-time data\n",
    "7. Add more labels to the model"
   ],
   "metadata": {
    "collapsed": false
   },
   "id": "1da42d3205443f37"
  },
  {
   "cell_type": "code",
   "outputs": [],
   "source": [],
   "metadata": {
    "collapsed": false
   },
   "id": "b6e7b09f5431ebc0"
  }
 ],
 "metadata": {
  "kernelspec": {
   "display_name": "Python 3",
   "language": "python",
   "name": "python3"
  },
  "language_info": {
   "codemirror_mode": {
    "name": "ipython",
    "version": 2
   },
   "file_extension": ".py",
   "mimetype": "text/x-python",
   "name": "python",
   "nbconvert_exporter": "python",
   "pygments_lexer": "ipython2",
   "version": "2.7.6"
  }
 },
 "nbformat": 4,
 "nbformat_minor": 5
}
